{
 "cells": [
  {
   "cell_type": "code",
   "execution_count": null,
   "metadata": {},
   "outputs": [],
   "source": [
    "import config\n",
    "import pandas as pd \n",
    "import os"
   ]
  },
  {
   "cell_type": "code",
   "execution_count": null,
   "metadata": {},
   "outputs": [],
   "source": [
    "%load_ext google.cloud.bigquery"
   ]
  },
  {
   "cell_type": "code",
   "execution_count": null,
   "metadata": {},
   "outputs": [],
   "source": [
    "#Select path to credentials\n",
    "os.environ[\"GOOGLE_APPLICATION_CREDENTIALS\"]=config.GOOGLE_APPLICATION_CREDENTIALS"
   ]
  },
  {
   "cell_type": "code",
   "execution_count": null,
   "metadata": {},
   "outputs": [],
   "source": [
    "%%bigquery --use_rest_api Zip_2018\n",
    "SELECT *\n",
    "FROM `bigquery-public-data.census_bureau_acs.zip_codes_2018_5yr` "
   ]
  },
  {
   "cell_type": "code",
   "execution_count": null,
   "metadata": {},
   "outputs": [],
   "source": [
    "%%bigquery --use_rest_api Zip_2017\n",
    "SELECT *\n",
    "FROM `bigquery-public-data.census_bureau_acs.zip_codes_2017_5yr` "
   ]
  },
  {
   "cell_type": "code",
   "execution_count": null,
   "metadata": {},
   "outputs": [],
   "source": [
    "%%bigquery --use_rest_api Zip_2016\n",
    "SELECT *\n",
    "FROM `bigquery-public-data.census_bureau_acs.zip_codes_2016_5yr` "
   ]
  },
  {
   "cell_type": "code",
   "execution_count": null,
   "metadata": {},
   "outputs": [],
   "source": [
    "%%bigquery --use_rest_api Zip_2015\n",
    "SELECT *\n",
    "FROM `bigquery-public-data.census_bureau_acs.zip_codes_2015_5yr` "
   ]
  },
  {
   "cell_type": "code",
   "execution_count": null,
   "metadata": {},
   "outputs": [],
   "source": [
    "%%bigquery --use_rest_api Zip_2014\n",
    "SELECT *\n",
    "FROM `bigquery-public-data.census_bureau_acs.zip_codes_2014_5yr` "
   ]
  },
  {
   "cell_type": "code",
   "execution_count": null,
   "metadata": {},
   "outputs": [],
   "source": [
    "%%bigquery --use_rest_api Zip_2013\n",
    "SELECT *\n",
    "FROM `bigquery-public-data.census_bureau_acs.zip_codes_2013_5yr` "
   ]
  },
  {
   "cell_type": "code",
   "execution_count": null,
   "metadata": {},
   "outputs": [],
   "source": [
    "%%bigquery --use_rest_api Zip_2012\n",
    "SELECT *\n",
    "FROM `bigquery-public-data.census_bureau_acs.zip_codes_2012_5yr` "
   ]
  },
  {
   "cell_type": "code",
   "execution_count": null,
   "metadata": {},
   "outputs": [],
   "source": [
    "%%bigquery --use_rest_api Zip_2011\n",
    "SELECT *\n",
    "FROM `bigquery-public-data.census_bureau_acs.zip_codes_2011_5yr` "
   ]
  },
  {
   "cell_type": "code",
   "execution_count": null,
   "metadata": {},
   "outputs": [],
   "source": [
    "years = range(2011,2020)\n",
    "for i,data in enumerate([Zip_2011,Zip_2012,Zip_2013,Zip_2014,Zip_2015,Zip_2016,Zip_2017,Zip_2018]):\n",
    "    file = f'./pickles/ACS_Zip{years[i]}.p'\n",
    "    data.to_pickle(file, protocol = 4)"
   ]
  },
  {
   "cell_type": "code",
   "execution_count": null,
   "metadata": {},
   "outputs": [],
   "source": []
  }
 ],
 "metadata": {
  "kernelspec": {
   "display_name": "BigQuery_7park",
   "language": "python",
   "name": "bigquery_7park"
  },
  "language_info": {
   "codemirror_mode": {
    "name": "ipython",
    "version": 3
   },
   "file_extension": ".py",
   "mimetype": "text/x-python",
   "name": "python",
   "nbconvert_exporter": "python",
   "pygments_lexer": "ipython3",
   "version": "3.8.5"
  }
 },
 "nbformat": 4,
 "nbformat_minor": 4
}
