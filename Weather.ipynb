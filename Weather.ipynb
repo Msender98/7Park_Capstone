{
 "cells": [
  {
   "cell_type": "code",
   "execution_count": null,
   "metadata": {},
   "outputs": [],
   "source": [
    "import os\n",
    "import pandas as pd\n",
    "import numpy as np\n",
    "import matplotlib.pyplot as plt\n",
    "import config"
   ]
  },
  {
   "cell_type": "code",
   "execution_count": null,
   "metadata": {},
   "outputs": [],
   "source": [
    "#Load google.cloud.bigquery\n",
    "%load_ext google.cloud.bigquery"
   ]
  },
  {
   "cell_type": "code",
   "execution_count": null,
   "metadata": {},
   "outputs": [],
   "source": [
    "#Select path to credentials\n",
    "os.environ[\"GOOGLE_APPLICATION_CREDENTIALS\"]=config.GOOGLE_APPLICATION_CREDENTIALS"
   ]
  },
  {
   "cell_type": "code",
   "execution_count": null,
   "metadata": {},
   "outputs": [],
   "source": [
    "%%bigquery --use_rest_api ZRI_MF\n",
    "SELECT *\n",
    "FROM `high-empire-220313.ZRI.Multi_Family`"
   ]
  },
  {
   "cell_type": "code",
   "execution_count": null,
   "metadata": {},
   "outputs": [],
   "source": [
    "year_columns = [x for x in ZRI_MF.columns if ('20' in x)]"
   ]
  },
  {
   "cell_type": "code",
   "execution_count": null,
   "metadata": {},
   "outputs": [],
   "source": [
    "ZRI_MF_long = ZRI_MF.melt(id_vars = ['RegionID','RegionName','City','State','Metro','CountyName','SizeRank'],\n",
    "            value_vars = year_columns).rename({'value':'ZRI','variable':'Date'}, axis = 1)"
   ]
  },
  {
   "cell_type": "code",
   "execution_count": null,
   "metadata": {},
   "outputs": [],
   "source": [
    "ZRI_MF_long.loc[:,'Month'] = ZRI_MF_long['Date'].apply(lambda x: int(x[-2:]))\n",
    "ZRI_MF_long.loc[:,'Year'] = ZRI_MF_long['Date'].apply(lambda x: int(x[1:5]))"
   ]
  },
  {
   "cell_type": "markdown",
   "metadata": {},
   "source": [
    "All steps above to import the ZRI_MF column, reformat and create new columns"
   ]
  },
  {
   "cell_type": "code",
   "execution_count": null,
   "metadata": {},
   "outputs": [],
   "source": [
    "# Import three tables with weather data from big query (zipcode level information)"
   ]
  },
  {
   "cell_type": "code",
   "execution_count": null,
   "metadata": {},
   "outputs": [],
   "source": [
    "%%bigquery --use_rest_api high_temp\n",
    "SELECT *\n",
    "FROM `high-empire-220313.Weather.High_Temp_Merged`"
   ]
  },
  {
   "cell_type": "code",
   "execution_count": null,
   "metadata": {},
   "outputs": [],
   "source": [
    "%%bigquery --use_rest_api low_temp\n",
    "SELECT *\n",
    "FROM `high-empire-220313.Weather.Low_Temp_Merged`"
   ]
  },
  {
   "cell_type": "code",
   "execution_count": null,
   "metadata": {},
   "outputs": [],
   "source": [
    "%%bigquery --use_rest_api rain_fall\n",
    "SELECT *\n",
    "FROM `high-empire-220313.Weather.Rainfall_Merged`"
   ]
  },
  {
   "cell_type": "code",
   "execution_count": null,
   "metadata": {},
   "outputs": [],
   "source": [
    "# Isolate the zip code from the GEOID for each table\n",
    "high_temp.GEOID = high_temp['GEOID'].str[-5:].astype(int)\n",
    "low_temp.GEOID = low_temp['GEOID'].str[-5:].astype(int)\n",
    "rain_fall.GEOID = rain_fall['GEOID'].str[-5:].astype(int)"
   ]
  },
  {
   "cell_type": "code",
   "execution_count": null,
   "metadata": {},
   "outputs": [],
   "source": [
    "# Correct spellings and typos in month labels\n",
    "# Rename GEOID to RegionName to match ZRI Multi-Family Long form table (ZRI_MF_long)\n",
    "high_temp = high_temp.iloc[:,2:-1].rename(columns = {'GEOID':'RegionName', 'October_':'October', 'Novemebr':'November'})\n",
    "low_temp = low_temp.iloc[:,2:-1].rename(columns = {'GEOID':'RegionName', 'October_':'October', 'Novemebr':'November'})\n",
    "rain_fall = rain_fall.iloc[:,2:-1].rename(columns = {'GEOID':'RegionName', 'October_':'October', 'Novemebr':'November'})"
   ]
  },
  {
   "cell_type": "code",
   "execution_count": null,
   "metadata": {},
   "outputs": [],
   "source": [
    "# create list of month column names to be used in the pd.melt function\n",
    "months = list(high_temp.columns)[1:-1]"
   ]
  },
  {
   "cell_type": "code",
   "execution_count": null,
   "metadata": {},
   "outputs": [],
   "source": [
    "# Keep RegionName column as is\n",
    "# Move month column names to values located in one column named 'Month'\n",
    "# all weather values for related months in one column with name same as dataframe name\n",
    "high_temp = high_temp.melt(id_vars = 'RegionName', value_vars = months ).rename({'value':'High_Temp','variable':'Month'}, axis = 1)\n",
    "low_temp = low_temp.melt(id_vars = 'RegionName', value_vars = months ).rename({'value':'Low_Temp','variable':'Month'}, axis = 1)\n",
    "rain_fall = rain_fall.melt(id_vars = 'RegionName', value_vars = months ).rename({'value':'Rain_Fall','variable':'Month'}, axis = 1)"
   ]
  },
  {
   "cell_type": "code",
   "execution_count": null,
   "metadata": {},
   "outputs": [],
   "source": [
    "# create function to convert month names to month integer equivalent\n",
    "def month_string_to_number(string):\n",
    "    m = {\n",
    "        'jan': 1,\n",
    "        'feb': 2,\n",
    "        'mar': 3,\n",
    "        'apr':4,\n",
    "        'may':5,\n",
    "        'jun':6,\n",
    "        'jul':7,\n",
    "        'aug':8,\n",
    "        'sep':9,\n",
    "        'oct':10,\n",
    "        'nov':11,\n",
    "        'dec':12\n",
    "        }\n",
    "    s = string.strip()[:3].lower()\n",
    "    try:\n",
    "        out = m[s]\n",
    "        return out\n",
    "    except:\n",
    "        raise ValueError('Not a month')"
   ]
  },
  {
   "cell_type": "code",
   "execution_count": null,
   "metadata": {},
   "outputs": [],
   "source": [
    "# change all month names to integers using the above defined function\n",
    "high_temp.Month = high_temp.Month.apply(month_string_to_number)\n",
    "low_temp.Month = low_temp.Month.apply(month_string_to_number)\n",
    "rain_fall.Month = rain_fall.Month.apply(month_string_to_number)"
   ]
  },
  {
   "cell_type": "code",
   "execution_count": null,
   "metadata": {},
   "outputs": [],
   "source": [
    "weather = high_temp.merge(low_temp, how = 'outer', on = ['RegionName','Month'])\n",
    "weather = weather.merge(rain_fall, how = 'outer', on = ['RegionName','Month'])"
   ]
  },
  {
   "cell_type": "code",
   "execution_count": null,
   "metadata": {},
   "outputs": [],
   "source": [
    "from data_setup import FixID"
   ]
  },
  {
   "cell_type": "code",
   "execution_count": null,
   "metadata": {},
   "outputs": [],
   "source": [
    "weather = weather.assign(ZipCode = weather.RegionName.apply(FixID)).drop('RegionName',axis = 1)"
   ]
  },
  {
   "cell_type": "code",
   "execution_count": null,
   "metadata": {},
   "outputs": [],
   "source": [
    "weather.to_pickle('./pickles/weather.p', protocol = 4)"
   ]
  },
  {
   "cell_type": "code",
   "execution_count": null,
   "metadata": {},
   "outputs": [],
   "source": [
    "pd.set_option('display.max_rows', 150)"
   ]
  },
  {
   "cell_type": "code",
   "execution_count": null,
   "metadata": {},
   "outputs": [],
   "source": [
    "# Merge each weather dataframe with the ZRI_MF_long dataframe\n",
    "ZRI_weather = ZRI_MF_long.merge(high_temp,how = 'left', on=['RegionName','Month'])\n",
    "ZRI_weather = ZRI_weather.merge(low_temp,how = 'left', on=['RegionName','Month'])\n",
    "ZRI_weather = ZRI_weather.merge(rain_fall,how = 'left', on=['RegionName','Month'])"
   ]
  },
  {
   "cell_type": "code",
   "execution_count": null,
   "metadata": {},
   "outputs": [],
   "source": [
    "ZRI_weather.to_pickle('./pickles/ZRI_weather.p', protocol = 4)"
   ]
  },
  {
   "cell_type": "code",
   "execution_count": null,
   "metadata": {},
   "outputs": [],
   "source": []
  }
 ],
 "metadata": {
  "kernelspec": {
   "display_name": "BigQuery_7park",
   "language": "python",
   "name": "bigquery_7park"
  },
  "language_info": {
   "codemirror_mode": {
    "name": "ipython",
    "version": 3
   },
   "file_extension": ".py",
   "mimetype": "text/x-python",
   "name": "python",
   "nbconvert_exporter": "python",
   "pygments_lexer": "ipython3",
   "version": "3.8.5"
  }
 },
 "nbformat": 4,
 "nbformat_minor": 2
}
