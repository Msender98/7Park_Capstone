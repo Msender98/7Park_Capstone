{
 "cells": [
  {
   "cell_type": "code",
   "execution_count": null,
   "metadata": {},
   "outputs": [],
   "source": [
    "import requests\n",
    "import os\n",
    "import pandas as pd"
   ]
  },
  {
   "cell_type": "markdown",
   "metadata": {},
   "source": [
    "#### Purpose:\n",
    "Make one master conversion county - zip file"
   ]
  },
  {
   "cell_type": "code",
   "execution_count": null,
   "metadata": {},
   "outputs": [],
   "source": [
    "hud_url = 'https://www.huduser.gov/portal/datasets/usps/COUNTY_ZIP_'\n",
    "folder = 'geo_transform_data'\n",
    "os.mkdir(folder)"
   ]
  },
  {
   "cell_type": "code",
   "execution_count": null,
   "metadata": {},
   "outputs": [],
   "source": [
    "r = requests.get(hud_url + '032020' + '.xlsx')"
   ]
  },
  {
   "cell_type": "code",
   "execution_count": null,
   "metadata": {},
   "outputs": [],
   "source": [
    "r.status_code == 200"
   ]
  },
  {
   "cell_type": "code",
   "execution_count": null,
   "metadata": {},
   "outputs": [],
   "source": [
    "def file_download(month_year,data_add = pd.DataFrame()):\n",
    "    '''\n",
    "    For a given month during a given year (supplied as one string: 'MMYYYY')\n",
    "    download the corresponding county to zip data, save it locally to the folder specified above.\n",
    "    Also adds the data to a given dataframe (data_add), which can be saved as one file later on. \n",
    "    '''\n",
    "    file = folder + '/' + month_year + '.xlsx'\n",
    "    r = requests.get(hud_url + month_year + '.xlsx')\n",
    "    if r.status_code == 200:\n",
    "        with open(file, 'wb') as f:\n",
    "            for chunk in r.iter_content(chunk_size=1024): \n",
    "                if chunk: # filter out keep-alive new chunks\n",
    "                    f.write(chunk)\n",
    "        df = pd.read_excel(file)\n",
    "        df['date'] = month_year\n",
    "        #upper case all columns\n",
    "        df = df.rename({x:x.upper() for x in df.columns}, axis = 1)\n",
    "        if not data_add.empty:\n",
    "            data = pd.concat([df,data_add],axis = 0)\n",
    "        else:\n",
    "            data = df\n",
    "        return(data)\n",
    "    return(data_add)"
   ]
  },
  {
   "cell_type": "code",
   "execution_count": null,
   "metadata": {},
   "outputs": [],
   "source": [
    "months = ['03','06','09','12']\n",
    "years = ['2010','2011','2012','2013','2014','2015','2016','2017','2018','2019','2020']*4\n",
    "years.sort()\n",
    "dates = [a+b for (a,b) in zip(months*11,years)]"
   ]
  },
  {
   "cell_type": "code",
   "execution_count": null,
   "metadata": {},
   "outputs": [],
   "source": [
    "data = file_download(dates[0])"
   ]
  },
  {
   "cell_type": "code",
   "execution_count": null,
   "metadata": {},
   "outputs": [],
   "source": [
    "for date in dates[1:]:\n",
    "    data = file_download(date,data_add = data)"
   ]
  },
  {
   "cell_type": "code",
   "execution_count": null,
   "metadata": {},
   "outputs": [],
   "source": [
    "data = data.drop(' ',axis = 1)"
   ]
  },
  {
   "cell_type": "code",
   "execution_count": null,
   "metadata": {},
   "outputs": [],
   "source": [
    "data.to_csv(folder + '/county_zip_all.csv')"
   ]
  }
 ],
 "metadata": {
  "kernelspec": {
   "display_name": "Python 3",
   "language": "python",
   "name": "python3"
  },
  "language_info": {
   "codemirror_mode": {
    "name": "ipython",
    "version": 3
   },
   "file_extension": ".py",
   "mimetype": "text/x-python",
   "name": "python",
   "nbconvert_exporter": "python",
   "pygments_lexer": "ipython3",
   "version": "3.8.5"
  }
 },
 "nbformat": 4,
 "nbformat_minor": 4
}
