{
 "cells": [
  {
   "cell_type": "code",
   "execution_count": 1,
   "metadata": {},
   "outputs": [],
   "source": [
    "import os\n",
    "import pandas as pd\n",
    "import numpy as np\n",
    "import matplotlib.pyplot as plt\n",
    "import config"
   ]
  },
  {
   "cell_type": "code",
   "execution_count": 2,
   "metadata": {},
   "outputs": [],
   "source": [
    "#Load google.cloud.bigquery\n",
    "%load_ext google.cloud.bigquery"
   ]
  },
  {
   "cell_type": "code",
   "execution_count": 3,
   "metadata": {},
   "outputs": [],
   "source": [
    "#Select path to credentials\n",
    "os.environ[\"GOOGLE_APPLICATION_CREDENTIALS\"]=config.GOOGLE_APPLICATION_CREDENTIALS"
   ]
  },
  {
   "cell_type": "code",
   "execution_count": 4,
   "metadata": {},
   "outputs": [],
   "source": [
    "%%bigquery --use_rest_api ZRI_MF\n",
    "SELECT *\n",
    "FROM `high-empire-220313.ZRI.Multi_Family`"
   ]
  },
  {
   "cell_type": "code",
   "execution_count": 5,
   "metadata": {},
   "outputs": [],
   "source": [
    "from data_setup import ZRI_format"
   ]
  },
  {
   "cell_type": "code",
   "execution_count": 86,
   "metadata": {},
   "outputs": [
    {
     "name": "stdout",
     "output_type": "stream",
     "text": [
      "Wall time: 2.6 s\n"
     ]
    }
   ],
   "source": [
    "%%time\n",
    "ZRI_new = ZRI_format(ZRI_MF, time_unit = 'Year', window_size = 3, future_time = 4)"
   ]
  },
  {
   "cell_type": "code",
   "execution_count": 87,
   "metadata": {},
   "outputs": [
    {
     "data": {
      "text/html": [
       "<div>\n",
       "<style scoped>\n",
       "    .dataframe tbody tr th:only-of-type {\n",
       "        vertical-align: middle;\n",
       "    }\n",
       "\n",
       "    .dataframe tbody tr th {\n",
       "        vertical-align: top;\n",
       "    }\n",
       "\n",
       "    .dataframe thead th {\n",
       "        text-align: right;\n",
       "    }\n",
       "</style>\n",
       "<table border=\"1\" class=\"dataframe\">\n",
       "  <thead>\n",
       "    <tr style=\"text-align: right;\">\n",
       "      <th></th>\n",
       "      <th>Target_index</th>\n",
       "      <th>Target_ZRI</th>\n",
       "      <th>Year</th>\n",
       "      <th>ZRI_minus_5_Y</th>\n",
       "      <th>ZRI_minus_6_Y</th>\n",
       "      <th>ZRI_minus_7_Y</th>\n",
       "      <th>ZipCode</th>\n",
       "    </tr>\n",
       "  </thead>\n",
       "  <tbody>\n",
       "    <tr>\n",
       "      <th>0</th>\n",
       "      <td>201001013</td>\n",
       "      <td>994.25</td>\n",
       "      <td>2010.0</td>\n",
       "      <td>NaN</td>\n",
       "      <td>NaN</td>\n",
       "      <td>NaN</td>\n",
       "      <td>01013</td>\n",
       "    </tr>\n",
       "    <tr>\n",
       "      <th>1</th>\n",
       "      <td>201001020</td>\n",
       "      <td>1053.00</td>\n",
       "      <td>2010.0</td>\n",
       "      <td>NaN</td>\n",
       "      <td>NaN</td>\n",
       "      <td>NaN</td>\n",
       "      <td>01020</td>\n",
       "    </tr>\n",
       "    <tr>\n",
       "      <th>2</th>\n",
       "      <td>201001040</td>\n",
       "      <td>1006.00</td>\n",
       "      <td>2010.0</td>\n",
       "      <td>NaN</td>\n",
       "      <td>NaN</td>\n",
       "      <td>NaN</td>\n",
       "      <td>01040</td>\n",
       "    </tr>\n",
       "    <tr>\n",
       "      <th>3</th>\n",
       "      <td>201001085</td>\n",
       "      <td>NaN</td>\n",
       "      <td>2010.0</td>\n",
       "      <td>NaN</td>\n",
       "      <td>NaN</td>\n",
       "      <td>NaN</td>\n",
       "      <td>01085</td>\n",
       "    </tr>\n",
       "    <tr>\n",
       "      <th>4</th>\n",
       "      <td>201001089</td>\n",
       "      <td>NaN</td>\n",
       "      <td>2010.0</td>\n",
       "      <td>NaN</td>\n",
       "      <td>NaN</td>\n",
       "      <td>NaN</td>\n",
       "      <td>01089</td>\n",
       "    </tr>\n",
       "    <tr>\n",
       "      <th>...</th>\n",
       "      <td>...</td>\n",
       "      <td>...</td>\n",
       "      <td>...</td>\n",
       "      <td>...</td>\n",
       "      <td>...</td>\n",
       "      <td>...</td>\n",
       "      <td>...</td>\n",
       "    </tr>\n",
       "    <tr>\n",
       "      <th>20466</th>\n",
       "      <td>202099501</td>\n",
       "      <td>1281.00</td>\n",
       "      <td>2020.0</td>\n",
       "      <td>1301.083333</td>\n",
       "      <td>1308.363636</td>\n",
       "      <td>NaN</td>\n",
       "      <td>99501</td>\n",
       "    </tr>\n",
       "    <tr>\n",
       "      <th>20467</th>\n",
       "      <td>202099504</td>\n",
       "      <td>1443.00</td>\n",
       "      <td>2020.0</td>\n",
       "      <td>1529.583333</td>\n",
       "      <td>1506.916667</td>\n",
       "      <td>1513.916667</td>\n",
       "      <td>99504</td>\n",
       "    </tr>\n",
       "    <tr>\n",
       "      <th>20468</th>\n",
       "      <td>202099508</td>\n",
       "      <td>1283.00</td>\n",
       "      <td>2020.0</td>\n",
       "      <td>1334.500000</td>\n",
       "      <td>1325.416667</td>\n",
       "      <td>1294.000000</td>\n",
       "      <td>99508</td>\n",
       "    </tr>\n",
       "    <tr>\n",
       "      <th>20469</th>\n",
       "      <td>202099654</td>\n",
       "      <td>NaN</td>\n",
       "      <td>2020.0</td>\n",
       "      <td>1228.000000</td>\n",
       "      <td>1218.545455</td>\n",
       "      <td>NaN</td>\n",
       "      <td>99654</td>\n",
       "    </tr>\n",
       "    <tr>\n",
       "      <th>20470</th>\n",
       "      <td>202099701</td>\n",
       "      <td>1294.00</td>\n",
       "      <td>2020.0</td>\n",
       "      <td>NaN</td>\n",
       "      <td>NaN</td>\n",
       "      <td>NaN</td>\n",
       "      <td>99701</td>\n",
       "    </tr>\n",
       "  </tbody>\n",
       "</table>\n",
       "<p>20471 rows × 7 columns</p>\n",
       "</div>"
      ],
      "text/plain": [
       "      Target_index  Target_ZRI    Year  ZRI_minus_5_Y  ZRI_minus_6_Y  \\\n",
       "0        201001013      994.25  2010.0            NaN            NaN   \n",
       "1        201001020     1053.00  2010.0            NaN            NaN   \n",
       "2        201001040     1006.00  2010.0            NaN            NaN   \n",
       "3        201001085         NaN  2010.0            NaN            NaN   \n",
       "4        201001089         NaN  2010.0            NaN            NaN   \n",
       "...            ...         ...     ...            ...            ...   \n",
       "20466    202099501     1281.00  2020.0    1301.083333    1308.363636   \n",
       "20467    202099504     1443.00  2020.0    1529.583333    1506.916667   \n",
       "20468    202099508     1283.00  2020.0    1334.500000    1325.416667   \n",
       "20469    202099654         NaN  2020.0    1228.000000    1218.545455   \n",
       "20470    202099701     1294.00  2020.0            NaN            NaN   \n",
       "\n",
       "       ZRI_minus_7_Y ZipCode  \n",
       "0                NaN   01013  \n",
       "1                NaN   01020  \n",
       "2                NaN   01040  \n",
       "3                NaN   01085  \n",
       "4                NaN   01089  \n",
       "...              ...     ...  \n",
       "20466            NaN   99501  \n",
       "20467    1513.916667   99504  \n",
       "20468    1294.000000   99508  \n",
       "20469            NaN   99654  \n",
       "20470            NaN   99701  \n",
       "\n",
       "[20471 rows x 7 columns]"
      ]
     },
     "execution_count": 87,
     "metadata": {},
     "output_type": "execute_result"
    }
   ],
   "source": [
    "ZRI_new"
   ]
  },
  {
   "cell_type": "code",
   "execution_count": 88,
   "metadata": {},
   "outputs": [],
   "source": [
    "from sklearn.linear_model import LinearRegression, RidgeCV, Lasso\n",
    "from sklearn.model_selection import train_test_split\n",
    "from collections import defaultdict"
   ]
  },
  {
   "cell_type": "code",
   "execution_count": 73,
   "metadata": {},
   "outputs": [],
   "source": [
    "#Imputation Strategy\n",
    "#Dropna for now\n",
    "ZRI_new = ZRI_new.dropna()"
   ]
  },
  {
   "cell_type": "code",
   "execution_count": 74,
   "metadata": {},
   "outputs": [],
   "source": [
    "#Find feature columns\n",
    "feature_columns = [x for x in ZRI_new.columns if 'minus' in x]"
   ]
  },
  {
   "cell_type": "code",
   "execution_count": 75,
   "metadata": {},
   "outputs": [],
   "source": [
    "#Train test split, test data is above a given year\n",
    "test_year = 2019\n",
    "training_data = ZRI_new[ZRI_new.Year < test_year]\n",
    "final_test_data = ZRI_new[ZRI_new.Year > test_year]"
   ]
  },
  {
   "cell_type": "code",
   "execution_count": 76,
   "metadata": {},
   "outputs": [],
   "source": [
    " X_train, X_test, y_train, y_test = train_test_split(training_data[feature_columns],\n",
    "                                                     training_data['Target_ZRI'],\n",
    "                                                     test_size = .1\n",
    "                                                    ) "
   ]
  },
  {
   "cell_type": "code",
   "execution_count": 78,
   "metadata": {},
   "outputs": [],
   "source": [
    "lr = RidgeCV()"
   ]
  },
  {
   "cell_type": "code",
   "execution_count": 79,
   "metadata": {},
   "outputs": [
    {
     "data": {
      "text/plain": [
       "RidgeCV(alphas=array([ 0.1,  1. , 10. ]))"
      ]
     },
     "execution_count": 79,
     "metadata": {},
     "output_type": "execute_result"
    }
   ],
   "source": [
    "lr.fit(X_train,y_train)"
   ]
  },
  {
   "cell_type": "code",
   "execution_count": 80,
   "metadata": {},
   "outputs": [
    {
     "data": {
      "text/plain": [
       "(0.9914497763739754, 0.9914387094055347)"
      ]
     },
     "execution_count": 80,
     "metadata": {},
     "output_type": "execute_result"
    }
   ],
   "source": [
    "lr.score(X_test,y_test), lr.score(X_train, y_train)"
   ]
  },
  {
   "cell_type": "code",
   "execution_count": 81,
   "metadata": {},
   "outputs": [],
   "source": [
    "prediction_error = final_test_data['Target_ZRI'] - lr.predict(final_test_data[feature_columns])"
   ]
  },
  {
   "cell_type": "code",
   "execution_count": 82,
   "metadata": {},
   "outputs": [
    {
     "data": {
      "text/plain": [
       "count    1392.000000\n",
       "mean      -18.023939\n",
       "std        62.773345\n",
       "min      -497.541831\n",
       "25%       -46.867705\n",
       "50%       -11.610827\n",
       "75%        18.241855\n",
       "max       163.849840\n",
       "Name: Target_ZRI, dtype: float64"
      ]
     },
     "execution_count": 82,
     "metadata": {},
     "output_type": "execute_result"
    }
   ],
   "source": [
    "prediction_error.describe()"
   ]
  },
  {
   "cell_type": "code",
   "execution_count": 84,
   "metadata": {},
   "outputs": [
    {
     "data": {
      "text/plain": [
       "(array([ 2.2353101 , -1.90489661,  0.67738555]), 10.0)"
      ]
     },
     "execution_count": 84,
     "metadata": {},
     "output_type": "execute_result"
    }
   ],
   "source": [
    "lr.coef_, lr.alpha_"
   ]
  },
  {
   "cell_type": "code",
   "execution_count": 141,
   "metadata": {},
   "outputs": [],
   "source": [
    "window_sizes = list(range(1,5))\n",
    "future_time = 1\n",
    "\n",
    "num_obs = defaultdict()\n",
    "errors = defaultdict()\n",
    "scores = defaultdict()\n",
    "\n",
    "for window_size in window_sizes:\n",
    "    ZRI_new = ZRI_format(ZRI_MF, time_unit = 'Quarter', \n",
    "                         window_size = window_size,\n",
    "                         future_time = future_time)\n",
    "    ZRI_new = ZRI_new.dropna()\n",
    "    num_obs[window_size] = ZRI_new.shape[0]\n",
    "    feature_columns = [x for x in ZRI_new.columns if 'minus' in x]\n",
    "    test_year = 2019\n",
    "    training_data = ZRI_new[ZRI_new.Year < test_year]\n",
    "    final_test_data = ZRI_new[ZRI_new.Year > test_year]\n",
    "    X_train, X_test, y_train, y_test = train_test_split(training_data[feature_columns],\n",
    "                                                     training_data['Target_ZRI'],\n",
    "                                                     test_size = .1\n",
    "                                                    ) \n",
    "    lr = LinearRegression()\n",
    "    lr.fit(X_train,y_train)\n",
    "    scores[window_size] = (lr.score(X_test,y_test), lr.score(X_train, y_train))\n",
    "    errors[window_size] = final_test_data['Target_ZRI'] - lr.predict(final_test_data[feature_columns])\n",
    "    "
   ]
  },
  {
   "cell_type": "code",
   "execution_count": null,
   "metadata": {},
   "outputs": [],
   "source": [
    "plt.boxplot(list(map(lambda x: x.apply(lambda y: np.log10(abs(y))),errors.values())))"
   ]
  },
  {
   "cell_type": "code",
   "execution_count": null,
   "metadata": {},
   "outputs": [],
   "source": [
    "pd.DataFrame(errors).describe()"
   ]
  }
 ],
 "metadata": {
  "kernelspec": {
   "display_name": "BigQuery_7park",
   "language": "python",
   "name": "bigquery_7park"
  },
  "language_info": {
   "codemirror_mode": {
    "name": "ipython",
    "version": 3
   },
   "file_extension": ".py",
   "mimetype": "text/x-python",
   "name": "python",
   "nbconvert_exporter": "python",
   "pygments_lexer": "ipython3",
   "version": "3.8.5"
  }
 },
 "nbformat": 4,
 "nbformat_minor": 4
}
