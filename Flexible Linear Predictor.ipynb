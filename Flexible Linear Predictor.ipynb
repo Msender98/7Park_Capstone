{
 "cells": [
  {
   "cell_type": "code",
   "execution_count": null,
   "metadata": {},
   "outputs": [],
   "source": [
    "import os\n",
    "import pandas as pd\n",
    "import numpy as np\n",
    "import matplotlib.pyplot as plt\n",
    "import config\n",
    "import pickle"
   ]
  },
  {
   "cell_type": "code",
   "execution_count": null,
   "metadata": {},
   "outputs": [],
   "source": [
    "#Load google.cloud.bigquery\n",
    "%load_ext google.cloud.bigquery"
   ]
  },
  {
   "cell_type": "code",
   "execution_count": null,
   "metadata": {},
   "outputs": [],
   "source": [
    "#Select path to credentials\n",
    "os.environ[\"GOOGLE_APPLICATION_CREDENTIALS\"]=config.GOOGLE_APPLICATION_CREDENTIALS"
   ]
  },
  {
   "cell_type": "code",
   "execution_count": null,
   "metadata": {},
   "outputs": [],
   "source": [
    "%%bigquery --use_rest_api ZRI_MF\n",
    "SELECT *\n",
    "FROM `high-empire-220313.ZRI.Multi_Family`"
   ]
  },
  {
   "cell_type": "code",
   "execution_count": null,
   "metadata": {},
   "outputs": [],
   "source": [
    "file = open('pickles/ZRI_filtered.p','rb')\n",
    "ZRI_filtered = pickle.load(file)"
   ]
  },
  {
   "cell_type": "code",
   "execution_count": null,
   "metadata": {},
   "outputs": [],
   "source": [
    "from data_setup import ZRI_format"
   ]
  },
  {
   "cell_type": "code",
   "execution_count": null,
   "metadata": {},
   "outputs": [],
   "source": [
    "%%time\n",
    "time_unit = 'Month'\n",
    "window_size = 6\n",
    "future_time = 1\n",
    "\n",
    "ZRI_diff = ZRI_format(ZRI_filtered, time_unit = time_unit, window_size = window_size, future_time = future_time, percent_change=True)\n",
    "ZRI_actual = ZRI_format(ZRI_filtered, time_unit = time_unit, window_size = window_size, future_time = future_time)"
   ]
  },
  {
   "cell_type": "code",
   "execution_count": null,
   "metadata": {},
   "outputs": [],
   "source": [
    "#Adding real ZRI as a feature. (Either average over past n time_units, or past n as separate features)\n",
    "feature_columns = [x for x in ZRI_diff.columns if 'minus' in x]\n",
    "#Rename feature columns of %difference dataframe\n",
    "ZRI_diff = ZRI_diff.rename({i:i+'_%difference' for i in feature_columns}, axis =1)"
   ]
  },
  {
   "cell_type": "code",
   "execution_count": null,
   "metadata": {},
   "outputs": [],
   "source": [
    "ZRI_new = ZRI_diff.merge(ZRI_actual[feature_columns+['Target_index']],how = 'left',on = 'Target_index')"
   ]
  },
  {
   "cell_type": "code",
   "execution_count": null,
   "metadata": {},
   "outputs": [],
   "source": [
    "ZRI_new.head()"
   ]
  },
  {
   "cell_type": "code",
   "execution_count": null,
   "metadata": {},
   "outputs": [],
   "source": [
    "from sklearn.linear_model import LinearRegression, RidgeCV, Lasso\n",
    "from sklearn.model_selection import train_test_split\n",
    "from collections import defaultdict"
   ]
  },
  {
   "cell_type": "code",
   "execution_count": null,
   "metadata": {},
   "outputs": [],
   "source": [
    "#Find feature columns\n",
    "feature_columns = [x for x in ZRI_new.columns if 'minus' in x]"
   ]
  },
  {
   "cell_type": "code",
   "execution_count": null,
   "metadata": {},
   "outputs": [],
   "source": [
    "#Drop nan values generated from the difference\n",
    "ZRI_new = ZRI_new.dropna()"
   ]
  },
  {
   "cell_type": "code",
   "execution_count": null,
   "metadata": {},
   "outputs": [],
   "source": [
    "#Train test split, test data is above a given year\n",
    "test_year = 2019\n",
    "training_data = ZRI_new[ZRI_new.Year < test_year]\n",
    "final_test_data = ZRI_new[ZRI_new.Year >= test_year]"
   ]
  },
  {
   "cell_type": "code",
   "execution_count": null,
   "metadata": {},
   "outputs": [],
   "source": [
    "#  X_train, X_test, y_train, y_test = train_test_split(training_data[feature_columns],\n",
    "#                                                      training_data['Target_ZRI'],\n",
    "#                                                      test_size = .1\n",
    "#                                                     ) \n",
    "X_train, y_train = training_data[feature_columns], training_data['Target_ZRI']"
   ]
  },
  {
   "cell_type": "code",
   "execution_count": null,
   "metadata": {},
   "outputs": [],
   "source": [
    "lr = LinearRegression()"
   ]
  },
  {
   "cell_type": "code",
   "execution_count": null,
   "metadata": {},
   "outputs": [],
   "source": [
    "lr.fit(X_train,y_train)"
   ]
  },
  {
   "cell_type": "code",
   "execution_count": null,
   "metadata": {},
   "outputs": [],
   "source": [
    "lr.score(X_train, y_train)"
   ]
  },
  {
   "cell_type": "code",
   "execution_count": null,
   "metadata": {},
   "outputs": [],
   "source": [
    "prediction_error = final_test_data['Target_ZRI'] - lr.predict(final_test_data[feature_columns])"
   ]
  },
  {
   "cell_type": "code",
   "execution_count": null,
   "metadata": {},
   "outputs": [],
   "source": [
    "prediction_error.describe()"
   ]
  },
  {
   "cell_type": "code",
   "execution_count": null,
   "metadata": {},
   "outputs": [],
   "source": [
    "lr.coef_"
   ]
  },
  {
   "cell_type": "markdown",
   "metadata": {},
   "source": [
    "### Classification Problem\n",
    "To make this easier we can reframe the problem as a classification problem. Does the rent go up or down. (Staying the same counts as going down?)"
   ]
  },
  {
   "cell_type": "code",
   "execution_count": null,
   "metadata": {},
   "outputs": [],
   "source": [
    "ZRI_new['ZRI_class'] = ZRI_new['Target_ZRI'].apply(lambda x: 1 if x>0 else -1)\n",
    "ZRI_new = ZRI_new.dropna()\n",
    "#Find feature columns\n",
    "feature_columns = [x for x in ZRI_new.columns if 'minus' in x]"
   ]
  },
  {
   "cell_type": "code",
   "execution_count": null,
   "metadata": {},
   "outputs": [],
   "source": [
    "from sklearn.linear_model import LogisticRegression\n",
    "from sklearn.preprocessing import StandardScaler\n",
    "from sklearn.pipeline import make_pipeline\n",
    "from sklearn.metrics import confusion_matrix"
   ]
  },
  {
   "cell_type": "code",
   "execution_count": null,
   "metadata": {},
   "outputs": [],
   "source": [
    "logistic_regression = LogisticRegression(class_weight='balanced')\n",
    "binary_model = make_pipeline(StandardScaler(),logistic_regression)"
   ]
  },
  {
   "cell_type": "code",
   "execution_count": null,
   "metadata": {},
   "outputs": [],
   "source": [
    "#Train test split, test data is above a given year\n",
    "test_year = 2019\n",
    "training_data = ZRI_new[ZRI_new.Year < test_year]\n",
    "final_test_data = ZRI_new[ZRI_new.Year >= test_year]\n",
    "X_train, y_train = training_data[feature_columns], training_data['ZRI_class']\n",
    "X_test, y_test = final_test_data[feature_columns], final_test_data['ZRI_class']"
   ]
  },
  {
   "cell_type": "code",
   "execution_count": null,
   "metadata": {},
   "outputs": [],
   "source": [
    "binary_model.fit(X_train,y_train)"
   ]
  },
  {
   "cell_type": "code",
   "execution_count": null,
   "metadata": {},
   "outputs": [],
   "source": [
    "binary_model.score(X_train,y_train), binary_model.score(X_test,y_test)"
   ]
  },
  {
   "cell_type": "code",
   "execution_count": null,
   "metadata": {},
   "outputs": [],
   "source": [
    "confusion_matrix(y_test, binary_model.predict(X_test))"
   ]
  },
  {
   "cell_type": "code",
   "execution_count": null,
   "metadata": {},
   "outputs": [],
   "source": []
  },
  {
   "cell_type": "markdown",
   "metadata": {},
   "source": [
    "### Model Tuning\n",
    "See the effect of window size and future time on the predictive power of the model:"
   ]
  },
  {
   "cell_type": "code",
   "execution_count": null,
   "metadata": {},
   "outputs": [],
   "source": [
    "window_sizes = list(range(1,13))\n",
    "future_time = 12\n",
    "time_unit = 'Month'\n",
    "num_obs = defaultdict()\n",
    "errors = defaultdict()\n",
    "scores1 = defaultdict()\n",
    "coefficients = defaultdict()\n",
    "\n",
    "for window_size in window_sizes:\n",
    "    ZRI_new = ZRI_format(ZRI_filtered, time_unit = time_unit, \n",
    "                         window_size = window_size,\n",
    "                         future_time = future_time)\n",
    "    ZRI_new = ZRI_new.dropna()\n",
    "    num_obs[window_size] = ZRI_new.shape[0]\n",
    "    feature_columns = [x for x in ZRI_new.columns if 'minus' in x]\n",
    "    test_year = 2019\n",
    "    training_data = ZRI_new[ZRI_new.Year < test_year]\n",
    "    final_test_data = ZRI_new[ZRI_new.Year >= test_year]\n",
    "    most_recent_feature = f'ZRI_minus_{future_time}{time_unit[0]}'\n",
    "    X_train, y_train = training_data[feature_columns], training_data['Target_ZRI']\n",
    "    X_test, y_test = final_test_data[feature_columns], final_test_data['Target_ZRI']                                         \n",
    "                                                   \n",
    "    lr = LinearRegression()\n",
    "    lr.fit(X_train,y_train)\n",
    "    coefficients[window_size] = defaultdict()\n",
    "    scores1[window_size] = (lr.score(X_test,y_test), lr.score(X_train, y_train))\n",
    "    errors[window_size] = (y_test - \n",
    "                           lr.predict(X_test)).div(final_test_data[most_recent_feature])\n",
    "    "
   ]
  },
  {
   "cell_type": "code",
   "execution_count": null,
   "metadata": {},
   "outputs": [],
   "source": [
    "plt.boxplot(errors.values())"
   ]
  },
  {
   "cell_type": "code",
   "execution_count": null,
   "metadata": {},
   "outputs": [],
   "source": [
    "plt.boxplot(list(map(lambda x: x.apply(lambda y: np.log10(y+1250)),errors.values())))"
   ]
  },
  {
   "cell_type": "code",
   "execution_count": null,
   "metadata": {},
   "outputs": [],
   "source": [
    "pd.DataFrame(errors).describe()"
   ]
  },
  {
   "cell_type": "code",
   "execution_count": null,
   "metadata": {},
   "outputs": [],
   "source": [
    "test,train = [test for test,train in scores.values()],[train for test,train in scores.values()]"
   ]
  },
  {
   "cell_type": "code",
   "execution_count": null,
   "metadata": {},
   "outputs": [],
   "source": [
    "test1,train1 = [test for test,train in scores1.values()],[train for test,train in scores1.values()]"
   ]
  },
  {
   "cell_type": "code",
   "execution_count": null,
   "metadata": {},
   "outputs": [],
   "source": [
    "plt.plot(test, label = 'test_3_year')\n",
    "plt.plot(train, label = 'train_3_year')\n",
    "plt.plot(test1, label = 'test_1_year')\n",
    "plt.plot(train1, label = 'train_1_year')\n",
    "plt.title('Forecast R^2')\n",
    "plt.xlabel('Time Window (Months)')\n",
    "plt.legend(loc = 'upper left')"
   ]
  },
  {
   "cell_type": "code",
   "execution_count": null,
   "metadata": {},
   "outputs": [],
   "source": [
    "(final_test_data['Target_ZRI'] - lr.predict(final_test_data[feature_columns]))#.div(final_test_data[most_recent_feature])"
   ]
  },
  {
   "cell_type": "code",
   "execution_count": null,
   "metadata": {},
   "outputs": [],
   "source": []
  }
 ],
 "metadata": {
  "kernelspec": {
   "display_name": "BigQuery_7park",
   "language": "python",
   "name": "bigquery_7park"
  },
  "language_info": {
   "codemirror_mode": {
    "name": "ipython",
    "version": 3
   },
   "file_extension": ".py",
   "mimetype": "text/x-python",
   "name": "python",
   "nbconvert_exporter": "python",
   "pygments_lexer": "ipython3",
   "version": "3.8.5"
  }
 },
 "nbformat": 4,
 "nbformat_minor": 4
}
