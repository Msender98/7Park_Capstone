{
 "cells": [
  {
   "cell_type": "code",
   "execution_count": 1,
   "metadata": {},
   "outputs": [],
   "source": [
    "import os\n",
    "import pandas as pd\n",
    "import numpy as np\n",
    "import matplotlib.pyplot as plt\n",
    "import config\n",
    "import pickle"
   ]
  },
  {
   "cell_type": "code",
   "execution_count": 2,
   "metadata": {},
   "outputs": [],
   "source": [
    "#Load google.cloud.bigquery\n",
    "%load_ext google.cloud.bigquery"
   ]
  },
  {
   "cell_type": "code",
   "execution_count": 3,
   "metadata": {},
   "outputs": [],
   "source": [
    "#Select path to credentials\n",
    "os.environ[\"GOOGLE_APPLICATION_CREDENTIALS\"]=config.GOOGLE_APPLICATION_CREDENTIALS"
   ]
  },
  {
   "cell_type": "code",
   "execution_count": null,
   "metadata": {},
   "outputs": [],
   "source": [
    "%%bigquery --use_rest_api ZRI_MF\n",
    "SELECT *\n",
    "FROM `high-empire-220313.ZRI.Multi_Family`"
   ]
  },
  {
   "cell_type": "code",
   "execution_count": 4,
   "metadata": {},
   "outputs": [],
   "source": [
    "file = open('pickles/ZRI_filtered.p','rb')\n",
    "ZRI_filtered = pickle.load(file)"
   ]
  },
  {
   "cell_type": "code",
   "execution_count": 5,
   "metadata": {},
   "outputs": [],
   "source": [
    "from data_setup import ZRI_format"
   ]
  },
  {
   "cell_type": "code",
   "execution_count": 34,
   "metadata": {},
   "outputs": [
    {
     "name": "stdout",
     "output_type": "stream",
     "text": [
      "Wall time: 2min 1s\n"
     ]
    }
   ],
   "source": [
    "%%time\n",
    "time_unit = 'Month'\n",
    "window_size = 9\n",
    "future_time = 1\n",
    "\n",
    "ZRI_diff = ZRI_format(ZRI_filtered, time_unit = time_unit, window_size = window_size, future_time = future_time, percent_change=True)\n",
    "ZRI_actual = ZRI_format(ZRI_filtered, time_unit = time_unit, window_size = window_size, future_time = future_time)"
   ]
  },
  {
   "cell_type": "code",
   "execution_count": 35,
   "metadata": {},
   "outputs": [],
   "source": [
    "#Adding real ZRI as a feature. (Either average over past n time_units, or past n as separate features)\n",
    "feature_columns = [x for x in ZRI_diff.columns if 'minus' in x]\n",
    "#Rename feature columns of %difference dataframe\n",
    "ZRI_diff = ZRI_diff.rename({i:i+'_%difference' for i in feature_columns}, axis =1)"
   ]
  },
  {
   "cell_type": "code",
   "execution_count": 36,
   "metadata": {},
   "outputs": [],
   "source": [
    "ZRI_new = ZRI_diff.merge(ZRI_actual[feature_columns+['Target_index']],how = 'left',on = 'Target_index')"
   ]
  },
  {
   "cell_type": "code",
   "execution_count": 37,
   "metadata": {},
   "outputs": [
    {
     "data": {
      "text/html": [
       "<div>\n",
       "<style scoped>\n",
       "    .dataframe tbody tr th:only-of-type {\n",
       "        vertical-align: middle;\n",
       "    }\n",
       "\n",
       "    .dataframe tbody tr th {\n",
       "        vertical-align: top;\n",
       "    }\n",
       "\n",
       "    .dataframe thead th {\n",
       "        text-align: right;\n",
       "    }\n",
       "</style>\n",
       "<table border=\"1\" class=\"dataframe\">\n",
       "  <thead>\n",
       "    <tr style=\"text-align: right;\">\n",
       "      <th></th>\n",
       "      <th>Target_index</th>\n",
       "      <th>Missing_Months</th>\n",
       "      <th>Target_ZRI</th>\n",
       "      <th>Month</th>\n",
       "      <th>Year</th>\n",
       "      <th>ZRI_minus_1M_%difference</th>\n",
       "      <th>ZRI_minus_2M_%difference</th>\n",
       "      <th>ZRI_minus_3M_%difference</th>\n",
       "      <th>ZRI_minus_4M_%difference</th>\n",
       "      <th>ZRI_minus_5M_%difference</th>\n",
       "      <th>...</th>\n",
       "      <th>ZipCode</th>\n",
       "      <th>ZRI_minus_1M</th>\n",
       "      <th>ZRI_minus_2M</th>\n",
       "      <th>ZRI_minus_3M</th>\n",
       "      <th>ZRI_minus_4M</th>\n",
       "      <th>ZRI_minus_5M</th>\n",
       "      <th>ZRI_minus_6M</th>\n",
       "      <th>ZRI_minus_7M</th>\n",
       "      <th>ZRI_minus_8M</th>\n",
       "      <th>ZRI_minus_9M</th>\n",
       "    </tr>\n",
       "  </thead>\n",
       "  <tbody>\n",
       "    <tr>\n",
       "      <th>0</th>\n",
       "      <td>01013M10Y2014</td>\n",
       "      <td>0</td>\n",
       "      <td>0.000000</td>\n",
       "      <td>10</td>\n",
       "      <td>2014</td>\n",
       "      <td>0.006383</td>\n",
       "      <td>0.010753</td>\n",
       "      <td>0.001076</td>\n",
       "      <td>0.000000</td>\n",
       "      <td>0.000000</td>\n",
       "      <td>...</td>\n",
       "      <td>Y2014</td>\n",
       "      <td>946.0</td>\n",
       "      <td>940.0</td>\n",
       "      <td>930.0</td>\n",
       "      <td>929.0</td>\n",
       "      <td>929.0</td>\n",
       "      <td>929.0</td>\n",
       "      <td>934.0</td>\n",
       "      <td>NaN</td>\n",
       "      <td>NaN</td>\n",
       "    </tr>\n",
       "    <tr>\n",
       "      <th>1</th>\n",
       "      <td>01013M10Y2015</td>\n",
       "      <td>0</td>\n",
       "      <td>0.010373</td>\n",
       "      <td>10</td>\n",
       "      <td>2015</td>\n",
       "      <td>0.015806</td>\n",
       "      <td>0.001055</td>\n",
       "      <td>-0.002105</td>\n",
       "      <td>-0.005236</td>\n",
       "      <td>-0.003132</td>\n",
       "      <td>...</td>\n",
       "      <td>Y2015</td>\n",
       "      <td>964.0</td>\n",
       "      <td>949.0</td>\n",
       "      <td>948.0</td>\n",
       "      <td>950.0</td>\n",
       "      <td>955.0</td>\n",
       "      <td>958.0</td>\n",
       "      <td>958.0</td>\n",
       "      <td>950.0</td>\n",
       "      <td>946.0</td>\n",
       "    </tr>\n",
       "    <tr>\n",
       "      <th>2</th>\n",
       "      <td>01013M10Y2016</td>\n",
       "      <td>0</td>\n",
       "      <td>-0.002904</td>\n",
       "      <td>10</td>\n",
       "      <td>2016</td>\n",
       "      <td>-0.002896</td>\n",
       "      <td>0.001934</td>\n",
       "      <td>0.003883</td>\n",
       "      <td>0.008815</td>\n",
       "      <td>-0.001955</td>\n",
       "      <td>...</td>\n",
       "      <td>Y2016</td>\n",
       "      <td>1033.0</td>\n",
       "      <td>1036.0</td>\n",
       "      <td>1034.0</td>\n",
       "      <td>1030.0</td>\n",
       "      <td>1021.0</td>\n",
       "      <td>1023.0</td>\n",
       "      <td>1032.0</td>\n",
       "      <td>1027.0</td>\n",
       "      <td>1018.0</td>\n",
       "    </tr>\n",
       "    <tr>\n",
       "      <th>3</th>\n",
       "      <td>01013M10Y2017</td>\n",
       "      <td>0</td>\n",
       "      <td>0.018674</td>\n",
       "      <td>10</td>\n",
       "      <td>2017</td>\n",
       "      <td>0.005634</td>\n",
       "      <td>0.002825</td>\n",
       "      <td>0.006635</td>\n",
       "      <td>0.014423</td>\n",
       "      <td>-0.000961</td>\n",
       "      <td>...</td>\n",
       "      <td>Y2017</td>\n",
       "      <td>1071.0</td>\n",
       "      <td>1065.0</td>\n",
       "      <td>1062.0</td>\n",
       "      <td>1055.0</td>\n",
       "      <td>1040.0</td>\n",
       "      <td>1041.0</td>\n",
       "      <td>1039.0</td>\n",
       "      <td>1042.0</td>\n",
       "      <td>1042.0</td>\n",
       "    </tr>\n",
       "    <tr>\n",
       "      <th>4</th>\n",
       "      <td>01013M10Y2018</td>\n",
       "      <td>0</td>\n",
       "      <td>-0.012302</td>\n",
       "      <td>10</td>\n",
       "      <td>2018</td>\n",
       "      <td>-0.008711</td>\n",
       "      <td>-0.003472</td>\n",
       "      <td>-0.003460</td>\n",
       "      <td>0.004344</td>\n",
       "      <td>0.001741</td>\n",
       "      <td>...</td>\n",
       "      <td>Y2018</td>\n",
       "      <td>1138.0</td>\n",
       "      <td>1148.0</td>\n",
       "      <td>1152.0</td>\n",
       "      <td>1156.0</td>\n",
       "      <td>1151.0</td>\n",
       "      <td>1149.0</td>\n",
       "      <td>1146.0</td>\n",
       "      <td>1144.0</td>\n",
       "      <td>1141.0</td>\n",
       "    </tr>\n",
       "  </tbody>\n",
       "</table>\n",
       "<p>5 rows × 24 columns</p>\n",
       "</div>"
      ],
      "text/plain": [
       "    Target_index  Missing_Months  Target_ZRI  Month  Year  \\\n",
       "0  01013M10Y2014               0    0.000000     10  2014   \n",
       "1  01013M10Y2015               0    0.010373     10  2015   \n",
       "2  01013M10Y2016               0   -0.002904     10  2016   \n",
       "3  01013M10Y2017               0    0.018674     10  2017   \n",
       "4  01013M10Y2018               0   -0.012302     10  2018   \n",
       "\n",
       "   ZRI_minus_1M_%difference  ZRI_minus_2M_%difference  \\\n",
       "0                  0.006383                  0.010753   \n",
       "1                  0.015806                  0.001055   \n",
       "2                 -0.002896                  0.001934   \n",
       "3                  0.005634                  0.002825   \n",
       "4                 -0.008711                 -0.003472   \n",
       "\n",
       "   ZRI_minus_3M_%difference  ZRI_minus_4M_%difference  \\\n",
       "0                  0.001076                  0.000000   \n",
       "1                 -0.002105                 -0.005236   \n",
       "2                  0.003883                  0.008815   \n",
       "3                  0.006635                  0.014423   \n",
       "4                 -0.003460                  0.004344   \n",
       "\n",
       "   ZRI_minus_5M_%difference  ...  ZipCode  ZRI_minus_1M  ZRI_minus_2M  \\\n",
       "0                  0.000000  ...    Y2014         946.0         940.0   \n",
       "1                 -0.003132  ...    Y2015         964.0         949.0   \n",
       "2                 -0.001955  ...    Y2016        1033.0        1036.0   \n",
       "3                 -0.000961  ...    Y2017        1071.0        1065.0   \n",
       "4                  0.001741  ...    Y2018        1138.0        1148.0   \n",
       "\n",
       "   ZRI_minus_3M ZRI_minus_4M  ZRI_minus_5M  ZRI_minus_6M  ZRI_minus_7M  \\\n",
       "0         930.0        929.0         929.0         929.0         934.0   \n",
       "1         948.0        950.0         955.0         958.0         958.0   \n",
       "2        1034.0       1030.0        1021.0        1023.0        1032.0   \n",
       "3        1062.0       1055.0        1040.0        1041.0        1039.0   \n",
       "4        1152.0       1156.0        1151.0        1149.0        1146.0   \n",
       "\n",
       "   ZRI_minus_8M  ZRI_minus_9M  \n",
       "0           NaN           NaN  \n",
       "1         950.0         946.0  \n",
       "2        1027.0        1018.0  \n",
       "3        1042.0        1042.0  \n",
       "4        1144.0        1141.0  \n",
       "\n",
       "[5 rows x 24 columns]"
      ]
     },
     "execution_count": 37,
     "metadata": {},
     "output_type": "execute_result"
    }
   ],
   "source": [
    "ZRI_new.head()"
   ]
  },
  {
   "cell_type": "code",
   "execution_count": 46,
   "metadata": {},
   "outputs": [],
   "source": [
    "from sklearn.linear_model import LinearRegression, RidgeCV, Lasso\n",
    "from sklearn.model_selection import train_test_split\n",
    "from collections import defaultdict"
   ]
  },
  {
   "cell_type": "code",
   "execution_count": 47,
   "metadata": {},
   "outputs": [],
   "source": [
    "#Find feature columns\n",
    "feature_columns = [x for x in ZRI_new.columns if 'minus' in x]"
   ]
  },
  {
   "cell_type": "code",
   "execution_count": 48,
   "metadata": {},
   "outputs": [],
   "source": [
    "#Drop nan values generated from the difference\n",
    "ZRI_new = ZRI_new.dropna()"
   ]
  },
  {
   "cell_type": "code",
   "execution_count": 49,
   "metadata": {},
   "outputs": [],
   "source": [
    "#Train test split, test data is above a given year\n",
    "test_year = 2019\n",
    "training_data = ZRI_new[ZRI_new.Year < test_year]\n",
    "final_test_data = ZRI_new[ZRI_new.Year >= test_year]"
   ]
  },
  {
   "cell_type": "code",
   "execution_count": 50,
   "metadata": {},
   "outputs": [],
   "source": [
    "#  X_train, X_test, y_train, y_test = train_test_split(training_data[feature_columns],\n",
    "#                                                      training_data['Target_ZRI'],\n",
    "#                                                      test_size = .1\n",
    "#                                                     ) \n",
    "X_train, y_train = training_data[feature_columns], training_data['Target_ZRI']"
   ]
  },
  {
   "cell_type": "code",
   "execution_count": 51,
   "metadata": {},
   "outputs": [],
   "source": [
    "lr = LinearRegression()"
   ]
  },
  {
   "cell_type": "code",
   "execution_count": 52,
   "metadata": {},
   "outputs": [
    {
     "data": {
      "text/plain": [
       "LinearRegression()"
      ]
     },
     "execution_count": 52,
     "metadata": {},
     "output_type": "execute_result"
    }
   ],
   "source": [
    "lr.fit(X_train,y_train)"
   ]
  },
  {
   "cell_type": "code",
   "execution_count": 53,
   "metadata": {},
   "outputs": [
    {
     "data": {
      "text/plain": [
       "0.1804315358700106"
      ]
     },
     "execution_count": 53,
     "metadata": {},
     "output_type": "execute_result"
    }
   ],
   "source": [
    "lr.score(X_train, y_train)"
   ]
  },
  {
   "cell_type": "code",
   "execution_count": 19,
   "metadata": {},
   "outputs": [],
   "source": [
    "prediction_error = final_test_data['Target_ZRI'] - lr.predict(final_test_data[feature_columns])"
   ]
  },
  {
   "cell_type": "code",
   "execution_count": 20,
   "metadata": {},
   "outputs": [
    {
     "data": {
      "text/plain": [
       "count    5124.000000\n",
       "mean        0.002671\n",
       "std         0.088197\n",
       "min        -0.412530\n",
       "25%        -0.018224\n",
       "50%        -0.006806\n",
       "75%         0.006563\n",
       "max         2.807729\n",
       "Name: Target_ZRI, dtype: float64"
      ]
     },
     "execution_count": 20,
     "metadata": {},
     "output_type": "execute_result"
    }
   ],
   "source": [
    "prediction_error.describe()"
   ]
  },
  {
   "cell_type": "code",
   "execution_count": 21,
   "metadata": {},
   "outputs": [
    {
     "data": {
      "text/plain": [
       "array([-1.95114340e-01, -2.63277159e-01, -3.88209189e-01, -3.09924337e-04,\n",
       "        1.13770734e-04,  1.96026387e-04])"
      ]
     },
     "execution_count": 21,
     "metadata": {},
     "output_type": "execute_result"
    }
   ],
   "source": [
    "lr.coef_"
   ]
  },
  {
   "cell_type": "markdown",
   "metadata": {},
   "source": [
    "### Classification Problem\n",
    "To make this easier we can reframe the problem as a classification problem. Does the rent go up or down. (Staying the same counts as going down?)"
   ]
  },
  {
   "cell_type": "code",
   "execution_count": 54,
   "metadata": {},
   "outputs": [],
   "source": [
    "ZRI_new['ZRI_class'] = ZRI_new['Target_ZRI'].apply(lambda x: 1 if x>0 else -1)\n",
    "ZRI_new = ZRI_new.dropna()\n",
    "#Find feature columns\n",
    "feature_columns = [x for x in ZRI_new.columns if 'minus' in x]"
   ]
  },
  {
   "cell_type": "code",
   "execution_count": 55,
   "metadata": {},
   "outputs": [],
   "source": [
    "from sklearn.linear_model import LogisticRegression\n",
    "from sklearn.preprocessing import StandardScaler\n",
    "from sklearn.pipeline import make_pipeline\n",
    "from sklearn.metrics import confusion_matrix"
   ]
  },
  {
   "cell_type": "code",
   "execution_count": 56,
   "metadata": {},
   "outputs": [],
   "source": [
    "logistic_regression = LogisticRegression(class_weight='balanced')\n",
    "binary_model = make_pipeline(StandardScaler(),logistic_regression)"
   ]
  },
  {
   "cell_type": "code",
   "execution_count": 57,
   "metadata": {},
   "outputs": [],
   "source": [
    "#Train test split, test data is above a given year\n",
    "test_year = 2019\n",
    "training_data = ZRI_new[ZRI_new.Year < test_year]\n",
    "final_test_data = ZRI_new[ZRI_new.Year >= test_year]\n",
    "X_train, y_train = training_data[feature_columns], training_data['ZRI_class']\n",
    "X_test, y_test = final_test_data[feature_columns], final_test_data['ZRI_class']"
   ]
  },
  {
   "cell_type": "code",
   "execution_count": 58,
   "metadata": {},
   "outputs": [
    {
     "data": {
      "text/plain": [
       "Pipeline(steps=[('standardscaler', StandardScaler()),\n",
       "                ('logisticregression',\n",
       "                 LogisticRegression(class_weight='balanced'))])"
      ]
     },
     "execution_count": 58,
     "metadata": {},
     "output_type": "execute_result"
    }
   ],
   "source": [
    "binary_model.fit(X_train,y_train)"
   ]
  },
  {
   "cell_type": "code",
   "execution_count": 59,
   "metadata": {},
   "outputs": [
    {
     "data": {
      "text/plain": [
       "(0.6333540441937899, 0.5856752537080406)"
      ]
     },
     "execution_count": 59,
     "metadata": {},
     "output_type": "execute_result"
    }
   ],
   "source": [
    "binary_model.score(X_train,y_train), binary_model.score(X_test,y_test)"
   ]
  },
  {
   "cell_type": "code",
   "execution_count": 60,
   "metadata": {},
   "outputs": [
    {
     "data": {
      "text/plain": [
       "array([[2929, 3979],\n",
       "       [2390, 6074]], dtype=int64)"
      ]
     },
     "execution_count": 60,
     "metadata": {},
     "output_type": "execute_result"
    }
   ],
   "source": [
    "confusion_matrix(y_test, binary_model.predict(X_test))"
   ]
  },
  {
   "cell_type": "markdown",
   "metadata": {},
   "source": [
    "### Model Tuning\n",
    "See the effect of window size and future time on the predictive power of the model:"
   ]
  },
  {
   "cell_type": "code",
   "execution_count": null,
   "metadata": {},
   "outputs": [],
   "source": [
    "window_sizes = list(range(1,13))\n",
    "future_time = 24\n",
    "time_unit = 'Month'\n",
    "num_obs = defaultdict()\n",
    "errors = defaultdict()\n",
    "scores = defaultdict()\n",
    "coefficients = defaultdict()\n",
    "\n",
    "for window_size in window_sizes:\n",
    "    ZRI_new = ZRI_format(ZRI_MF, time_unit = time_unit, \n",
    "                         window_size = window_size,\n",
    "                         future_time = future_time)\n",
    "    ZRI_new = ZRI_new.dropna()\n",
    "    num_obs[window_size] = ZRI_new.shape[0]\n",
    "    feature_columns = [x for x in ZRI_new.columns if 'minus' in x]\n",
    "    test_year = 2019\n",
    "    training_data = ZRI_new[ZRI_new.Year < test_year]\n",
    "    final_test_data = ZRI_new[ZRI_new.Year >= test_year]\n",
    "    most_recent_feature = f'ZRI_minus_{future_time}{time_unit[0]}'\n",
    "    X_train, X_test, y_train, y_test = train_test_split(training_data[feature_columns],\n",
    "                                                     training_data['Target_ZRI'],\n",
    "                                                     test_size = .1\n",
    "                                                    ) \n",
    "    lr = LinearRegression()\n",
    "    lr.fit(X_train,y_train)\n",
    "    coefficients[window_size] = defaultdict()\n",
    "    scores[window_size] = (lr.score(X_test,y_test), lr.score(X_train, y_train))\n",
    "    errors[window_size] = (final_test_data['Target_ZRI'] - \n",
    "                           lr.predict(final_test_data[feature_columns])).div(final_test_data[most_recent_feature])\n",
    "    "
   ]
  },
  {
   "cell_type": "code",
   "execution_count": null,
   "metadata": {},
   "outputs": [],
   "source": [
    "lr.coef_"
   ]
  },
  {
   "cell_type": "code",
   "execution_count": null,
   "metadata": {},
   "outputs": [],
   "source": [
    "plt.boxplot(errors.values())"
   ]
  },
  {
   "cell_type": "code",
   "execution_count": null,
   "metadata": {},
   "outputs": [],
   "source": [
    "plt.boxplot(list(map(lambda x: x.apply(lambda y: np.log10(y+1250)),errors.values())))"
   ]
  },
  {
   "cell_type": "code",
   "execution_count": null,
   "metadata": {},
   "outputs": [],
   "source": [
    "pd.DataFrame(errors).describe()"
   ]
  },
  {
   "cell_type": "code",
   "execution_count": null,
   "metadata": {},
   "outputs": [],
   "source": []
  }
 ],
 "metadata": {
  "kernelspec": {
   "display_name": "BigQuery_7park",
   "language": "python",
   "name": "bigquery_7park"
  },
  "language_info": {
   "codemirror_mode": {
    "name": "ipython",
    "version": 3
   },
   "file_extension": ".py",
   "mimetype": "text/x-python",
   "name": "python",
   "nbconvert_exporter": "python",
   "pygments_lexer": "ipython3",
   "version": "3.8.5"
  }
 },
 "nbformat": 4,
 "nbformat_minor": 4
}
