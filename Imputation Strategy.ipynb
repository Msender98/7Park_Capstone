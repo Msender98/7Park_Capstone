{
 "cells": [
  {
   "cell_type": "code",
   "execution_count": 1,
   "metadata": {},
   "outputs": [],
   "source": [
    "import os\n",
    "import pandas as pd\n",
    "pd.set_option('display.max_columns', 100, 'display.max_rows', 150)\n",
    "import numpy as np\n",
    "import matplotlib.pyplot as plt\n",
    "import config\n",
    "\n",
    "#Load google.cloud.bigquery\n",
    "%load_ext google.cloud.bigquery\n",
    "\n",
    "#Select path to credentials\n",
    "os.environ[\"GOOGLE_APPLICATION_CREDENTIALS\"]=config.GOOGLE_APPLICATION_CREDENTIALS"
   ]
  },
  {
   "cell_type": "code",
   "execution_count": 2,
   "metadata": {},
   "outputs": [],
   "source": [
    "%%bigquery --use_rest_api ZRI_MF\n",
    "SELECT *\n",
    "FROM `high-empire-220313.ZRI.Multi_Family`"
   ]
  },
  {
   "cell_type": "code",
   "execution_count": 3,
   "metadata": {},
   "outputs": [],
   "source": [
    "def month_year(x):\n",
    "    month = int(x[-2:])\n",
    "    year = int(x[1:5])\n",
    "    if year<2014:\n",
    "        return(True)\n",
    "    if (year == 2014) and month<3:\n",
    "        return(True)\n",
    "    return(False)"
   ]
  },
  {
   "cell_type": "code",
   "execution_count": 4,
   "metadata": {},
   "outputs": [],
   "source": [
    "time_columns = [x for x in ZRI_MF.columns if ('20' in x)]\n",
    "time_drop = [x for x in time_columns if month_year(x)]"
   ]
  },
  {
   "cell_type": "code",
   "execution_count": 5,
   "metadata": {},
   "outputs": [],
   "source": [
    "ZRI_MF = ZRI_MF.drop(time_drop, axis = 1)"
   ]
  },
  {
   "cell_type": "code",
   "execution_count": 6,
   "metadata": {},
   "outputs": [],
   "source": [
    "ZRI_MF['Missing_Months'] = ZRI_MF.isna().apply(sum, axis = 1)"
   ]
  },
  {
   "cell_type": "code",
   "execution_count": 7,
   "metadata": {},
   "outputs": [],
   "source": [
    "def consecutive_missing(row):\n",
    "    return(max(row.isnull().astype(int).groupby(row.notnull().astype(int).cumsum()).sum()))"
   ]
  },
  {
   "cell_type": "code",
   "execution_count": 8,
   "metadata": {},
   "outputs": [
    {
     "data": {
      "text/plain": [
       "70      8\n",
       "69     25\n",
       "68     24\n",
       "67     12\n",
       "66     20\n",
       "65     20\n",
       "64     17\n",
       "63     27\n",
       "62     22\n",
       "61     15\n",
       "60     15\n",
       "59      6\n",
       "57      1\n",
       "53      1\n",
       "52     11\n",
       "51     52\n",
       "49      1\n",
       "46      8\n",
       "45      1\n",
       "44      1\n",
       "42     10\n",
       "40      1\n",
       "35      4\n",
       "34     24\n",
       "31      1\n",
       "30      1\n",
       "28      1\n",
       "25      1\n",
       "24      1\n",
       "23     11\n",
       "22     35\n",
       "21      1\n",
       "20      1\n",
       "19      1\n",
       "18      4\n",
       "17      1\n",
       "16      1\n",
       "15      5\n",
       "14      8\n",
       "13     29\n",
       "12      9\n",
       "11     12\n",
       "10     37\n",
       "9      14\n",
       "8      16\n",
       "7      19\n",
       "6      22\n",
       "5      23\n",
       "4      48\n",
       "3      96\n",
       "2     106\n",
       "1     393\n",
       "0     638\n",
       "dtype: int64"
      ]
     },
     "execution_count": 8,
     "metadata": {},
     "output_type": "execute_result"
    }
   ],
   "source": [
    "ZRI_MF.apply(consecutive_missing,axis = 1).value_counts().sort_index(ascending= False)"
   ]
  },
  {
   "cell_type": "code",
   "execution_count": 15,
   "metadata": {},
   "outputs": [],
   "source": [
    "ZRI_filtered = ZRI_MF[ZRI_MF.apply(consecutive_missing,axis = 1)<5]"
   ]
  },
  {
   "cell_type": "code",
   "execution_count": 17,
   "metadata": {},
   "outputs": [
    {
     "name": "stderr",
     "output_type": "stream",
     "text": [
      "c:\\users\\msend\\projects\\nyc_dsa\\7parkmgm\\venv\\lib\\site-packages\\pandas\\core\\indexing.py:1717: SettingWithCopyWarning: \n",
      "A value is trying to be set on a copy of a slice from a DataFrame.\n",
      "Try using .loc[row_indexer,col_indexer] = value instead\n",
      "\n",
      "See the caveats in the documentation: https://pandas.pydata.org/pandas-docs/stable/user_guide/indexing.html#returning-a-view-versus-a-copy\n",
      "  isetter(loc, v)\n"
     ]
    }
   ],
   "source": [
    "ZRI_filtered.loc[:,[x for x in ZRI_MF.columns if ('20' in x)]] = ZRI_filtered[[x for x in ZRI_MF.columns if ('20' in x)]].interpolate(method = 'linear',\n",
    "                                                                     axis = 0)"
   ]
  },
  {
   "cell_type": "code",
   "execution_count": 18,
   "metadata": {},
   "outputs": [],
   "source": [
    "ZRI_filtered = ZRI_filtered.drop('Metro', axis = 1)"
   ]
  },
  {
   "cell_type": "markdown",
   "metadata": {},
   "source": [
    "ZRI_filtered.to_pickle('./pickles/ZRI_filtered.p')\n",
    "import pickle\n",
    "file = open('./pickles/ZRI_filtered.p','rb')\n",
    "filtered2 = pickle.load(file)"
   ]
  },
  {
   "cell_type": "code",
   "execution_count": null,
   "metadata": {},
   "outputs": [],
   "source": []
  }
 ],
 "metadata": {
  "kernelspec": {
   "display_name": "BigQuery_7park",
   "language": "python",
   "name": "bigquery_7park"
  },
  "language_info": {
   "codemirror_mode": {
    "name": "ipython",
    "version": 3
   },
   "file_extension": ".py",
   "mimetype": "text/x-python",
   "name": "python",
   "nbconvert_exporter": "python",
   "pygments_lexer": "ipython3",
   "version": "3.8.5"
  }
 },
 "nbformat": 4,
 "nbformat_minor": 2
}
