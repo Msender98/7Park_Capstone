{
 "cells": [
  {
   "cell_type": "markdown",
   "metadata": {},
   "source": [
    "### Description\n",
    "Multi-linear Regression on a static (one slice of time) value of the ZRI. This allows us to use the most accurate geographic data of the ACS without doing any of our own transformations. "
   ]
  },
  {
   "cell_type": "code",
   "execution_count": null,
   "metadata": {},
   "outputs": [],
   "source": [
    "import os\n",
    "import pandas as pd\n",
    "import numpy as np\n",
    "import matplotlib.pyplot as plt\n",
    "import config\n",
    "\n",
    "#Load google.cloud.bigquery\n",
    "%load_ext google.cloud.bigquery\n",
    "\n",
    "#Select path to credentials\n",
    "os.environ[\"GOOGLE_APPLICATION_CREDENTIALS\"]=config.GOOGLE_APPLICATION_CREDENTIALS"
   ]
  },
  {
   "cell_type": "code",
   "execution_count": null,
   "metadata": {},
   "outputs": [],
   "source": [
    "%%bigquery --use_rest_api ZRI_MF\n",
    "SELECT *\n",
    "FROM `high-empire-220313.ZRI.Multi_Family`"
   ]
  },
  {
   "cell_type": "code",
   "execution_count": null,
   "metadata": {},
   "outputs": [],
   "source": [
    "%%bigquery --use_rest_api Zip_5yr\n",
    "SELECT *\n",
    "FROM `bigquery-public-data.census_bureau_acs.zip_codes_2018_5yr` "
   ]
  },
  {
   "cell_type": "markdown",
   "metadata": {},
   "source": [
    "### ZIP Data\n",
    "Massage data to be used in the first linear regression. \n",
    "### Note:\n",
    "For this first pass the columns chosen from the zip code data was done quickly. There is much more work to be done picking columns and performing feature engineering to find the best columns to use. "
   ]
  },
  {
   "cell_type": "code",
   "execution_count": null,
   "metadata": {},
   "outputs": [],
   "source": [
    "#Convert geo_id column to int datatype\n",
    "Zip_5yr.loc[:,'geo_id'] = Zip_5yr.geo_id.astype(int)"
   ]
  },
  {
   "cell_type": "code",
   "execution_count": null,
   "metadata": {},
   "outputs": [],
   "source": [
    "ZRI_MF.head()"
   ]
  },
  {
   "cell_type": "code",
   "execution_count": null,
   "metadata": {},
   "outputs": [],
   "source": [
    "Zip_5yr.sample(5)"
   ]
  },
  {
   "cell_type": "code",
   "execution_count": null,
   "metadata": {},
   "outputs": [],
   "source": [
    "#Columns to use in the final analysis\n",
    "zip_columns = ['geo_id','unemployed_pop','white_pop','vacant_housing_units','total_pop','worked_at_home',\n",
    "               'poverty','percent_income_spent_on_rent','occupied_housing_units',\n",
    "               'median_year_structure_built','median_age','married_households','masters_degree',\n",
    "              'male_pop','female_pop','income_per_capita','housing_units','employed_pop','black_pop',\n",
    "              'asian_pop','amerindian_pop','graduate_professional_degree']"
   ]
  },
  {
   "cell_type": "code",
   "execution_count": null,
   "metadata": {},
   "outputs": [],
   "source": [
    "#Merge zip code data onto the ZRI data\n",
    "static_data = ZRI_MF.merge(Zip_5yr[zip_columns],how = 'left',left_on='RegionName',right_on ='geo_id')\n",
    "\n",
    "#Convert columns to percentage\n",
    "#Columns to divide by total population\n",
    "pop_columns = ['unemployed_pop','white_pop','masters_degree',\n",
    "               'graduate_professional_degree','employed_pop','black_pop',\n",
    "              'asian_pop','amerindian_pop','poverty','worked_at_home']\n",
    "#Columns to divide by total housing units\n",
    "house_columns = ['vacant_housing_units','occupied_housing_units']\n",
    "\n",
    "#Division\n",
    "static_data.loc[:,pop_columns] = static_data[pop_columns].div(static_data['total_pop'], axis = 0)\n",
    "static_data.loc[:,house_columns] = static_data[house_columns].div(static_data['housing_units'], axis = 0)"
   ]
  },
  {
   "cell_type": "markdown",
   "metadata": {},
   "source": [
    "### ZRI Data\n",
    "Need to decide what 'static' value of ZRI to use. \n",
    "\n",
    "First try will use the average of all. "
   ]
  },
  {
   "cell_type": "code",
   "execution_count": null,
   "metadata": {},
   "outputs": [],
   "source": [
    "zri_months = [x for x in ZRI_MF.columns if ('20' in x)]\n",
    "static_data.loc[:,'ZRI_Static'] = static_data[zri_months].apply(np.nanmean,axis = 1)"
   ]
  },
  {
   "cell_type": "code",
   "execution_count": null,
   "metadata": {},
   "outputs": [],
   "source": [
    "#Trying with different ZRI static value, with only data before 2020\n",
    "zri_months = [x for x in zri_months if ('2020' not in x)]\n",
    "static_data.loc[:,'ZRI_Static'] = static_data[zri_months].apply(np.nanmean,axis = 1)"
   ]
  },
  {
   "cell_type": "code",
   "execution_count": null,
   "metadata": {},
   "outputs": [],
   "source": [
    "#ZRI Static is just the most recent ZRI\n",
    "static_data.loc[:,'ZRI_Static'] = static_data['_2020_01']"
   ]
  },
  {
   "cell_type": "code",
   "execution_count": null,
   "metadata": {},
   "outputs": [],
   "source": [
    "static_data.ZRI_Static"
   ]
  },
  {
   "cell_type": "markdown",
   "metadata": {},
   "source": [
    "### Regression"
   ]
  },
  {
   "cell_type": "code",
   "execution_count": null,
   "metadata": {},
   "outputs": [],
   "source": [
    "from sklearn.linear_model import LinearRegression\n",
    "from sklearn.pipeline import make_pipeline\n",
    "from sklearn.model_selection import train_test_split\n",
    "from sklearn.preprocessing import StandardScaler"
   ]
  },
  {
   "cell_type": "code",
   "execution_count": null,
   "metadata": {},
   "outputs": [],
   "source": [
    "#Choose all of the columns to use\n",
    "regression_columns = pop_columns  + ['income_per_capita',\n",
    "                                                    'percent_income_spent_on_rent',\n",
    "                                                    'median_age',\n",
    "                                                    'ZRI_Static']\n",
    "#Drop nan values\n",
    "Xy = static_data[regression_columns].dropna()\n",
    "#Split data into indepent and target variables and training/testing\n",
    "X = Xy.drop('ZRI_Static',axis = 1)\n",
    "y = Xy[['ZRI_Static']]\n",
    "X_train, X_test, y_train, y_test = train_test_split(X,y,random_state = 42)"
   ]
  },
  {
   "cell_type": "code",
   "execution_count": null,
   "metadata": {},
   "outputs": [],
   "source": [
    "lr = LinearRegression()\n",
    "static_model = make_pipeline(StandardScaler(),lr)"
   ]
  },
  {
   "cell_type": "code",
   "execution_count": null,
   "metadata": {},
   "outputs": [],
   "source": [
    "static_model.fit(X_train,y_train)"
   ]
  },
  {
   "cell_type": "code",
   "execution_count": null,
   "metadata": {},
   "outputs": [],
   "source": [
    "static_model.score(X_train,y_train), static_model.score(X_test,y_test)"
   ]
  },
  {
   "cell_type": "code",
   "execution_count": null,
   "metadata": {},
   "outputs": [],
   "source": [
    "coefficients = pd.Series(dict(zip(X_train.columns, static_model.named_steps.linearregression.coef_[0]))).sort_values()\n",
    "coefficients.plot.bar()"
   ]
  }
 ],
 "metadata": {
  "kernelspec": {
   "display_name": "BigQuery_7park",
   "language": "python",
   "name": "bigquery_7park"
  },
  "language_info": {
   "codemirror_mode": {
    "name": "ipython",
    "version": 3
   },
   "file_extension": ".py",
   "mimetype": "text/x-python",
   "name": "python",
   "nbconvert_exporter": "python",
   "pygments_lexer": "ipython3",
   "version": "3.8.5"
  }
 },
 "nbformat": 4,
 "nbformat_minor": 4
}
