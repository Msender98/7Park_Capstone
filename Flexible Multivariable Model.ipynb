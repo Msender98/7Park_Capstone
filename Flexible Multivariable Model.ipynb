{
 "cells": [
  {
   "cell_type": "code",
   "execution_count": 1,
   "metadata": {},
   "outputs": [],
   "source": [
    "import pandas as pd\n",
    "import numpy as np\n",
    "import matplotlib.pyplot as plt\n",
    "import pickle"
   ]
  },
  {
   "cell_type": "code",
   "execution_count": 2,
   "metadata": {},
   "outputs": [],
   "source": [
    "from data_setup import ZRI_format"
   ]
  },
  {
   "cell_type": "code",
   "execution_count": 8,
   "metadata": {},
   "outputs": [],
   "source": [
    "#Load Data\n",
    "ZRI_MF = pd.read_pickle('./pickles/ZRI_filtered.p')\n",
    "ACS = pd.read_pickle('./acs_data/ACS.p')"
   ]
  },
  {
   "cell_type": "code",
   "execution_count": 47,
   "metadata": {},
   "outputs": [
    {
     "name": "stdout",
     "output_type": "stream",
     "text": [
      "Wall time: 848 ms\n"
     ]
    }
   ],
   "source": [
    "%%time\n",
    "ZRI_new = ZRI_format(ZRI_MF, time_unit = 'Month', window_size = 0, future_time = 0)"
   ]
  },
  {
   "cell_type": "code",
   "execution_count": 48,
   "metadata": {},
   "outputs": [
    {
     "data": {
      "text/html": [
       "<div>\n",
       "<style scoped>\n",
       "    .dataframe tbody tr th:only-of-type {\n",
       "        vertical-align: middle;\n",
       "    }\n",
       "\n",
       "    .dataframe tbody tr th {\n",
       "        vertical-align: top;\n",
       "    }\n",
       "\n",
       "    .dataframe thead th {\n",
       "        text-align: right;\n",
       "    }\n",
       "</style>\n",
       "<table border=\"1\" class=\"dataframe\">\n",
       "  <thead>\n",
       "    <tr style=\"text-align: right;\">\n",
       "      <th></th>\n",
       "      <th>Target_index</th>\n",
       "      <th>Missing_Months</th>\n",
       "      <th>Target_ZRI</th>\n",
       "      <th>Month</th>\n",
       "      <th>Year</th>\n",
       "      <th>ZipCode</th>\n",
       "      <th>Predict_Year</th>\n",
       "      <th>Predict_Month</th>\n",
       "    </tr>\n",
       "  </thead>\n",
       "  <tbody>\n",
       "    <tr>\n",
       "      <th>0</th>\n",
       "      <td>01013M10Y2014</td>\n",
       "      <td>0</td>\n",
       "      <td>946.0</td>\n",
       "      <td>10</td>\n",
       "      <td>2014</td>\n",
       "      <td>01013</td>\n",
       "      <td>2014</td>\n",
       "      <td>10</td>\n",
       "    </tr>\n",
       "    <tr>\n",
       "      <th>1</th>\n",
       "      <td>01013M10Y2015</td>\n",
       "      <td>0</td>\n",
       "      <td>974.0</td>\n",
       "      <td>10</td>\n",
       "      <td>2015</td>\n",
       "      <td>01013</td>\n",
       "      <td>2015</td>\n",
       "      <td>10</td>\n",
       "    </tr>\n",
       "    <tr>\n",
       "      <th>2</th>\n",
       "      <td>01013M10Y2016</td>\n",
       "      <td>0</td>\n",
       "      <td>1030.0</td>\n",
       "      <td>10</td>\n",
       "      <td>2016</td>\n",
       "      <td>01013</td>\n",
       "      <td>2016</td>\n",
       "      <td>10</td>\n",
       "    </tr>\n",
       "    <tr>\n",
       "      <th>3</th>\n",
       "      <td>01013M10Y2017</td>\n",
       "      <td>0</td>\n",
       "      <td>1091.0</td>\n",
       "      <td>10</td>\n",
       "      <td>2017</td>\n",
       "      <td>01013</td>\n",
       "      <td>2017</td>\n",
       "      <td>10</td>\n",
       "    </tr>\n",
       "    <tr>\n",
       "      <th>4</th>\n",
       "      <td>01013M10Y2018</td>\n",
       "      <td>0</td>\n",
       "      <td>1124.0</td>\n",
       "      <td>10</td>\n",
       "      <td>2018</td>\n",
       "      <td>01013</td>\n",
       "      <td>2018</td>\n",
       "      <td>10</td>\n",
       "    </tr>\n",
       "    <tr>\n",
       "      <th>...</th>\n",
       "      <td>...</td>\n",
       "      <td>...</td>\n",
       "      <td>...</td>\n",
       "      <td>...</td>\n",
       "      <td>...</td>\n",
       "      <td>...</td>\n",
       "      <td>...</td>\n",
       "      <td>...</td>\n",
       "    </tr>\n",
       "    <tr>\n",
       "      <th>90946</th>\n",
       "      <td>99654M9Y2015</td>\n",
       "      <td>2</td>\n",
       "      <td>1188.0</td>\n",
       "      <td>9</td>\n",
       "      <td>2015</td>\n",
       "      <td>99654</td>\n",
       "      <td>2015</td>\n",
       "      <td>9</td>\n",
       "    </tr>\n",
       "    <tr>\n",
       "      <th>90947</th>\n",
       "      <td>99654M9Y2016</td>\n",
       "      <td>2</td>\n",
       "      <td>1298.0</td>\n",
       "      <td>9</td>\n",
       "      <td>2016</td>\n",
       "      <td>99654</td>\n",
       "      <td>2016</td>\n",
       "      <td>9</td>\n",
       "    </tr>\n",
       "    <tr>\n",
       "      <th>90948</th>\n",
       "      <td>99654M9Y2017</td>\n",
       "      <td>2</td>\n",
       "      <td>1326.0</td>\n",
       "      <td>9</td>\n",
       "      <td>2017</td>\n",
       "      <td>99654</td>\n",
       "      <td>2017</td>\n",
       "      <td>9</td>\n",
       "    </tr>\n",
       "    <tr>\n",
       "      <th>90949</th>\n",
       "      <td>99654M9Y2018</td>\n",
       "      <td>2</td>\n",
       "      <td>1337.0</td>\n",
       "      <td>9</td>\n",
       "      <td>2018</td>\n",
       "      <td>99654</td>\n",
       "      <td>2018</td>\n",
       "      <td>9</td>\n",
       "    </tr>\n",
       "    <tr>\n",
       "      <th>90950</th>\n",
       "      <td>99654M9Y2019</td>\n",
       "      <td>2</td>\n",
       "      <td>1271.0</td>\n",
       "      <td>9</td>\n",
       "      <td>2019</td>\n",
       "      <td>99654</td>\n",
       "      <td>2019</td>\n",
       "      <td>9</td>\n",
       "    </tr>\n",
       "  </tbody>\n",
       "</table>\n",
       "<p>90951 rows × 8 columns</p>\n",
       "</div>"
      ],
      "text/plain": [
       "        Target_index  Missing_Months  Target_ZRI  Month  Year ZipCode  \\\n",
       "0      01013M10Y2014               0       946.0     10  2014   01013   \n",
       "1      01013M10Y2015               0       974.0     10  2015   01013   \n",
       "2      01013M10Y2016               0      1030.0     10  2016   01013   \n",
       "3      01013M10Y2017               0      1091.0     10  2017   01013   \n",
       "4      01013M10Y2018               0      1124.0     10  2018   01013   \n",
       "...              ...             ...         ...    ...   ...     ...   \n",
       "90946   99654M9Y2015               2      1188.0      9  2015   99654   \n",
       "90947   99654M9Y2016               2      1298.0      9  2016   99654   \n",
       "90948   99654M9Y2017               2      1326.0      9  2017   99654   \n",
       "90949   99654M9Y2018               2      1337.0      9  2018   99654   \n",
       "90950   99654M9Y2019               2      1271.0      9  2019   99654   \n",
       "\n",
       "      Predict_Year Predict_Month  \n",
       "0             2014            10  \n",
       "1             2015            10  \n",
       "2             2016            10  \n",
       "3             2017            10  \n",
       "4             2018            10  \n",
       "...            ...           ...  \n",
       "90946         2015             9  \n",
       "90947         2016             9  \n",
       "90948         2017             9  \n",
       "90949         2018             9  \n",
       "90950         2019             9  \n",
       "\n",
       "[90951 rows x 8 columns]"
      ]
     },
     "execution_count": 48,
     "metadata": {},
     "output_type": "execute_result"
    }
   ],
   "source": [
    "ZRI_new"
   ]
  },
  {
   "cell_type": "code",
   "execution_count": 13,
   "metadata": {},
   "outputs": [],
   "source": [
    "acs_lag = 1\n",
    "ACS = ACS.assign(year_avail = (ACS.year.astype(int) + 2).astype(str))"
   ]
  },
  {
   "cell_type": "code",
   "execution_count": 34,
   "metadata": {},
   "outputs": [],
   "source": [
    "data_4_model = ZRI_new.merge(ACS,how = 'left',left_on = ['ZipCode','Predict_Year'], \n",
    "                                              right_on = ['geo_id','year_avail'])"
   ]
  },
  {
   "cell_type": "code",
   "execution_count": 16,
   "metadata": {},
   "outputs": [],
   "source": [
    "#Columns to use in the final analysis\n",
    "zip_columns = ['geo_id','unemployed_pop','white_pop','vacant_housing_units','total_pop','worked_at_home',\n",
    "               'poverty','percent_income_spent_on_rent','occupied_housing_units',\n",
    "               'median_year_structure_built','median_age','married_households','masters_degree',\n",
    "               'male_pop','female_pop','income_per_capita','housing_units','employed_pop','black_pop',\n",
    "               'asian_pop','amerindian_pop','graduate_professional_degree']"
   ]
  },
  {
   "cell_type": "code",
   "execution_count": 35,
   "metadata": {},
   "outputs": [],
   "source": [
    "#Convert columns to percentage\n",
    "#Columns to divide by total population\n",
    "pop_columns = ['unemployed_pop','white_pop','masters_degree',\n",
    "               'graduate_professional_degree','employed_pop','black_pop',\n",
    "               'asian_pop','amerindian_pop','poverty','worked_at_home']\n",
    "\n",
    "#Columns to divide by total housing units\n",
    "house_columns = ['vacant_housing_units','occupied_housing_units']\n",
    "\n",
    "#Division\n",
    "data_4_model.loc[:,pop_columns] = data_4_model[pop_columns].div(data_4_model['total_pop'], axis = 0)\n",
    "data_4_model.loc[:,house_columns] = data_4_model[house_columns].div(data_4_model['housing_units'], axis = 0)"
   ]
  },
  {
   "cell_type": "code",
   "execution_count": 21,
   "metadata": {},
   "outputs": [],
   "source": [
    "from sklearn.linear_model import LinearRegression, RidgeCV, Lasso\n",
    "from sklearn.model_selection import train_test_split\n",
    "from collections import defaultdict"
   ]
  },
  {
   "cell_type": "code",
   "execution_count": null,
   "metadata": {},
   "outputs": [],
   "source": [
    "#Imputation Strategy\n",
    "#Dropna for now\n"
   ]
  },
  {
   "cell_type": "code",
   "execution_count": 36,
   "metadata": {},
   "outputs": [],
   "source": [
    "#Find feature columns\n",
    "full_feature_columns = [x for x in data_4_model.columns if 'minus' in x] +\\\n",
    "                                                     pop_columns  +\\\n",
    "                                                    house_columns +\\\n",
    "                                                    ['income_per_capita',\n",
    "                                                    'percent_income_spent_on_rent',\n",
    "                                                    'median_age']"
   ]
  },
  {
   "cell_type": "code",
   "execution_count": 37,
   "metadata": {},
   "outputs": [],
   "source": [
    "ZRI_feature_columns = [x for x in data_4_model.columns if 'minus' in x]"
   ]
  },
  {
   "cell_type": "code",
   "execution_count": 38,
   "metadata": {},
   "outputs": [],
   "source": [
    "#Train test split, test data is above a given year\n",
    "test_year = 2019\n",
    "data_4_model = data_4_model[full_feature_columns + ['Target_ZRI','Year']].dropna()\n",
    "training_data = data_4_model[data_4_model.Year < test_year]\n",
    "test_data = data_4_model[data_4_model.Year >= test_year]"
   ]
  },
  {
   "cell_type": "code",
   "execution_count": 39,
   "metadata": {},
   "outputs": [],
   "source": [
    "X_train_full, y_train_full = training_data[full_feature_columns], training_data['Target_ZRI']"
   ]
  },
  {
   "cell_type": "code",
   "execution_count": 40,
   "metadata": {},
   "outputs": [],
   "source": [
    "X_test_full, y_test_full = test_data[full_feature_columns], test_data['Target_ZRI']"
   ]
  },
  {
   "cell_type": "code",
   "execution_count": 41,
   "metadata": {},
   "outputs": [],
   "source": [
    "lr_zri = LinearRegression()\n",
    "lr_full = LinearRegression()"
   ]
  },
  {
   "cell_type": "code",
   "execution_count": 42,
   "metadata": {},
   "outputs": [
    {
     "data": {
      "text/plain": [
       "LinearRegression()"
      ]
     },
     "execution_count": 42,
     "metadata": {},
     "output_type": "execute_result"
    }
   ],
   "source": [
    "lr_full.fit(X_train_full,y_train_full)"
   ]
  },
  {
   "cell_type": "code",
   "execution_count": 43,
   "metadata": {},
   "outputs": [
    {
     "data": {
      "text/plain": [
       "(0.878755300978112, 0.9441226344482254)"
      ]
     },
     "execution_count": 43,
     "metadata": {},
     "output_type": "execute_result"
    }
   ],
   "source": [
    "lr_full.score(X_test_full,y_test_full), lr_full.score(X_train_full, y_train_full)"
   ]
  },
  {
   "cell_type": "code",
   "execution_count": null,
   "metadata": {},
   "outputs": [],
   "source": [
    "prediction_error_full = final_test_data['Target_ZRI'] - lr_full.predict(final_test_data[full_feature_columns])"
   ]
  },
  {
   "cell_type": "code",
   "execution_count": null,
   "metadata": {},
   "outputs": [],
   "source": [
    "prediction_error_ZRI = final_test_data['Target_ZRI'] - lr_zri.predict(final_test_data[ZRI_feature_columns])"
   ]
  },
  {
   "cell_type": "code",
   "execution_count": null,
   "metadata": {},
   "outputs": [],
   "source": [
    "prediction_error_full.describe(), prediction_error_ZRI.describe()"
   ]
  },
  {
   "cell_type": "code",
   "execution_count": null,
   "metadata": {},
   "outputs": [],
   "source": [
    "prediction_error = final_test_data['Target_ZRI'] - lr.predict(final_test_data[feature_columns])"
   ]
  },
  {
   "cell_type": "code",
   "execution_count": null,
   "metadata": {},
   "outputs": [],
   "source": [
    "prediction_error.describe()"
   ]
  },
  {
   "cell_type": "code",
   "execution_count": null,
   "metadata": {},
   "outputs": [],
   "source": [
    "lr.coef_, lr.alpha_"
   ]
  },
  {
   "cell_type": "code",
   "execution_count": null,
   "metadata": {},
   "outputs": [],
   "source": [
    "window_sizes = list(range(1,13))\n",
    "future_time = 24\n",
    "time_unit = 'Month'\n",
    "num_obs = defaultdict()\n",
    "errors = defaultdict()\n",
    "scores = defaultdict()\n",
    "coefficients = defaultdict()\n",
    "\n",
    "for window_size in window_sizes:\n",
    "    ZRI_new = ZRI_format(ZRI_MF, time_unit = time_unit, \n",
    "                         window_size = window_size,\n",
    "                         future_time = future_time)\n",
    "    ZRI_new = ZRI_new.dropna()\n",
    "    num_obs[window_size] = ZRI_new.shape[0]\n",
    "    feature_columns = [x for x in ZRI_new.columns if 'minus' in x]\n",
    "    test_year = 2019\n",
    "    training_data = ZRI_new[ZRI_new.Year < test_year]\n",
    "    final_test_data = ZRI_new[ZRI_new.Year >= test_year]\n",
    "    most_recent_feature = f'ZRI_minus_{future_time}{time_unit[0]}'\n",
    "    X_train, X_test, y_train, y_test = train_test_split(training_data[feature_columns],\n",
    "                                                     training_data['Target_ZRI'],\n",
    "                                                     test_size = .1\n",
    "                                                    ) \n",
    "    lr = LinearRegression()\n",
    "    lr.fit(X_train,y_train)\n",
    "    coefficients[window_size] = defaultdict()\n",
    "    scores[window_size] = (lr.score(X_test,y_test), lr.score(X_train, y_train))\n",
    "    errors[window_size] = (final_test_data['Target_ZRI'] - \n",
    "                           lr.predict(final_test_data[feature_columns])).div(final_test_data[most_recent_feature])\n",
    "    "
   ]
  },
  {
   "cell_type": "code",
   "execution_count": null,
   "metadata": {},
   "outputs": [],
   "source": [
    "lr.coef_"
   ]
  },
  {
   "cell_type": "code",
   "execution_count": null,
   "metadata": {},
   "outputs": [],
   "source": [
    "plt.boxplot(errors.values())"
   ]
  },
  {
   "cell_type": "code",
   "execution_count": null,
   "metadata": {},
   "outputs": [],
   "source": [
    "plt.boxplot(list(map(lambda x: x.apply(lambda y: np.log10(y+1250)),errors.values())))"
   ]
  },
  {
   "cell_type": "code",
   "execution_count": null,
   "metadata": {},
   "outputs": [],
   "source": [
    "pd.DataFrame(errors).describe()"
   ]
  },
  {
   "cell_type": "code",
   "execution_count": null,
   "metadata": {},
   "outputs": [],
   "source": []
  }
 ],
 "metadata": {
  "kernelspec": {
   "display_name": "BigQuery_7park",
   "language": "python",
   "name": "bigquery_7park"
  },
  "language_info": {
   "codemirror_mode": {
    "name": "ipython",
    "version": 3
   },
   "file_extension": ".py",
   "mimetype": "text/x-python",
   "name": "python",
   "nbconvert_exporter": "python",
   "pygments_lexer": "ipython3",
   "version": "3.8.5"
  }
 },
 "nbformat": 4,
 "nbformat_minor": 4
}
