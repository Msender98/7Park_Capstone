{
 "cells": [
  {
   "cell_type": "code",
   "execution_count": 1,
   "metadata": {},
   "outputs": [],
   "source": [
    "import os\n",
    "import pandas as pd\n",
    "import numpy as np\n",
    "import matplotlib.pyplot as plt\n",
    "import config"
   ]
  },
  {
   "cell_type": "code",
   "execution_count": 2,
   "metadata": {},
   "outputs": [],
   "source": [
    "#Load google.cloud.bigquery\n",
    "%load_ext google.cloud.bigquery"
   ]
  },
  {
   "cell_type": "code",
   "execution_count": 3,
   "metadata": {},
   "outputs": [],
   "source": [
    "#Select path to credentials\n",
    "os.environ[\"GOOGLE_APPLICATION_CREDENTIALS\"]=config.GOOGLE_APPLICATION_CREDENTIALS"
   ]
  },
  {
   "cell_type": "code",
   "execution_count": 4,
   "metadata": {},
   "outputs": [],
   "source": [
    "%%bigquery --use_rest_api ZRI_MF\n",
    "SELECT *\n",
    "FROM `high-empire-220313.ZRI.Multi_Family`"
   ]
  },
  {
   "cell_type": "code",
   "execution_count": 5,
   "metadata": {},
   "outputs": [],
   "source": [
    "%%bigquery --use_rest_api Zip_5yr\n",
    "SELECT *\n",
    "FROM `bigquery-public-data.census_bureau_acs.zip_codes_2018_5yr` "
   ]
  },
  {
   "cell_type": "code",
   "execution_count": 6,
   "metadata": {},
   "outputs": [],
   "source": [
    "from data_setup import ZRI_format"
   ]
  },
  {
   "cell_type": "code",
   "execution_count": 7,
   "metadata": {},
   "outputs": [
    {
     "name": "stdout",
     "output_type": "stream",
     "text": [
      "Wall time: 42 s\n"
     ]
    }
   ],
   "source": [
    "%%time\n",
    "ZRI_new = ZRI_format(ZRI_MF, time_unit = 'Month', window_size = 3, future_time = 4)"
   ]
  },
  {
   "cell_type": "code",
   "execution_count": 8,
   "metadata": {},
   "outputs": [],
   "source": [
    "#Columns to use in the final analysis\n",
    "zip_columns = ['geo_id','unemployed_pop','white_pop','vacant_housing_units','total_pop','worked_at_home',\n",
    "               'poverty','percent_income_spent_on_rent','occupied_housing_units',\n",
    "               'median_year_structure_built','median_age','married_households','masters_degree',\n",
    "              'male_pop','female_pop','income_per_capita','housing_units','employed_pop','black_pop',\n",
    "              'asian_pop','amerindian_pop','graduate_professional_degree']"
   ]
  },
  {
   "cell_type": "code",
   "execution_count": 12,
   "metadata": {},
   "outputs": [],
   "source": [
    "#Merge zip code data onto the ZRI data\n",
    "final_data = ZRI_new.merge(Zip_5yr[zip_columns],how = 'left',left_on='ZipCode',right_on ='geo_id')\n",
    "\n",
    "#Convert columns to percentage\n",
    "#Columns to divide by total population\n",
    "pop_columns = ['unemployed_pop','white_pop','masters_degree',\n",
    "               'graduate_professional_degree','employed_pop','black_pop',\n",
    "              'asian_pop','amerindian_pop','poverty','worked_at_home']\n",
    "\n",
    "#Columns to divide by total housing units\n",
    "house_columns = ['vacant_housing_units','occupied_housing_units']\n",
    "\n",
    "#Division\n",
    "final_data.loc[:,pop_columns] = static_data[pop_columns].div(static_data['total_pop'], axis = 0)\n",
    "final_data.loc[:,house_columns] = static_data[house_columns].div(static_data['housing_units'], axis = 0)"
   ]
  },
  {
   "cell_type": "code",
   "execution_count": 13,
   "metadata": {},
   "outputs": [
    {
     "data": {
      "text/html": [
       "<div>\n",
       "<style scoped>\n",
       "    .dataframe tbody tr th:only-of-type {\n",
       "        vertical-align: middle;\n",
       "    }\n",
       "\n",
       "    .dataframe tbody tr th {\n",
       "        vertical-align: top;\n",
       "    }\n",
       "\n",
       "    .dataframe thead th {\n",
       "        text-align: right;\n",
       "    }\n",
       "</style>\n",
       "<table border=\"1\" class=\"dataframe\">\n",
       "  <thead>\n",
       "    <tr style=\"text-align: right;\">\n",
       "      <th></th>\n",
       "      <th>Target_index</th>\n",
       "      <th>Target_ZRI</th>\n",
       "      <th>Month</th>\n",
       "      <th>Year</th>\n",
       "      <th>ZRI_minus_4M</th>\n",
       "      <th>ZRI_minus_5M</th>\n",
       "      <th>ZRI_minus_6M</th>\n",
       "      <th>ZipCode</th>\n",
       "      <th>geo_id</th>\n",
       "      <th>unemployed_pop</th>\n",
       "      <th>...</th>\n",
       "      <th>masters_degree</th>\n",
       "      <th>male_pop</th>\n",
       "      <th>female_pop</th>\n",
       "      <th>income_per_capita</th>\n",
       "      <th>housing_units</th>\n",
       "      <th>employed_pop</th>\n",
       "      <th>black_pop</th>\n",
       "      <th>asian_pop</th>\n",
       "      <th>amerindian_pop</th>\n",
       "      <th>graduate_professional_degree</th>\n",
       "    </tr>\n",
       "  </thead>\n",
       "  <tbody>\n",
       "    <tr>\n",
       "      <th>0</th>\n",
       "      <td>10201001013</td>\n",
       "      <td>996.0</td>\n",
       "      <td>10</td>\n",
       "      <td>2010</td>\n",
       "      <td>NaN</td>\n",
       "      <td>NaN</td>\n",
       "      <td>NaN</td>\n",
       "      <td>01013</td>\n",
       "      <td>01013</td>\n",
       "      <td>1.550769e-06</td>\n",
       "      <td>...</td>\n",
       "      <td>1.738741e-06</td>\n",
       "      <td>10958.0</td>\n",
       "      <td>12107.0</td>\n",
       "      <td>23656.0</td>\n",
       "      <td>10192.0</td>\n",
       "      <td>0.000020</td>\n",
       "      <td>1.616559e-06</td>\n",
       "      <td>9.924920e-07</td>\n",
       "      <td>1.503776e-08</td>\n",
       "      <td>2.233107e-06</td>\n",
       "    </tr>\n",
       "    <tr>\n",
       "      <th>1</th>\n",
       "      <td>10201001020</td>\n",
       "      <td>1058.0</td>\n",
       "      <td>10</td>\n",
       "      <td>2010</td>\n",
       "      <td>NaN</td>\n",
       "      <td>NaN</td>\n",
       "      <td>NaN</td>\n",
       "      <td>01020</td>\n",
       "      <td>01020</td>\n",
       "      <td>1.107273e-06</td>\n",
       "      <td>...</td>\n",
       "      <td>1.122728e-06</td>\n",
       "      <td>14803.0</td>\n",
       "      <td>15294.0</td>\n",
       "      <td>30280.0</td>\n",
       "      <td>13326.0</td>\n",
       "      <td>0.000017</td>\n",
       "      <td>1.070842e-06</td>\n",
       "      <td>6.734160e-07</td>\n",
       "      <td>6.623764e-08</td>\n",
       "      <td>1.458332e-06</td>\n",
       "    </tr>\n",
       "    <tr>\n",
       "      <th>2</th>\n",
       "      <td>10201001040</td>\n",
       "      <td>1025.0</td>\n",
       "      <td>10</td>\n",
       "      <td>2010</td>\n",
       "      <td>NaN</td>\n",
       "      <td>NaN</td>\n",
       "      <td>NaN</td>\n",
       "      <td>01040</td>\n",
       "      <td>01040</td>\n",
       "      <td>9.501777e-07</td>\n",
       "      <td>...</td>\n",
       "      <td>1.205358e-06</td>\n",
       "      <td>19780.0</td>\n",
       "      <td>20596.0</td>\n",
       "      <td>23385.0</td>\n",
       "      <td>16855.0</td>\n",
       "      <td>0.000010</td>\n",
       "      <td>8.109328e-07</td>\n",
       "      <td>3.042532e-07</td>\n",
       "      <td>5.766088e-08</td>\n",
       "      <td>1.515745e-06</td>\n",
       "    </tr>\n",
       "    <tr>\n",
       "      <th>3</th>\n",
       "      <td>10201001085</td>\n",
       "      <td>NaN</td>\n",
       "      <td>10</td>\n",
       "      <td>2010</td>\n",
       "      <td>NaN</td>\n",
       "      <td>NaN</td>\n",
       "      <td>NaN</td>\n",
       "      <td>01085</td>\n",
       "      <td>01085</td>\n",
       "      <td>6.952295e-07</td>\n",
       "      <td>...</td>\n",
       "      <td>1.359194e-06</td>\n",
       "      <td>20243.0</td>\n",
       "      <td>21699.0</td>\n",
       "      <td>31563.0</td>\n",
       "      <td>16341.0</td>\n",
       "      <td>0.000012</td>\n",
       "      <td>4.019029e-07</td>\n",
       "      <td>6.872710e-07</td>\n",
       "      <td>2.160157e-08</td>\n",
       "      <td>1.797478e-06</td>\n",
       "    </tr>\n",
       "    <tr>\n",
       "      <th>4</th>\n",
       "      <td>10201001089</td>\n",
       "      <td>NaN</td>\n",
       "      <td>10</td>\n",
       "      <td>2010</td>\n",
       "      <td>NaN</td>\n",
       "      <td>NaN</td>\n",
       "      <td>NaN</td>\n",
       "      <td>01089</td>\n",
       "      <td>01089</td>\n",
       "      <td>1.197460e-06</td>\n",
       "      <td>...</td>\n",
       "      <td>2.711321e-06</td>\n",
       "      <td>14224.0</td>\n",
       "      <td>14442.0</td>\n",
       "      <td>31135.0</td>\n",
       "      <td>12463.0</td>\n",
       "      <td>0.000018</td>\n",
       "      <td>9.139149e-07</td>\n",
       "      <td>1.606348e-06</td>\n",
       "      <td>7.423277e-08</td>\n",
       "      <td>3.348993e-06</td>\n",
       "    </tr>\n",
       "    <tr>\n",
       "      <th>...</th>\n",
       "      <td>...</td>\n",
       "      <td>...</td>\n",
       "      <td>...</td>\n",
       "      <td>...</td>\n",
       "      <td>...</td>\n",
       "      <td>...</td>\n",
       "      <td>...</td>\n",
       "      <td>...</td>\n",
       "      <td>...</td>\n",
       "      <td>...</td>\n",
       "      <td>...</td>\n",
       "      <td>...</td>\n",
       "      <td>...</td>\n",
       "      <td>...</td>\n",
       "      <td>...</td>\n",
       "      <td>...</td>\n",
       "      <td>...</td>\n",
       "      <td>...</td>\n",
       "      <td>...</td>\n",
       "      <td>...</td>\n",
       "      <td>...</td>\n",
       "    </tr>\n",
       "    <tr>\n",
       "      <th>210288</th>\n",
       "      <td>9201999501</td>\n",
       "      <td>1246.0</td>\n",
       "      <td>9</td>\n",
       "      <td>2019</td>\n",
       "      <td>1222.0</td>\n",
       "      <td>1219.0</td>\n",
       "      <td>1225.0</td>\n",
       "      <td>99501</td>\n",
       "      <td>99501</td>\n",
       "      <td>2.110144e-06</td>\n",
       "      <td>...</td>\n",
       "      <td>3.398913e-06</td>\n",
       "      <td>8872.0</td>\n",
       "      <td>8186.0</td>\n",
       "      <td>42060.0</td>\n",
       "      <td>8717.0</td>\n",
       "      <td>0.000029</td>\n",
       "      <td>4.625821e-06</td>\n",
       "      <td>3.996902e-06</td>\n",
       "      <td>6.306376e-06</td>\n",
       "      <td>5.828672e-06</td>\n",
       "    </tr>\n",
       "    <tr>\n",
       "      <th>210289</th>\n",
       "      <td>9201999504</td>\n",
       "      <td>1417.0</td>\n",
       "      <td>9</td>\n",
       "      <td>2019</td>\n",
       "      <td>1423.0</td>\n",
       "      <td>1419.0</td>\n",
       "      <td>1416.0</td>\n",
       "      <td>99504</td>\n",
       "      <td>99504</td>\n",
       "      <td>7.063030e-07</td>\n",
       "      <td>...</td>\n",
       "      <td>1.123110e-06</td>\n",
       "      <td>22586.0</td>\n",
       "      <td>19918.0</td>\n",
       "      <td>33308.0</td>\n",
       "      <td>15959.0</td>\n",
       "      <td>0.000012</td>\n",
       "      <td>2.203045e-06</td>\n",
       "      <td>2.446598e-06</td>\n",
       "      <td>1.668336e-06</td>\n",
       "      <td>1.485672e-06</td>\n",
       "    </tr>\n",
       "    <tr>\n",
       "      <th>210290</th>\n",
       "      <td>9201999508</td>\n",
       "      <td>1282.0</td>\n",
       "      <td>9</td>\n",
       "      <td>2019</td>\n",
       "      <td>1265.0</td>\n",
       "      <td>1258.0</td>\n",
       "      <td>1255.0</td>\n",
       "      <td>99508</td>\n",
       "      <td>99508</td>\n",
       "      <td>1.059386e-06</td>\n",
       "      <td>...</td>\n",
       "      <td>1.299187e-06</td>\n",
       "      <td>17107.0</td>\n",
       "      <td>18498.0</td>\n",
       "      <td>30856.0</td>\n",
       "      <td>13659.0</td>\n",
       "      <td>0.000014</td>\n",
       "      <td>1.955485e-06</td>\n",
       "      <td>3.426635e-06</td>\n",
       "      <td>3.664070e-06</td>\n",
       "      <td>1.920777e-06</td>\n",
       "    </tr>\n",
       "    <tr>\n",
       "      <th>210291</th>\n",
       "      <td>9201999654</td>\n",
       "      <td>1271.0</td>\n",
       "      <td>9</td>\n",
       "      <td>2019</td>\n",
       "      <td>1296.0</td>\n",
       "      <td>1307.0</td>\n",
       "      <td>1318.0</td>\n",
       "      <td>99654</td>\n",
       "      <td>99654</td>\n",
       "      <td>6.993445e-07</td>\n",
       "      <td>...</td>\n",
       "      <td>5.102625e-07</td>\n",
       "      <td>32691.0</td>\n",
       "      <td>29444.0</td>\n",
       "      <td>31043.0</td>\n",
       "      <td>20893.0</td>\n",
       "      <td>0.000007</td>\n",
       "      <td>1.577410e-07</td>\n",
       "      <td>2.688591e-07</td>\n",
       "      <td>8.721085e-07</td>\n",
       "      <td>6.659314e-07</td>\n",
       "    </tr>\n",
       "    <tr>\n",
       "      <th>210292</th>\n",
       "      <td>9201999701</td>\n",
       "      <td>NaN</td>\n",
       "      <td>9</td>\n",
       "      <td>2019</td>\n",
       "      <td>NaN</td>\n",
       "      <td>NaN</td>\n",
       "      <td>NaN</td>\n",
       "      <td>99701</td>\n",
       "      <td>99701</td>\n",
       "      <td>3.131114e-06</td>\n",
       "      <td>...</td>\n",
       "      <td>1.894977e-06</td>\n",
       "      <td>8941.0</td>\n",
       "      <td>8569.0</td>\n",
       "      <td>31356.0</td>\n",
       "      <td>8550.0</td>\n",
       "      <td>0.000026</td>\n",
       "      <td>3.962817e-06</td>\n",
       "      <td>2.054794e-06</td>\n",
       "      <td>7.335288e-06</td>\n",
       "      <td>2.915850e-06</td>\n",
       "    </tr>\n",
       "  </tbody>\n",
       "</table>\n",
       "<p>210293 rows × 30 columns</p>\n",
       "</div>"
      ],
      "text/plain": [
       "       Target_index  Target_ZRI  Month  Year  ZRI_minus_4M  ZRI_minus_5M  \\\n",
       "0       10201001013       996.0     10  2010           NaN           NaN   \n",
       "1       10201001020      1058.0     10  2010           NaN           NaN   \n",
       "2       10201001040      1025.0     10  2010           NaN           NaN   \n",
       "3       10201001085         NaN     10  2010           NaN           NaN   \n",
       "4       10201001089         NaN     10  2010           NaN           NaN   \n",
       "...             ...         ...    ...   ...           ...           ...   \n",
       "210288   9201999501      1246.0      9  2019        1222.0        1219.0   \n",
       "210289   9201999504      1417.0      9  2019        1423.0        1419.0   \n",
       "210290   9201999508      1282.0      9  2019        1265.0        1258.0   \n",
       "210291   9201999654      1271.0      9  2019        1296.0        1307.0   \n",
       "210292   9201999701         NaN      9  2019           NaN           NaN   \n",
       "\n",
       "        ZRI_minus_6M ZipCode geo_id  unemployed_pop  ...  masters_degree  \\\n",
       "0                NaN   01013  01013    1.550769e-06  ...    1.738741e-06   \n",
       "1                NaN   01020  01020    1.107273e-06  ...    1.122728e-06   \n",
       "2                NaN   01040  01040    9.501777e-07  ...    1.205358e-06   \n",
       "3                NaN   01085  01085    6.952295e-07  ...    1.359194e-06   \n",
       "4                NaN   01089  01089    1.197460e-06  ...    2.711321e-06   \n",
       "...              ...     ...    ...             ...  ...             ...   \n",
       "210288        1225.0   99501  99501    2.110144e-06  ...    3.398913e-06   \n",
       "210289        1416.0   99504  99504    7.063030e-07  ...    1.123110e-06   \n",
       "210290        1255.0   99508  99508    1.059386e-06  ...    1.299187e-06   \n",
       "210291        1318.0   99654  99654    6.993445e-07  ...    5.102625e-07   \n",
       "210292           NaN   99701  99701    3.131114e-06  ...    1.894977e-06   \n",
       "\n",
       "        male_pop  female_pop  income_per_capita  housing_units  employed_pop  \\\n",
       "0        10958.0     12107.0            23656.0        10192.0      0.000020   \n",
       "1        14803.0     15294.0            30280.0        13326.0      0.000017   \n",
       "2        19780.0     20596.0            23385.0        16855.0      0.000010   \n",
       "3        20243.0     21699.0            31563.0        16341.0      0.000012   \n",
       "4        14224.0     14442.0            31135.0        12463.0      0.000018   \n",
       "...          ...         ...                ...            ...           ...   \n",
       "210288    8872.0      8186.0            42060.0         8717.0      0.000029   \n",
       "210289   22586.0     19918.0            33308.0        15959.0      0.000012   \n",
       "210290   17107.0     18498.0            30856.0        13659.0      0.000014   \n",
       "210291   32691.0     29444.0            31043.0        20893.0      0.000007   \n",
       "210292    8941.0      8569.0            31356.0         8550.0      0.000026   \n",
       "\n",
       "           black_pop     asian_pop  amerindian_pop  \\\n",
       "0       1.616559e-06  9.924920e-07    1.503776e-08   \n",
       "1       1.070842e-06  6.734160e-07    6.623764e-08   \n",
       "2       8.109328e-07  3.042532e-07    5.766088e-08   \n",
       "3       4.019029e-07  6.872710e-07    2.160157e-08   \n",
       "4       9.139149e-07  1.606348e-06    7.423277e-08   \n",
       "...              ...           ...             ...   \n",
       "210288  4.625821e-06  3.996902e-06    6.306376e-06   \n",
       "210289  2.203045e-06  2.446598e-06    1.668336e-06   \n",
       "210290  1.955485e-06  3.426635e-06    3.664070e-06   \n",
       "210291  1.577410e-07  2.688591e-07    8.721085e-07   \n",
       "210292  3.962817e-06  2.054794e-06    7.335288e-06   \n",
       "\n",
       "        graduate_professional_degree  \n",
       "0                       2.233107e-06  \n",
       "1                       1.458332e-06  \n",
       "2                       1.515745e-06  \n",
       "3                       1.797478e-06  \n",
       "4                       3.348993e-06  \n",
       "...                              ...  \n",
       "210288                  5.828672e-06  \n",
       "210289                  1.485672e-06  \n",
       "210290                  1.920777e-06  \n",
       "210291                  6.659314e-07  \n",
       "210292                  2.915850e-06  \n",
       "\n",
       "[210293 rows x 30 columns]"
      ]
     },
     "execution_count": 13,
     "metadata": {},
     "output_type": "execute_result"
    }
   ],
   "source": [
    "final_data"
   ]
  },
  {
   "cell_type": "code",
   "execution_count": 14,
   "metadata": {},
   "outputs": [],
   "source": [
    "from sklearn.linear_model import LinearRegression, RidgeCV, Lasso\n",
    "from sklearn.model_selection import train_test_split\n",
    "from collections import defaultdict"
   ]
  },
  {
   "cell_type": "code",
   "execution_count": 15,
   "metadata": {},
   "outputs": [],
   "source": [
    "#Imputation Strategy\n",
    "#Dropna for now\n",
    "final_data = final_data.dropna()"
   ]
  },
  {
   "cell_type": "code",
   "execution_count": 34,
   "metadata": {},
   "outputs": [],
   "source": [
    "#Find feature columns\n",
    "full_feature_columns = [x for x in final_data.columns if 'minus' in x] +\\\n",
    "                                                     pop_columns  +\\\n",
    "                                                    house_columns +\\\n",
    "                                                    ['income_per_capita',\n",
    "                                                    'percent_income_spent_on_rent',\n",
    "                                                    'median_age']"
   ]
  },
  {
   "cell_type": "code",
   "execution_count": 35,
   "metadata": {},
   "outputs": [],
   "source": [
    "ZRI_feature_columns = [x for x in final_data.columns if 'minus' in x]"
   ]
  },
  {
   "cell_type": "code",
   "execution_count": 36,
   "metadata": {},
   "outputs": [],
   "source": [
    "#Train test split, test data is above a given year\n",
    "test_year = 2019\n",
    "training_data = final_data[final_data.Year < test_year]\n",
    "final_test_data = final_data[final_data.Year >= test_year]"
   ]
  },
  {
   "cell_type": "code",
   "execution_count": 37,
   "metadata": {},
   "outputs": [],
   "source": [
    " X_train, X_test, y_train, y_test = train_test_split(training_data[feature_columns],\n",
    "                                                     training_data['Target_ZRI'],\n",
    "                                                     test_size = .1,\n",
    "                                                     random_state = 42\n",
    "                                                    ) "
   ]
  },
  {
   "cell_type": "code",
   "execution_count": 38,
   "metadata": {},
   "outputs": [],
   "source": [
    " X_train_zri, X_test_zri, y_train_zri, y_test_zri = train_test_split(training_data[ZRI_feature_columns],\n",
    "                                                     training_data['Target_ZRI'],\n",
    "                                                     test_size = .1,\n",
    "                                                     random_state = 42\n",
    "                                                    ) "
   ]
  },
  {
   "cell_type": "code",
   "execution_count": 39,
   "metadata": {},
   "outputs": [],
   "source": [
    "lr_zri = LinearRegression()\n",
    "lr_full = LinearRegression()"
   ]
  },
  {
   "cell_type": "code",
   "execution_count": 40,
   "metadata": {},
   "outputs": [
    {
     "data": {
      "text/plain": [
       "LinearRegression()"
      ]
     },
     "execution_count": 40,
     "metadata": {},
     "output_type": "execute_result"
    }
   ],
   "source": [
    "lr_full.fit(X_train,y_train); lr_zri.fit(X_train_zri, y_train_zri)"
   ]
  },
  {
   "cell_type": "code",
   "execution_count": 42,
   "metadata": {},
   "outputs": [
    {
     "data": {
      "text/plain": [
       "(0.9940922374377177, 0.9939800538960931)"
      ]
     },
     "execution_count": 42,
     "metadata": {},
     "output_type": "execute_result"
    }
   ],
   "source": [
    "lr_zri.score(X_test_zri,y_test_zri) , lr_zri.score(X_train_zri, y_train_zri)"
   ]
  },
  {
   "cell_type": "code",
   "execution_count": 43,
   "metadata": {},
   "outputs": [
    {
     "data": {
      "text/plain": [
       "(0.9941262147435765, 0.9940299763870987)"
      ]
     },
     "execution_count": 43,
     "metadata": {},
     "output_type": "execute_result"
    }
   ],
   "source": [
    "lr_full.score(X_test,y_test), lr_full.score(X_train, y_train)"
   ]
  },
  {
   "cell_type": "code",
   "execution_count": 44,
   "metadata": {},
   "outputs": [],
   "source": [
    "prediction_error_full = final_test_data['Target_ZRI'] - lr_full.predict(final_test_data[full_feature_columns])"
   ]
  },
  {
   "cell_type": "code",
   "execution_count": 45,
   "metadata": {},
   "outputs": [],
   "source": [
    "prediction_error_ZRI = final_test_data['Target_ZRI'] - lr_zri.predict(final_test_data[ZRI_feature_columns])"
   ]
  },
  {
   "cell_type": "code",
   "execution_count": 47,
   "metadata": {},
   "outputs": [
    {
     "data": {
      "text/plain": [
       "(count    18034.000000\n",
       " mean        -6.103928\n",
       " std         50.272472\n",
       " min       -378.155522\n",
       " 25%        -31.221562\n",
       " 50%         -6.170689\n",
       " 75%         20.387144\n",
       " max        332.982309\n",
       " Name: Target_ZRI, dtype: float64,\n",
       " count    18034.000000\n",
       " mean        -6.988601\n",
       " std         50.142288\n",
       " min       -382.748170\n",
       " 25%        -31.869321\n",
       " 50%         -6.831950\n",
       " 75%         19.475290\n",
       " max        311.215308\n",
       " Name: Target_ZRI, dtype: float64)"
      ]
     },
     "execution_count": 47,
     "metadata": {},
     "output_type": "execute_result"
    }
   ],
   "source": [
    "prediction_error_full.describe(), prediction_error_ZRI.describe()"
   ]
  },
  {
   "cell_type": "code",
   "execution_count": null,
   "metadata": {},
   "outputs": [],
   "source": [
    "prediction_error = final_test_data['Target_ZRI'] - lr.predict(final_test_data[feature_columns])"
   ]
  },
  {
   "cell_type": "code",
   "execution_count": null,
   "metadata": {},
   "outputs": [],
   "source": [
    "prediction_error.describe()"
   ]
  },
  {
   "cell_type": "code",
   "execution_count": null,
   "metadata": {},
   "outputs": [],
   "source": [
    "lr.coef_, lr.alpha_"
   ]
  },
  {
   "cell_type": "code",
   "execution_count": null,
   "metadata": {},
   "outputs": [],
   "source": [
    "window_sizes = list(range(1,13))\n",
    "future_time = 24\n",
    "time_unit = 'Month'\n",
    "num_obs = defaultdict()\n",
    "errors = defaultdict()\n",
    "scores = defaultdict()\n",
    "coefficients = defaultdict()\n",
    "\n",
    "for window_size in window_sizes:\n",
    "    ZRI_new = ZRI_format(ZRI_MF, time_unit = time_unit, \n",
    "                         window_size = window_size,\n",
    "                         future_time = future_time)\n",
    "    ZRI_new = ZRI_new.dropna()\n",
    "    num_obs[window_size] = ZRI_new.shape[0]\n",
    "    feature_columns = [x for x in ZRI_new.columns if 'minus' in x]\n",
    "    test_year = 2019\n",
    "    training_data = ZRI_new[ZRI_new.Year < test_year]\n",
    "    final_test_data = ZRI_new[ZRI_new.Year >= test_year]\n",
    "    most_recent_feature = f'ZRI_minus_{future_time}{time_unit[0]}'\n",
    "    X_train, X_test, y_train, y_test = train_test_split(training_data[feature_columns],\n",
    "                                                     training_data['Target_ZRI'],\n",
    "                                                     test_size = .1\n",
    "                                                    ) \n",
    "    lr = LinearRegression()\n",
    "    lr.fit(X_train,y_train)\n",
    "    coefficients[window_size] = defaultdict()\n",
    "    scores[window_size] = (lr.score(X_test,y_test), lr.score(X_train, y_train))\n",
    "    errors[window_size] = (final_test_data['Target_ZRI'] - \n",
    "                           lr.predict(final_test_data[feature_columns])).div(final_test_data[most_recent_feature])\n",
    "    "
   ]
  },
  {
   "cell_type": "code",
   "execution_count": null,
   "metadata": {},
   "outputs": [],
   "source": [
    "lr.coef_"
   ]
  },
  {
   "cell_type": "code",
   "execution_count": null,
   "metadata": {},
   "outputs": [],
   "source": [
    "plt.boxplot(errors.values())"
   ]
  },
  {
   "cell_type": "code",
   "execution_count": null,
   "metadata": {},
   "outputs": [],
   "source": [
    "plt.boxplot(list(map(lambda x: x.apply(lambda y: np.log10(y+1250)),errors.values())))"
   ]
  },
  {
   "cell_type": "code",
   "execution_count": null,
   "metadata": {},
   "outputs": [],
   "source": [
    "pd.DataFrame(errors).describe()"
   ]
  },
  {
   "cell_type": "code",
   "execution_count": null,
   "metadata": {},
   "outputs": [],
   "source": []
  }
 ],
 "metadata": {
  "kernelspec": {
   "display_name": "BigQuery_7park",
   "language": "python",
   "name": "bigquery_7park"
  },
  "language_info": {
   "codemirror_mode": {
    "name": "ipython",
    "version": 3
   },
   "file_extension": ".py",
   "mimetype": "text/x-python",
   "name": "python",
   "nbconvert_exporter": "python",
   "pygments_lexer": "ipython3",
   "version": "3.8.5"
  }
 },
 "nbformat": 4,
 "nbformat_minor": 4
}
