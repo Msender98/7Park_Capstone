{
 "cells": [
  {
   "cell_type": "code",
   "execution_count": 1,
   "metadata": {},
   "outputs": [],
   "source": [
    "import pandas as pd\n",
    "import numpy as np\n",
    "import matplotlib.pyplot as plt\n",
    "import pickle"
   ]
  },
  {
   "cell_type": "code",
   "execution_count": 2,
   "metadata": {},
   "outputs": [],
   "source": [
    "from data_setup import ZRI_format"
   ]
  },
  {
   "cell_type": "code",
   "execution_count": 3,
   "metadata": {},
   "outputs": [],
   "source": [
    "#Load Data\n",
    "ZRI_MF = pd.read_pickle('./pickles/ZRI_filtered.p')\n",
    "ACS = pd.read_pickle('./acs_data/ACS.p')\n",
    "crime = pd.read_pickle('./pickles/crime.p')\n",
    "dominant_county = pd.read_pickle('./pickles/dominant_county_zip.p')\n",
    "weather = pd.read_pickle('./pickles/weather.p')\n",
    "cbp = pd.read_pickle('./pickles/cbp_zip.p')"
   ]
  },
  {
   "cell_type": "code",
   "execution_count": 6,
   "metadata": {},
   "outputs": [
    {
     "name": "stdout",
     "output_type": "stream",
     "text": [
      "Wall time: 10.5 s\n"
     ]
    }
   ],
   "source": [
    "%%time\n",
    "ZRI_new = ZRI_format(ZRI_MF, time_unit = 'Month', window_size = 12, future_time = 36)"
   ]
  },
  {
   "cell_type": "code",
   "execution_count": 16,
   "metadata": {},
   "outputs": [],
   "source": [
    "acs_lag = 2\n",
    "ACS = ACS.assign(year_avail = (ACS.year.astype(int) + acs_lag).astype(str))"
   ]
  },
  {
   "cell_type": "code",
   "execution_count": 19,
   "metadata": {},
   "outputs": [],
   "source": [
    "cbp_lag = 2\n",
    "cbp = cbp.assign(year_avail = (cbp.Year.astype(int) + cbp_lag).astype(str))"
   ]
  },
  {
   "cell_type": "code",
   "execution_count": 22,
   "metadata": {},
   "outputs": [],
   "source": [
    "#ACS\n",
    "ZRI = ZRI_new.merge(ACS,how = 'left',left_on = ['ZipCode','Predict_Year'], \n",
    "                                              right_on = ['ZipCode','year_avail'])"
   ]
  },
  {
   "cell_type": "code",
   "execution_count": 23,
   "metadata": {},
   "outputs": [],
   "source": [
    "#Crime\n",
    "ZRI = ZRI.assign(dominant_county = ZRI.ZipCode.apply(lambda x: dominant_county[x]))\n",
    "ZRI = ZRI.merge(crime[['crime_rate_per_100000','county_fips_code']],how = 'left',\n",
    "          left_on = 'dominant_county',right_on = 'county_fips_code').drop('county_fips_code',axis = 1)"
   ]
  },
  {
   "cell_type": "code",
   "execution_count": 28,
   "metadata": {},
   "outputs": [
    {
     "data": {
      "text/html": [
       "<div>\n",
       "<style scoped>\n",
       "    .dataframe tbody tr th:only-of-type {\n",
       "        vertical-align: middle;\n",
       "    }\n",
       "\n",
       "    .dataframe tbody tr th {\n",
       "        vertical-align: top;\n",
       "    }\n",
       "\n",
       "    .dataframe thead th {\n",
       "        text-align: right;\n",
       "    }\n",
       "</style>\n",
       "<table border=\"1\" class=\"dataframe\">\n",
       "  <thead>\n",
       "    <tr style=\"text-align: right;\">\n",
       "      <th></th>\n",
       "      <th>ZIP</th>\n",
       "      <th>Year</th>\n",
       "      <th>num_businesses</th>\n",
       "      <th>num_employees</th>\n",
       "      <th>total_payroll</th>\n",
       "      <th>year_avail</th>\n",
       "    </tr>\n",
       "  </thead>\n",
       "  <tbody>\n",
       "    <tr>\n",
       "      <th>11996</th>\n",
       "      <td>99501</td>\n",
       "      <td>2011</td>\n",
       "      <td>1611.094373</td>\n",
       "      <td>27553.001726</td>\n",
       "      <td>1.587804e+06</td>\n",
       "      <td>2013</td>\n",
       "    </tr>\n",
       "    <tr>\n",
       "      <th>11997</th>\n",
       "      <td>99501</td>\n",
       "      <td>2012</td>\n",
       "      <td>1338.077782</td>\n",
       "      <td>22806.900145</td>\n",
       "      <td>1.354551e+06</td>\n",
       "      <td>2014</td>\n",
       "    </tr>\n",
       "    <tr>\n",
       "      <th>11998</th>\n",
       "      <td>99501</td>\n",
       "      <td>2013</td>\n",
       "      <td>1346.232382</td>\n",
       "      <td>23827.953500</td>\n",
       "      <td>1.411982e+06</td>\n",
       "      <td>2015</td>\n",
       "    </tr>\n",
       "    <tr>\n",
       "      <th>11999</th>\n",
       "      <td>99501</td>\n",
       "      <td>2014</td>\n",
       "      <td>1374.291342</td>\n",
       "      <td>23288.321370</td>\n",
       "      <td>1.439466e+06</td>\n",
       "      <td>2016</td>\n",
       "    </tr>\n",
       "    <tr>\n",
       "      <th>12000</th>\n",
       "      <td>99501</td>\n",
       "      <td>2015</td>\n",
       "      <td>1384.938720</td>\n",
       "      <td>23541.896605</td>\n",
       "      <td>1.469234e+06</td>\n",
       "      <td>2017</td>\n",
       "    </tr>\n",
       "    <tr>\n",
       "      <th>...</th>\n",
       "      <td>...</td>\n",
       "      <td>...</td>\n",
       "      <td>...</td>\n",
       "      <td>...</td>\n",
       "      <td>...</td>\n",
       "      <td>...</td>\n",
       "    </tr>\n",
       "    <tr>\n",
       "      <th>562498</th>\n",
       "      <td>54901</td>\n",
       "      <td>2014</td>\n",
       "      <td>657.081589</td>\n",
       "      <td>15421.271869</td>\n",
       "      <td>7.318644e+05</td>\n",
       "      <td>2016</td>\n",
       "    </tr>\n",
       "    <tr>\n",
       "      <th>562499</th>\n",
       "      <td>54901</td>\n",
       "      <td>2015</td>\n",
       "      <td>644.583496</td>\n",
       "      <td>15286.337208</td>\n",
       "      <td>7.662851e+05</td>\n",
       "      <td>2017</td>\n",
       "    </tr>\n",
       "    <tr>\n",
       "      <th>562500</th>\n",
       "      <td>54901</td>\n",
       "      <td>2016</td>\n",
       "      <td>662.749501</td>\n",
       "      <td>15705.154845</td>\n",
       "      <td>7.941442e+05</td>\n",
       "      <td>2018</td>\n",
       "    </tr>\n",
       "    <tr>\n",
       "      <th>562501</th>\n",
       "      <td>54901</td>\n",
       "      <td>2017</td>\n",
       "      <td>669.231182</td>\n",
       "      <td>15817.621251</td>\n",
       "      <td>8.052528e+05</td>\n",
       "      <td>2019</td>\n",
       "    </tr>\n",
       "    <tr>\n",
       "      <th>562502</th>\n",
       "      <td>54901</td>\n",
       "      <td>2018</td>\n",
       "      <td>650.462414</td>\n",
       "      <td>15697.622380</td>\n",
       "      <td>8.189579e+05</td>\n",
       "      <td>2020</td>\n",
       "    </tr>\n",
       "  </tbody>\n",
       "</table>\n",
       "<p>10248 rows × 6 columns</p>\n",
       "</div>"
      ],
      "text/plain": [
       "          ZIP  Year  num_businesses  num_employees  total_payroll year_avail\n",
       "11996   99501  2011     1611.094373   27553.001726   1.587804e+06       2013\n",
       "11997   99501  2012     1338.077782   22806.900145   1.354551e+06       2014\n",
       "11998   99501  2013     1346.232382   23827.953500   1.411982e+06       2015\n",
       "11999   99501  2014     1374.291342   23288.321370   1.439466e+06       2016\n",
       "12000   99501  2015     1384.938720   23541.896605   1.469234e+06       2017\n",
       "...       ...   ...             ...            ...            ...        ...\n",
       "562498  54901  2014      657.081589   15421.271869   7.318644e+05       2016\n",
       "562499  54901  2015      644.583496   15286.337208   7.662851e+05       2017\n",
       "562500  54901  2016      662.749501   15705.154845   7.941442e+05       2018\n",
       "562501  54901  2017      669.231182   15817.621251   8.052528e+05       2019\n",
       "562502  54901  2018      650.462414   15697.622380   8.189579e+05       2020\n",
       "\n",
       "[10248 rows x 6 columns]"
      ]
     },
     "execution_count": 28,
     "metadata": {},
     "output_type": "execute_result"
    }
   ],
   "source": [
    "cbp"
   ]
  },
  {
   "cell_type": "code",
   "execution_count": 27,
   "metadata": {},
   "outputs": [
    {
     "data": {
      "text/plain": [
       "array([ 1,  2,  3,  4,  5,  6,  7,  8,  9, 10, 11], dtype=int64)"
      ]
     },
     "execution_count": 27,
     "metadata": {},
     "output_type": "execute_result"
    }
   ],
   "source": [
    "#CBP\n",
    "ZRI = ZRI.merge(cbp[['ZIP','num_businesses','num_employees','total_payroll','year_avail']],\n",
    "                    how = 'left',\n",
    "                left_on = ['ZipCode','Predict_Year'],\n",
    "               right_on = ['ZIP',''])"
   ]
  },
  {
   "cell_type": "code",
   "execution_count": null,
   "metadata": {},
   "outputs": [],
   "source": [
    "#Columns to use in the final analysis\n",
    "zip_columns = ['geo_id','unemployed_pop','white_pop','vacant_housing_units','total_pop','worked_at_home',\n",
    "               'poverty','percent_income_spent_on_rent','occupied_housing_units',\n",
    "               'median_year_structure_built','median_age','married_households','masters_degree',\n",
    "               'male_pop','female_pop','income_per_capita','housing_units','employed_pop','black_pop',\n",
    "               'asian_pop','amerindian_pop','graduate_professional_degree']"
   ]
  },
  {
   "cell_type": "code",
   "execution_count": null,
   "metadata": {},
   "outputs": [],
   "source": [
    "#Convert columns to percentage\n",
    "#Columns to divide by total population\n",
    "pop_columns = ['unemployed_pop','white_pop','masters_degree',\n",
    "               'graduate_professional_degree','employed_pop','black_pop',\n",
    "               'asian_pop','amerindian_pop','poverty','worked_at_home']\n",
    "\n",
    "#Columns to divide by total housing units\n",
    "house_columns = ['vacant_housing_units','occupied_housing_units']\n",
    "\n",
    "#Division\n",
    "ZRI.loc[:,pop_columns] = ZRI[pop_columns].div(ZRI['total_pop'], axis = 0)\n",
    "ZRI.loc[:,house_columns] = ZRI[house_columns].div(ZRI['housing_units'], axis = 0)"
   ]
  },
  {
   "cell_type": "code",
   "execution_count": null,
   "metadata": {},
   "outputs": [],
   "source": [
    "from sklearn.linear_model import LinearRegression, RidgeCV, Lasso\n",
    "from sklearn.model_selection import train_test_split, GridSearchCV\n",
    "from sklearn.ensemble import RandomForestRegressor\n",
    "from sklearn.preprocessing import StandardScaler\n",
    "from sklearn.pipeline import make_pipeline\n",
    "from collections import defaultdict"
   ]
  },
  {
   "cell_type": "code",
   "execution_count": null,
   "metadata": {},
   "outputs": [],
   "source": [
    "#Find feature columns\n",
    "full_feature_columns = [x for x in ZRI.columns if 'minus' in x] +\\\n",
    "                                                     zip_columns +\\\n",
    "                                                   ['crime_rate_per_100000']"
   ]
  },
  {
   "cell_type": "code",
   "execution_count": null,
   "metadata": {},
   "outputs": [],
   "source": [
    "ZRI_feature_columns = [x for x in ZRI.columns if 'minus' in x]"
   ]
  },
  {
   "cell_type": "code",
   "execution_count": null,
   "metadata": {},
   "outputs": [],
   "source": [
    "#Train test split, test data is above a given year\n",
    "test_year = 2019\n",
    "data_4_model = ZRI[full_feature_columns + ['Target_ZRI','Year']].dropna()\n",
    "training_data = data_4_model[data_4_model.Year < test_year]\n",
    "test_data = data_4_model[data_4_model.Year >= test_year]"
   ]
  },
  {
   "cell_type": "code",
   "execution_count": null,
   "metadata": {},
   "outputs": [],
   "source": [
    "data_4_model[full_feature_columns]"
   ]
  },
  {
   "cell_type": "code",
   "execution_count": null,
   "metadata": {},
   "outputs": [],
   "source": [
    "X_train_full, y_train_full = training_data[full_feature_columns], training_data['Target_ZRI']"
   ]
  },
  {
   "cell_type": "code",
   "execution_count": null,
   "metadata": {},
   "outputs": [],
   "source": [
    "X_test_full, y_test_full = test_data[full_feature_columns], test_data['Target_ZRI']"
   ]
  },
  {
   "cell_type": "code",
   "execution_count": null,
   "metadata": {},
   "outputs": [],
   "source": [
    "lasso_params = {'alpha': [0.1,1,2,3,4,5]}\n",
    "lasso_grid = GridSearchCV(Lasso(), param_grid=lasso_params)\n",
    "lasso_model = make_pipeline(StandardScaler(),lasso_grid)\n",
    "rf_params = {'max_depth' : [None,10]}\n",
    "rf_model = GridSearchCV(RandomForestRegressor(n_jobs = -1),param_grid= rf_params)"
   ]
  },
  {
   "cell_type": "code",
   "execution_count": null,
   "metadata": {},
   "outputs": [],
   "source": [
    "rf_model.fit(X_train_full,y_train_full)"
   ]
  },
  {
   "cell_type": "code",
   "execution_count": null,
   "metadata": {},
   "outputs": [],
   "source": [
    "rf_coef_importance = pd.Series(dict(zip(X_train_full.columns, rf_model.best_estimator_.feature_importances_))).sort_values()"
   ]
  },
  {
   "cell_type": "code",
   "execution_count": null,
   "metadata": {},
   "outputs": [],
   "source": [
    "rf_model.score(X_test_full,y_test_full), rf_model.score(X_train_full,y_train_full)"
   ]
  },
  {
   "cell_type": "code",
   "execution_count": null,
   "metadata": {},
   "outputs": [],
   "source": [
    "rf_coef_importance.loc[[x for x in X_train_full.columns if ('minus' not in x) and (x != 'geo_id')]].sort_values().plot(kind = 'bar')"
   ]
  },
  {
   "cell_type": "code",
   "execution_count": null,
   "metadata": {},
   "outputs": [],
   "source": [
    "lasso_model.fit(X_train_full,y_train_full)"
   ]
  },
  {
   "cell_type": "code",
   "execution_count": null,
   "metadata": {},
   "outputs": [],
   "source": [
    "coefficients = pd.Series(dict(zip(X_train_full.columns, lasso_model.named_steps.gridsearchcv.best_estimator_.coef_))).sort_values()"
   ]
  },
  {
   "cell_type": "code",
   "execution_count": null,
   "metadata": {},
   "outputs": [],
   "source": [
    "coefficients.loc[[x for x in X_train_full.columns if ('minus' not in x) and (x != 'geo_id')]].sort_values().plot(kind='bar')"
   ]
  },
  {
   "cell_type": "code",
   "execution_count": null,
   "metadata": {},
   "outputs": [],
   "source": [
    "lasso_model.score(X_test_full,y_test_full), lasso_model.score(X_train_full, y_train_full)"
   ]
  },
  {
   "cell_type": "code",
   "execution_count": null,
   "metadata": {},
   "outputs": [],
   "source": [
    "prediction_error_full = final_test_data['Target_ZRI'] - lr_full.predict(final_test_data[full_feature_columns])"
   ]
  },
  {
   "cell_type": "code",
   "execution_count": null,
   "metadata": {},
   "outputs": [],
   "source": [
    "prediction_error_ZRI = final_test_data['Target_ZRI'] - lr_zri.predict(final_test_data[ZRI_feature_columns])"
   ]
  },
  {
   "cell_type": "code",
   "execution_count": null,
   "metadata": {},
   "outputs": [],
   "source": [
    "prediction_error_full.describe(), prediction_error_ZRI.describe()"
   ]
  },
  {
   "cell_type": "code",
   "execution_count": null,
   "metadata": {},
   "outputs": [],
   "source": [
    "prediction_error = final_test_data['Target_ZRI'] - lr.predict(final_test_data[feature_columns])"
   ]
  },
  {
   "cell_type": "code",
   "execution_count": null,
   "metadata": {},
   "outputs": [],
   "source": [
    "prediction_error.describe()"
   ]
  },
  {
   "cell_type": "code",
   "execution_count": null,
   "metadata": {},
   "outputs": [],
   "source": [
    "lr.coef_, lr.alpha_"
   ]
  },
  {
   "cell_type": "code",
   "execution_count": null,
   "metadata": {},
   "outputs": [],
   "source": [
    "lr.coef_"
   ]
  },
  {
   "cell_type": "code",
   "execution_count": null,
   "metadata": {},
   "outputs": [],
   "source": [
    "plt.boxplot(errors.values())"
   ]
  },
  {
   "cell_type": "code",
   "execution_count": null,
   "metadata": {},
   "outputs": [],
   "source": [
    "pd.DataFrame(errors).describe()"
   ]
  },
  {
   "cell_type": "code",
   "execution_count": null,
   "metadata": {},
   "outputs": [],
   "source": []
  }
 ],
 "metadata": {
  "kernelspec": {
   "display_name": "Python 3",
   "language": "python",
   "name": "python3"
  },
  "language_info": {
   "codemirror_mode": {
    "name": "ipython",
    "version": 3
   },
   "file_extension": ".py",
   "mimetype": "text/x-python",
   "name": "python",
   "nbconvert_exporter": "python",
   "pygments_lexer": "ipython3",
   "version": "3.8.5"
  }
 },
 "nbformat": 4,
 "nbformat_minor": 4
}
