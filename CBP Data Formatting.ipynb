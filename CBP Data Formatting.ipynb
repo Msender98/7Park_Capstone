{
 "cells": [
  {
   "cell_type": "code",
   "execution_count": null,
   "metadata": {},
   "outputs": [],
   "source": [
    "import pandas as pd\n",
    "import os\n",
    "from collections import defaultdict\n",
    "from data_setup import FixID\n",
    "import config"
   ]
  },
  {
   "cell_type": "markdown",
   "metadata": {},
   "source": [
    "### Note on use\n",
    "This notebook assumes cbp data from https://www.census.gov/programs-surveys/cbp/data/datasets.html has been downloaded and placed in a folder called cbp_data/"
   ]
  },
  {
   "cell_type": "code",
   "execution_count": null,
   "metadata": {},
   "outputs": [],
   "source": [
    "cbp_files = os.listdir('./cbp_data/')"
   ]
  },
  {
   "cell_type": "code",
   "execution_count": null,
   "metadata": {},
   "outputs": [],
   "source": [
    "cbp_dfs = defaultdict()\n",
    "for file in cbp_files:\n",
    "    cbp_dfs['20'+file[3:5]] = pd.read_csv('./cbp_data/'+file)\n",
    "    cbp_dfs['20'+file[3:5]] = cbp_dfs['20'+file[3:5]].assign(year = '20'+file[3:5])"
   ]
  },
  {
   "cell_type": "code",
   "execution_count": null,
   "metadata": {},
   "outputs": [],
   "source": [
    "cbp_dfs['2015'].columns = map(str.lower, cbp_dfs['2015'].columns)"
   ]
  },
  {
   "cell_type": "code",
   "execution_count": null,
   "metadata": {},
   "outputs": [],
   "source": [
    "#stack all of the data\n",
    "CBP_merged = pd.concat([cbp_dfs[year] for year in cbp_dfs])"
   ]
  },
  {
   "cell_type": "code",
   "execution_count": null,
   "metadata": {},
   "outputs": [],
   "source": [
    "#only looking at totals\n",
    "CBP_merged = CBP_merged[CBP_merged.naics == '------']"
   ]
  },
  {
   "cell_type": "code",
   "execution_count": null,
   "metadata": {},
   "outputs": [],
   "source": [
    "CBP_merged[CBP_merged.year == '2015']"
   ]
  },
  {
   "cell_type": "code",
   "execution_count": null,
   "metadata": {},
   "outputs": [],
   "source": [
    "CBP_merged = CBP_merged.assign(fipscty = CBP_merged['fipscty'].apply(lambda x: FixID(x,3)))\n",
    "CBP_merged = CBP_merged.assign(fipstate = CBP_merged['fipstate'].apply(lambda x: FixID(x,2)))"
   ]
  },
  {
   "cell_type": "code",
   "execution_count": null,
   "metadata": {},
   "outputs": [],
   "source": [
    "CBP_merged['county'] = CBP_merged['fipstate'] + CBP_merged['fipscty']"
   ]
  },
  {
   "cell_type": "code",
   "execution_count": null,
   "metadata": {},
   "outputs": [],
   "source": [
    "CBP_merged.to_pickle('./pickles/CBP.p', protocol = 4)"
   ]
  },
  {
   "cell_type": "code",
   "execution_count": null,
   "metadata": {},
   "outputs": [],
   "source": [
    "#Select path to credentials\n",
    "os.environ[\"GOOGLE_APPLICATION_CREDENTIALS\"]=config.GOOGLE_APPLICATION_CREDENTIALS\n",
    "%load_ext google.cloud.bigquery"
   ]
  },
  {
   "cell_type": "code",
   "execution_count": null,
   "metadata": {},
   "outputs": [],
   "source": [
    "CBP = pd.read_pickle('./pickles/CBP.p')\n",
    "ZRI = pd.read_pickle('./pickles/ZRI_filtered.p')\n"
   ]
  },
  {
   "cell_type": "code",
   "execution_count": null,
   "metadata": {},
   "outputs": [],
   "source": [
    "%%bigquery --use_rest_api hud\n",
    "SELECT COUNTY, ZIP, BUS_RATIO, DATE\n",
    "FROM `high-empire-220313.hud_crosswalk.county_zip_formatted` "
   ]
  },
  {
   "cell_type": "code",
   "execution_count": null,
   "metadata": {},
   "outputs": [],
   "source": [
    "#Change date to year and aggregate for each year\n",
    "hud['Year'] = hud.DATE.astype(str).apply(lambda x: FixID(x,6)[2:])\n",
    "hud['Quarter'] = hud.DATE.astype(str).apply(lambda x: str(int(int(FixID(x,6)[:2])/3)))"
   ]
  },
  {
   "cell_type": "code",
   "execution_count": null,
   "metadata": {},
   "outputs": [],
   "source": [
    "hud_agg = hud.drop('DATE',axis =1).groupby(['COUNTY','ZIP','Year']).mean().reset_index()"
   ]
  },
  {
   "cell_type": "code",
   "execution_count": null,
   "metadata": {},
   "outputs": [],
   "source": [
    "zip_year = hud_agg[['ZIP','Year']]"
   ]
  },
  {
   "cell_type": "code",
   "execution_count": null,
   "metadata": {},
   "outputs": [],
   "source": [
    "zip_year = zip_year.drop_duplicates()"
   ]
  },
  {
   "cell_type": "code",
   "execution_count": null,
   "metadata": {},
   "outputs": [],
   "source": [
    "zri_zips = ZRI.RegionName.apply(FixID)"
   ]
  },
  {
   "cell_type": "code",
   "execution_count": null,
   "metadata": {},
   "outputs": [],
   "source": [
    "%%time\n",
    "zip_filtered = zip_year[zip_year.ZIP.apply(lambda x: x in list(zri_zips))]"
   ]
  },
  {
   "cell_type": "code",
   "execution_count": null,
   "metadata": {},
   "outputs": [],
   "source": [
    "zip_filtered = zip_filtered[(zip_filtered.Year.astype(int)>2010) & (zip_filtered.Year.astype(int)<2019)]"
   ]
  },
  {
   "cell_type": "code",
   "execution_count": null,
   "metadata": {},
   "outputs": [],
   "source": [
    "zipped_years = zip(list(zip_filtered.ZIP),list(zip_filtered.Year))"
   ]
  },
  {
   "cell_type": "code",
   "execution_count": null,
   "metadata": {},
   "outputs": [],
   "source": [
    "def zip_business(zip_code, year, value):\n",
    "    hud_transforms = hud_agg[(hud_agg.ZIP == zip_code) & (hud_agg.Year == year)]\n",
    "    zip_value = 0\n",
    "    for county in hud_transforms.COUNTY:\n",
    "        try:\n",
    "            zip_value += hud_transforms[hud_transforms.COUNTY == county].BUS_RATIO.iloc[0] *\\\n",
    "                CBP[(CBP.county == county) & (CBP.year == year)][value].iloc[0]\n",
    "        except IndexError:\n",
    "            pass\n",
    "    return(zip_value)"
   ]
  },
  {
   "cell_type": "code",
   "execution_count": null,
   "metadata": {},
   "outputs": [],
   "source": [
    "%%time\n",
    "est =  [zip_business(zip_code,year,'est') for zip_code,year in zipped_years]"
   ]
  },
  {
   "cell_type": "code",
   "execution_count": null,
   "metadata": {},
   "outputs": [],
   "source": [
    "%%time\n",
    "emp =  [zip_business(zip_code,year,'emp') for zip_code,year in zip(list(zip_filtered.ZIP),list(zip_filtered.Year))]"
   ]
  },
  {
   "cell_type": "code",
   "execution_count": null,
   "metadata": {},
   "outputs": [],
   "source": [
    "%%time\n",
    "ap =  [zip_business(zip_code,year,'ap') for zip_code,year in zip(list(zip_filtered.ZIP),list(zip_filtered.Year))]"
   ]
  },
  {
   "cell_type": "code",
   "execution_count": null,
   "metadata": {},
   "outputs": [],
   "source": [
    "%%time\n",
    "#zip_filtered['emp'] = zip_filtered.apply(lambda x: zip_business(x.loc['ZIP'],x.loc['Year'],'emp'),axis = 1)"
   ]
  },
  {
   "cell_type": "code",
   "execution_count": null,
   "metadata": {},
   "outputs": [],
   "source": [
    "zip_filtered = zip_filtered.assign(est = est, emp = emp, ap = ap)"
   ]
  },
  {
   "cell_type": "code",
   "execution_count": null,
   "metadata": {},
   "outputs": [],
   "source": [
    "zip_filtered.to_pickle('./pickles/cbp_zip.p',protocol = 4)"
   ]
  }
 ],
 "metadata": {
  "kernelspec": {
   "display_name": "BigQuery_7park",
   "language": "python",
   "name": "bigquery_7park"
  },
  "language_info": {
   "codemirror_mode": {
    "name": "ipython",
    "version": 3
   },
   "file_extension": ".py",
   "mimetype": "text/x-python",
   "name": "python",
   "nbconvert_exporter": "python",
   "pygments_lexer": "ipython3",
   "version": "3.8.5"
  }
 },
 "nbformat": 4,
 "nbformat_minor": 4
}
