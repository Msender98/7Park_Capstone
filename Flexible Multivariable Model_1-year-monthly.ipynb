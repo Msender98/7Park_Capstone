{
 "cells": [
  {
   "cell_type": "code",
   "execution_count": null,
   "metadata": {},
   "outputs": [],
   "source": [
    "import pandas as pd\n",
    "import numpy as np\n",
    "import matplotlib.pyplot as plt\n",
    "import pickle"
   ]
  },
  {
   "cell_type": "code",
   "execution_count": null,
   "metadata": {},
   "outputs": [],
   "source": [
    "from data_setup import ZRI_format"
   ]
  },
  {
   "cell_type": "code",
   "execution_count": null,
   "metadata": {},
   "outputs": [],
   "source": [
    "#Load Data\n",
    "ZRI_MF = pd.read_pickle('./pickles/ZRI_filtered.p')\n",
    "ACS = pd.read_pickle('./acs_data/ACS.p')\n",
    "crime = pd.read_pickle('./pickles/crime.p')\n",
    "dominant_county = pd.read_pickle('./pickles/dominant_county_zip.p')\n",
    "weather = pd.read_pickle('./pickles/weather.p')\n",
    "cbp = pd.read_pickle('./pickles/cbp_zip.p')"
   ]
  },
  {
   "cell_type": "code",
   "execution_count": null,
   "metadata": {},
   "outputs": [],
   "source": [
    "%%time\n",
    "ZRI = ZRI_format(ZRI_MF, time_unit = 'Month', window_size = 9, future_time = 12)"
   ]
  },
  {
   "cell_type": "code",
   "execution_count": null,
   "metadata": {},
   "outputs": [],
   "source": [
    "[x for x in ZRI.columns if 'minus' in x]"
   ]
  },
  {
   "cell_type": "code",
   "execution_count": null,
   "metadata": {},
   "outputs": [],
   "source": [
    "acs_lag = 2\n",
    "ACS = ACS.assign(year_avail = (ACS.year.astype(int) + acs_lag).astype(str))"
   ]
  },
  {
   "cell_type": "code",
   "execution_count": null,
   "metadata": {},
   "outputs": [],
   "source": [
    "cbp_lag = 2\n",
    "cbp = cbp.assign(year_avail = (cbp.Year.astype(int) + cbp_lag).astype(str))"
   ]
  },
  {
   "cell_type": "code",
   "execution_count": null,
   "metadata": {},
   "outputs": [],
   "source": [
    "#ACS\n",
    "ZRI = ZRI.merge(ACS,how = 'left',left_on = ['ZipCode','Predict_Year'], \n",
    "                                            right_on = ['ZipCode','year_avail'])"
   ]
  },
  {
   "cell_type": "code",
   "execution_count": null,
   "metadata": {},
   "outputs": [],
   "source": [
    "#Crime\n",
    "ZRI = ZRI.assign(dominant_county = ZRI.ZipCode.apply(lambda x: dominant_county[x]))\n",
    "ZRI = ZRI.merge(crime[['crime_rate_per_100000','county_fips_code']],how = 'left',\n",
    "          left_on = 'dominant_county',right_on = 'county_fips_code').drop('county_fips_code',axis = 1)"
   ]
  },
  {
   "cell_type": "code",
   "execution_count": null,
   "metadata": {},
   "outputs": [],
   "source": [
    "#Weather \n",
    "#NOTE: will need to edit for quarterly/monthly data. Need to aggregate first\n",
    "ZRI = ZRI.merge(weather,how = 'left', on = ['ZipCode','Month'])"
   ]
  },
  {
   "cell_type": "code",
   "execution_count": null,
   "metadata": {},
   "outputs": [],
   "source": [
    "#CBP\n",
    "ZRI = ZRI.merge(cbp[['ZIP','num_businesses','num_employees','total_payroll','year_avail']],\n",
    "                    how = 'left',\n",
    "                left_on = ['ZipCode','Predict_Year'],\n",
    "               right_on = ['ZIP','year_avail'])"
   ]
  },
  {
   "cell_type": "code",
   "execution_count": null,
   "metadata": {},
   "outputs": [],
   "source": [
    "#Feature Engineering\n",
    "ZRI = ZRI.assign(gender_ratio = ZRI['male_pop'].div(ZRI['female_pop']),\n",
    "                 temp_diff    =     ZRI['High_Temp'] - ZRI['Low_Temp'],\n",
    "                 vacant_ratio = ZRI['vacant_housing_units'].div(ZRI['occupied_housing_units']))"
   ]
  },
  {
   "cell_type": "code",
   "execution_count": null,
   "metadata": {},
   "outputs": [],
   "source": [
    "#Columns to use in the final analysis\n",
    "feature_columns = ['ZipCode','unemployed_pop','white_pop','total_pop','worked_at_home',\n",
    "                  'poverty','percent_income_spent_on_rent',\n",
    "                  'median_year_structure_built','median_age','married_households','masters_degree',\n",
    "                  'income_per_capita','housing_units','employed_pop','black_pop',\n",
    "                  'asian_pop','amerindian_pop','crime_rate_per_100000','num_businesses',\n",
    "                  'num_employees','total_payroll','Rain_Fall','gender_ratio','Low_Temp', 'temp_diff',\n",
    "                  'vacant_ratio']"
   ]
  },
  {
   "cell_type": "code",
   "execution_count": null,
   "metadata": {},
   "outputs": [],
   "source": [
    "#Convert columns to percentage\n",
    "#Columns to divide by total population\n",
    "pop_columns = ['unemployed_pop','white_pop','masters_degree',\n",
    "               'employed_pop','black_pop',\n",
    "               'asian_pop','amerindian_pop','poverty','worked_at_home']\n",
    "\n",
    "#Division\n",
    "ZRI.loc[:,pop_columns] = ZRI[pop_columns].div(ZRI['total_pop'], axis = 0)\n"
   ]
  },
  {
   "cell_type": "code",
   "execution_count": null,
   "metadata": {},
   "outputs": [],
   "source": [
    "from sklearn.linear_model import LinearRegression, RidgeCV, Lasso\n",
    "from sklearn.model_selection import train_test_split, GridSearchCV\n",
    "from sklearn.ensemble import RandomForestRegressor\n",
    "from sklearn.preprocessing import StandardScaler\n",
    "from sklearn.pipeline import make_pipeline\n",
    "from collections import defaultdict"
   ]
  },
  {
   "cell_type": "code",
   "execution_count": null,
   "metadata": {},
   "outputs": [],
   "source": [
    "#Find feature columns\n",
    "full_feature_columns = [x for x in ZRI.columns if 'minus' in x] + feature_columns                             "
   ]
  },
  {
   "cell_type": "code",
   "execution_count": null,
   "metadata": {},
   "outputs": [],
   "source": [
    "without_zri_columns = [x for x in full_feature_columns if 'minus' not in x]"
   ]
  },
  {
   "cell_type": "code",
   "execution_count": null,
   "metadata": {},
   "outputs": [],
   "source": [
    "#Train test split, test data is above a given year\n",
    "test_year = 2019\n",
    "data_4_model = ZRI[full_feature_columns + ['Target_ZRI','Year']].dropna()\n",
    "training_data = data_4_model[data_4_model.Year < test_year]\n",
    "test_data = data_4_model[data_4_model.Year >= test_year]"
   ]
  },
  {
   "cell_type": "code",
   "execution_count": null,
   "metadata": {},
   "outputs": [],
   "source": [
    "X_train_full, y_train_full = training_data[full_feature_columns], training_data['Target_ZRI']"
   ]
  },
  {
   "cell_type": "code",
   "execution_count": null,
   "metadata": {},
   "outputs": [],
   "source": [
    "X_train_no_zri, y_train_no_zri = training_data[without_zri_columns], training_data['Target_ZRI']"
   ]
  },
  {
   "cell_type": "code",
   "execution_count": null,
   "metadata": {},
   "outputs": [],
   "source": [
    "X_test_full, y_test_full = test_data[full_feature_columns], test_data['Target_ZRI']"
   ]
  },
  {
   "cell_type": "code",
   "execution_count": null,
   "metadata": {},
   "outputs": [],
   "source": [
    "X_test_no_zri, y_test_no_zri = test_data[without_zri_columns], test_data['Target_ZRI']"
   ]
  },
  {
   "cell_type": "code",
   "execution_count": null,
   "metadata": {},
   "outputs": [],
   "source": [
    "lasso_params = {'alpha': [0.1,1,2,3,4,5,10,20]}\n",
    "lasso_grid = GridSearchCV(Lasso(), param_grid=lasso_params)\n",
    "lasso_model = make_pipeline(StandardScaler(),lasso_grid)\n",
    "rf_params = {'max_depth': [10, None],\n",
    "          'max_features': ['auto'],\n",
    "      'min_samples_leaf': [4],\n",
    "     'min_samples_split': [10],\n",
    "          'n_estimators': [200]}\n",
    "rf_model = GridSearchCV(RandomForestRegressor(n_jobs = -1),param_grid= rf_params)\n",
    "rf_model_no_zri = GridSearchCV(RandomForestRegressor(n_jobs = -1),param_grid= rf_params)"
   ]
  },
  {
   "cell_type": "code",
   "execution_count": null,
   "metadata": {},
   "outputs": [],
   "source": [
    "%%time\n",
    "rf_model.fit(X_train_full,y_train_full)"
   ]
  },
  {
   "cell_type": "code",
   "execution_count": null,
   "metadata": {},
   "outputs": [],
   "source": [
    "rf_model_no_zri.fit(X_train_no_zri,y_train_no_zri)"
   ]
  },
  {
   "cell_type": "code",
   "execution_count": null,
   "metadata": {},
   "outputs": [],
   "source": [
    "rf_model_no_zri.score(X_test_no_zri,y_test_no_zri), rf_model_no_zri.score(X_train_no_zri,y_train_no_zri)"
   ]
  },
  {
   "cell_type": "code",
   "execution_count": null,
   "metadata": {},
   "outputs": [],
   "source": [
    "rf_no_zri_coef_importance = pd.Series(dict(zip(X_train_no_zri.columns, rf_model_no_zri.best_estimator_.feature_importances_))).sort_values()\n",
    "rf_no_zri_coef_importance.plot(kind = 'bar', title = '1 Year RF Feature Importance No ZRI')"
   ]
  },
  {
   "cell_type": "code",
   "execution_count": null,
   "metadata": {},
   "outputs": [],
   "source": [
    "rf_model.score(X_test_full,y_test_full), rf_model.score(X_train_full,y_train_full)"
   ]
  },
  {
   "cell_type": "code",
   "execution_count": null,
   "metadata": {},
   "outputs": [],
   "source": [
    "rf_coef_importance = pd.Series(dict(zip(X_train_full.columns, rf_model.best_estimator_.feature_importances_))).sort_values()"
   ]
  },
  {
   "cell_type": "code",
   "execution_count": null,
   "metadata": {},
   "outputs": [],
   "source": [
    "rf_coef_importance.loc[[x for x in X_train_full.columns if ('minus' not in x) and (x != 'ZipCode')]].sort_values().plot(kind = 'bar',\n",
    "                                                                                                                       title = '1 Year RF Feature Importance')"
   ]
  },
  {
   "cell_type": "code",
   "execution_count": null,
   "metadata": {},
   "outputs": [],
   "source": [
    "rf_coef_importance.sort_values().plot(kind = 'bar', title = '1 Year RF Feature Importance')"
   ]
  },
  {
   "cell_type": "code",
   "execution_count": null,
   "metadata": {},
   "outputs": [],
   "source": [
    "lasso_model.fit(X_train_full,y_train_full)"
   ]
  },
  {
   "cell_type": "code",
   "execution_count": null,
   "metadata": {},
   "outputs": [],
   "source": [
    "coefficients = pd.Series(dict(zip(X_train_full.columns, lasso_model.named_steps.gridsearchcv.best_estimator_.coef_))).sort_values()"
   ]
  },
  {
   "cell_type": "code",
   "execution_count": null,
   "metadata": {},
   "outputs": [],
   "source": [
    "coefficients.plot(kind = 'bar',title = 'Lasso 3 Year Forecast')"
   ]
  },
  {
   "cell_type": "code",
   "execution_count": null,
   "metadata": {},
   "outputs": [],
   "source": [
    "coefficients.loc[[x for x in X_train_full.columns if ('minus' not in x) and (x != 'ZipCode')]].sort_values().plot(kind='bar')"
   ]
  },
  {
   "cell_type": "code",
   "execution_count": null,
   "metadata": {},
   "outputs": [],
   "source": [
    "lasso_model.score(X_test_full,y_test_full), lasso_model.score(X_train_full, y_train_full)"
   ]
  },
  {
   "cell_type": "code",
   "execution_count": null,
   "metadata": {},
   "outputs": [],
   "source": [
    "lasso_columns = [x for x in without_zri_columns if x in ['vacant_ratio','white_pop','asian_pop']] + [x for x in ZRI.columns if 'minus' in x] "
   ]
  },
  {
   "cell_type": "code",
   "execution_count": null,
   "metadata": {},
   "outputs": [],
   "source": [
    "ridge_model = lasso_model = make_pipeline(StandardScaler(),RidgeCV())"
   ]
  },
  {
   "cell_type": "code",
   "execution_count": null,
   "metadata": {},
   "outputs": [],
   "source": [
    "ridge_model.fit(X_train_full[lasso_columns], y_train_full)"
   ]
  },
  {
   "cell_type": "code",
   "execution_count": null,
   "metadata": {},
   "outputs": [],
   "source": [
    "ridge_model.score(X_test_full[lasso_columns],y_test_full), ridge_model.score(X_train_full[lasso_columns],y_train_full)"
   ]
  },
  {
   "cell_type": "code",
   "execution_count": null,
   "metadata": {},
   "outputs": [],
   "source": []
  }
 ],
 "metadata": {
  "kernelspec": {
   "display_name": "Python 3",
   "language": "python",
   "name": "python3"
  },
  "language_info": {
   "codemirror_mode": {
    "name": "ipython",
    "version": 3
   },
   "file_extension": ".py",
   "mimetype": "text/x-python",
   "name": "python",
   "nbconvert_exporter": "python",
   "pygments_lexer": "ipython3",
   "version": "3.8.5"
  }
 },
 "nbformat": 4,
 "nbformat_minor": 4
}
