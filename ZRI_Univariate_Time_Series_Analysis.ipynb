{
 "cells": [
  {
   "cell_type": "code",
   "execution_count": null,
   "metadata": {},
   "outputs": [],
   "source": [
    "import os\n",
    "import pandas as pd\n",
    "import numpy as np\n",
    "import matplotlib.pyplot as plt\n",
    "import config"
   ]
  },
  {
   "cell_type": "code",
   "execution_count": null,
   "metadata": {},
   "outputs": [],
   "source": [
    "#Load google.cloud.bigquery\n",
    "%load_ext google.cloud.bigquery"
   ]
  },
  {
   "cell_type": "code",
   "execution_count": null,
   "metadata": {},
   "outputs": [],
   "source": [
    "#Select path to credentials\n",
    "os.environ[\"GOOGLE_APPLICATION_CREDENTIALS\"]=config.GOOGLE_APPLICATION_CREDENTIALS"
   ]
  },
  {
   "cell_type": "code",
   "execution_count": null,
   "metadata": {},
   "outputs": [],
   "source": [
    "%%bigquery --use_rest_api ZRI_MF\n",
    "SELECT *\n",
    "FROM `high-empire-220313.ZRI.Multi_Family`"
   ]
  },
  {
   "cell_type": "code",
   "execution_count": null,
   "metadata": {},
   "outputs": [],
   "source": [
    "ZRI_MF.head()"
   ]
  },
  {
   "cell_type": "code",
   "execution_count": null,
   "metadata": {},
   "outputs": [],
   "source": [
    "year_columns = [x for x in ZRI_MF.columns if ('20' in x)]"
   ]
  },
  {
   "cell_type": "code",
   "execution_count": null,
   "metadata": {},
   "outputs": [],
   "source": [
    "#Plot 50 largest zip code's ZRI over time\n",
    "fig, ax = plt.subplots()\n",
    "for i in range(1,50):\n",
    "    ZRI_MF[ZRI_MF.SizeRank == i].loc[:,year_columns].transpose().plot(kind = 'line', ax = ax)\n",
    "ax.get_legend().remove()"
   ]
  },
  {
   "cell_type": "markdown",
   "metadata": {},
   "source": [
    "Next steps:\n",
    "Use various time series analyses techniques to forecast purely based off of previous ZRI. \n"
   ]
  },
  {
   "cell_type": "code",
   "execution_count": null,
   "metadata": {},
   "outputs": [],
   "source": [
    "from sklearn.linear_model import LinearRegression\n",
    "lr = LinearRegression()"
   ]
  },
  {
   "cell_type": "code",
   "execution_count": null,
   "metadata": {},
   "outputs": [],
   "source": [
    "def lregress(row):\n",
    "    '''\n",
    "    Does a linear regression on one region's (row) ZRI over time. \n",
    "    Outputs the slope, intercept, MSE, and error the predicting the most recent month.\n",
    "    '''\n",
    "    years = row[year_columns].reset_index().dropna()\n",
    "    if (years.empty) or (years.shape[0] < 3):\n",
    "        return(None,None,None,None)\n",
    "    y = years.iloc[:,1].values[:-1]\n",
    "    X = np.array(years.index)[:-1]\n",
    "    X_test = np.array(years.index)[-1]\n",
    "    y_test = years.iloc[:,1].values[-1]\n",
    "    lr.fit(X.reshape(-1,1),y)\n",
    "    test_residual = lr.predict(X_test.reshape(-1,1)) - y_test\n",
    "    return(lr.coef_[0],lr.intercept_,lr.score(X.reshape(-1,1),y),test_residual[0])"
   ]
  },
  {
   "cell_type": "code",
   "execution_count": null,
   "metadata": {},
   "outputs": [],
   "source": [
    "#Run lregress function on every row\n",
    "lr_data = ZRI_MF.apply(lregress,axis = 1)"
   ]
  },
  {
   "cell_type": "code",
   "execution_count": null,
   "metadata": {},
   "outputs": [],
   "source": [
    "#Inputs results from lregress to the dataframe\n",
    "ZRI_MF['slope'] = [x[0] for x in lr_data]\n",
    "ZRI_MF['intercept'] = [x[1] for x in lr_data]\n",
    "ZRI_MF['score'] = [x[2] for x in lr_data]\n",
    "ZRI_MF['error'] = [x[3] for x in lr_data]"
   ]
  },
  {
   "cell_type": "code",
   "execution_count": null,
   "metadata": {},
   "outputs": [],
   "source": [
    "#Print results of the lregress\n",
    "ZRI_MF[['slope','intercept','score','error']].describe()"
   ]
  }
 ],
 "metadata": {
  "kernelspec": {
   "display_name": "BigQuery_7park",
   "language": "python",
   "name": "bigquery_7park"
  },
  "language_info": {
   "codemirror_mode": {
    "name": "ipython",
    "version": 3
   },
   "file_extension": ".py",
   "mimetype": "text/x-python",
   "name": "python",
   "nbconvert_exporter": "python",
   "pygments_lexer": "ipython3",
   "version": "3.8.5"
  }
 },
 "nbformat": 4,
 "nbformat_minor": 4
}
