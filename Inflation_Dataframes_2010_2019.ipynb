{
 "cells": [
  {
   "cell_type": "markdown",
   "metadata": {},
   "source": [
    "# INFLATION\n",
    "## There are 29 different types of inflation measured by the Bureau of Labor Statistics (BLS)\n",
    "### ***NOTE***:  The December 1999 score of 100.0 is *Baseline*, or starting level, for each inflation score type.\n",
    "#### The monthly data for years 2010-2019 for each inflation type is separated into different dataframes below, using the inflation type as the dataframe name (*i.e. All_items, Housing, Shelter*)."
   ]
  },
  {
   "cell_type": "code",
   "execution_count": null,
   "metadata": {},
   "outputs": [],
   "source": [
    "import os\n",
    "import pandas as pd\n",
    "import numpy as np\n",
    "import matplotlib.pyplot as plt\n",
    "import config\n",
    "\n",
    "pd.set_option('display.max_columns', 100, 'display.max_rows', 10)\n",
    "\n",
    "#Load google.cloud.bigquery\n",
    "%load_ext google.cloud.bigquery\n",
    "\n",
    "#Select path to credentials\n",
    "os.environ[\"GOOGLE_APPLICATION_CREDENTIALS\"]=config.GOOGLE_APPLICATION_CREDENTIALS"
   ]
  },
  {
   "cell_type": "code",
   "execution_count": null,
   "metadata": {},
   "outputs": [],
   "source": [
    "%%bigquery --use_rest_api inflation\n",
    "SELECT *\n",
    "FROM `bigquery-public-data.bls.c_cpi_u`"
   ]
  },
  {
   "cell_type": "code",
   "execution_count": null,
   "metadata": {},
   "outputs": [],
   "source": [
    "#make copy of inflation to preserve original before changing it\n",
    "all_inflation2010_2019 = inflation.copy()\n",
    "\n",
    "#filtering for only months from 2010-2019\n",
    "all_inflation2010_2019 = all_inflation2010_2019.loc[(all_inflation2010_2019['year'] < 2020)\n",
    "                                                    & (all_inflation2010_2019['year'] > 2009)]\n",
    "\n",
    "#replacing ' ' with '_' for the item_name column (type of inflation)\n",
    "all_inflation2010_2019.loc[:,'item_name'] = all_inflation2010_2019['item_name'].str.replace(' ', '_') \n",
    "\n",
    "#create list of all the different types of inflation\n",
    "item_names = list(all_inflation2010_2019['item_name'].unique())\n",
    "\n",
    "#Create dataframe for one of the groupby inflation types\n",
    "all_inflation2010_2019.groupby('item_name').get_group('All_items')\n",
    "\n",
    "# This assigns a variable name (the inflation type) to each dataframe\n",
    "All_items, Energy, All_items_less_food_and_energy,Apparel, Commodities, Durables, \\\n",
    "Education_and_communication, Education,Communication,Food_and_beverages ,Food,\\\n",
    "Food_at_home ,Alcoholic_beverages ,Other_goods_and_services ,Housing ,Shelter, \\\n",
    "Fuels_and_utilities ,Household_furnishings_and_operations ,Medical_care , \\\n",
    "Medical_care_commodities ,Medical_care_services ,Nondurables ,Recreation,Services, \\\n",
    "Transportation ,Private_transportation ,Food_away_from_home ,New_vehicles, \\\n",
    "Public_transportation = [all_inflation2010_2019.groupby('item_name').get_group(item_name)\n",
    " for item_name in item_names]"
   ]
  },
  {
   "cell_type": "code",
   "execution_count": null,
   "metadata": {},
   "outputs": [],
   "source": [
    "# Inflation dataframe for all items\n",
    "All_items\n",
    "\n",
    "#Inflation dataframe for housing\n",
    "Housing\n",
    "\n",
    "#Inflation dataframe for shelter\n",
    "Shelter"
   ]
  },
  {
   "cell_type": "code",
   "execution_count": null,
   "metadata": {},
   "outputs": [],
   "source": [
    "#ZRI-SCORES ADJUSTED USING ALL-ITEMS INFLATION\n",
    "\n",
    "# remove 3 M13 (month 13) values (yearly average...only present for 2010-2012)\n",
    "All_items = All_items[~(All_items.period == 'M13')]\n",
    "\n",
    "# Remove first 8 months which are not in the original ZRI Multi-Family table\n",
    "All_items = All_items.iloc[8:,:]\n",
    "\n",
    "# return the December of 2019 'All_items' inflation index number\n",
    "compare_to_value = All_items['value'].iloc[-1]\n",
    "\n",
    "# Dataframe with only data as index and Inflation values\n",
    "all_items = All_items[['value', 'date' ]].set_index('date')\n",
    "all_items.index = pd.to_datetime(all_items.index, format = \"%Y-%m-%d\")\n",
    "all_items = all_items.sort_index()\n",
    "\n",
    "#create dataframe with multipliers to adjust for 'All_items' inflation\n",
    "all_items_adjusted = compare_to_value/all_items"
   ]
  },
  {
   "cell_type": "code",
   "execution_count": null,
   "metadata": {},
   "outputs": [],
   "source": [
    "#ZRI-SCORES ADJUSTED USING HOUSING INFLATION\n",
    "# remove 3 M13 (month 13) values (yearly average...only present for 2010-2012)\n",
    "Housing = Housing[~(Housing.period == 'M13')]\n",
    "\n",
    "# Remove first 8 months which are not in the original ZRI Multi-Family table\n",
    "Housing = Housing.iloc[8:,:]\n",
    "\n",
    "# return the December of 2019 'Housing' inflation index number\n",
    "compare_to_value = Housing['value'].iloc[-1]\n",
    "\n",
    "# Dataframe with only data as index and Inflation values\n",
    "housing = Housing[['value', 'date' ]].set_index('date')\n",
    "housing.index = pd.to_datetime(housing.index, format = \"%Y-%m-%d\")\n",
    "housing = housing.sort_index()\n",
    "\n",
    "#create dataframe with multipliers to adjust for 'Housing' inflation\n",
    "housing_adjusted = compare_to_value/housing"
   ]
  },
  {
   "cell_type": "code",
   "execution_count": null,
   "metadata": {},
   "outputs": [],
   "source": [
    "#ZRI-SCORES ADJUSTED USING SHELTER\n",
    "\n",
    "# remove 3 M13 (month 13) values (yearly average...only present for 2010-2012)\n",
    "Shelter = Shelter[~(Shelter.period == 'M13')]\n",
    "\n",
    "# Remove first 8 months which are not in the original ZRI Multi-Family table\n",
    "Shelter = Shelter.iloc[8:,:]\n",
    "\n",
    "# return the December of 2019 'Shelter' inflation index number\n",
    "compare_to_value = Shelter['value'].iloc[-1]\n",
    "\n",
    "# Dataframe with only data as index and Inflation values\n",
    "shelter = Shelter[['value', 'date' ]].set_index('date')\n",
    "shelter.index = pd.to_datetime(shelter.index, format = \"%Y-%m-%d\")\n",
    "shelter = shelter.sort_index()\n",
    "\n",
    "#create dataframe with multipliers to adjust for 'Shelter' inflation\n",
    "shelter_adjusted = compare_to_value/shelter"
   ]
  },
  {
   "cell_type": "markdown",
   "metadata": {},
   "source": [
    "ADJUST ZRI SCORES USING:\n",
    "- all_items_adjusted\n",
    "- housing_adjusted \n",
    "- shelter_adjusted \n",
    "\n",
    "IMPORT ZRI Multi-Family DataFrame"
   ]
  },
  {
   "cell_type": "code",
   "execution_count": null,
   "metadata": {},
   "outputs": [],
   "source": [
    "%%bigquery --use_rest_api ZRI_MF\n",
    "SELECT *\n",
    "FROM `high-empire-220313.ZRI.Multi_Family`\n",
    "\n",
    "ZRI_MF = ZRI_MF.set_index('RegionID', drop = False)\n",
    "\n",
    "# keep only ZRI Month/Year Columns\n",
    "# drop January 2020 because not include in inflation tables\n",
    "months_only = ZRI_MF.iloc[:,7:-1]\n",
    "\n",
    "all_items_adjusted_ZRI = months_only.mul(list(all_items_adjusted.value), axis = 1)\n",
    "\n",
    "housing_adjusted_ZRI = months_only.mul(list(housing_adjusted.value), axis = 1)\n",
    "\n",
    "shelter_adjusted_ZRI = months_only.mul(list(shelter_adjusted.value), axis = 1)\n",
    "\n",
    "year_columns = [x for x in ZRI_MF.columns if ('20' in x)]"
   ]
  },
  {
   "cell_type": "code",
   "execution_count": null,
   "metadata": {},
   "outputs": [],
   "source": [
    "from sklearn.linear_model import LinearRegression\n",
    "lr = LinearRegression()\n",
    "\n",
    "year_columns = [x for x in ZRI_MF.columns if ('20' in x)]\n",
    "def lregress(row):\n",
    "    '''\n",
    "    Performs a linear regression on one region's (row) ZRI over time. \n",
    "    Outputs the slope, intercept, MSE, and error, predicting the most recent month.\n",
    "    '''\n",
    "    years = row[year_columns[:-1]].reset_index().dropna()\n",
    "    if (years.empty) or (years.shape[0] < 3):\n",
    "        return(None,None,None,None)\n",
    "    y = years.dropna().iloc[:,1].values[:-1]\n",
    "    X = np.array(years.index)[:-1]\n",
    "    X_test = np.array(years.index)[-1]\n",
    "    y_test = years.iloc[:,1].values[-1]\n",
    "    lr.fit(X.reshape(-1,1),y)\n",
    "    test_residual = lr.predict(X_test.reshape(-1,1)) - y_test\n",
    "    return(lr.coef_[0],lr.intercept_,lr.score(X.reshape(-1,1),y),test_residual[0])"
   ]
  },
  {
   "cell_type": "code",
   "execution_count": null,
   "metadata": {},
   "outputs": [],
   "source": [
    "#WITHOUT INFLATION\n",
    "\n",
    "#Run lregress function on every row\n",
    "lr_data = ZRI_MF.apply(lregress,axis = 1)\n",
    "\n",
    "#Inputs results from lregress to the dataframe\n",
    "ZRI_MF['slope'] = [x[0] for x in lr_data]\n",
    "ZRI_MF['intercept'] = [x[1] for x in lr_data]\n",
    "ZRI_MF['score'] = [x[2] for x in lr_data]\n",
    "ZRI_MF['error'] = [x[3] for x in lr_data]\n",
    "\n",
    "#Print results of the lregress\n",
    "no_inflation_scores = pd.DataFrame(ZRI_MF[['slope',\n",
    "                                           'intercept',\n",
    "                                           'score',\n",
    "                                           'error']].describe())"
   ]
  },
  {
   "cell_type": "code",
   "execution_count": null,
   "metadata": {},
   "outputs": [],
   "source": [
    "# REGRESSION FOR ALL_ITEMS INFLATION\n",
    "\n",
    "#Run lregress function on every row\n",
    "lr_data_all = all_items_adjusted_ZRI.apply(lregress,axis = 1)\n",
    "\n",
    "#Inputs results from lregress to the dataframe\n",
    "all_items_adjusted_ZRI['slope'] = [x[0] for x in lr_data_all]\n",
    "all_items_adjusted_ZRI['intercept'] = [x[1] for x in lr_data_all]\n",
    "all_items_adjusted_ZRI['score'] = [x[2] for x in lr_data_all]\n",
    "all_items_adjusted_ZRI['error'] = [x[3] for x in lr_data_all]\n",
    "\n",
    "#Print results of the lregress\n",
    "all_items_inflation_scores = pd.DataFrame(all_items_adjusted_ZRI[['slope',\n",
    "                                                                  'intercept',\n",
    "                                                                  'score',\n",
    "                                                                  'error']].describe())"
   ]
  },
  {
   "cell_type": "code",
   "execution_count": null,
   "metadata": {},
   "outputs": [],
   "source": [
    "# REGRESSION FOR SHELTER INFLATION\n",
    "\n",
    "#Run lregress function on every row\n",
    "lr_data_shelter = shelter_adjusted_ZRI.apply(lregress,axis = 1)\n",
    "\n",
    "#Inputs results from lregress to the dataframe\n",
    "shelter_adjusted_ZRI['slope'] = [x[0] for x in lr_data_shelter]\n",
    "shelter_adjusted_ZRI['intercept'] = [x[1] for x in lr_data_shelter]\n",
    "shelter_adjusted_ZRI['score'] = [x[2] for x in lr_data_shelter]\n",
    "shelter_adjusted_ZRI['error'] = [x[3] for x in lr_data_shelter]\n",
    "\n",
    "#Print results of the lregress\n",
    "shelter_inflation_scores = pd.DataFrame(shelter_adjusted_ZRI[['slope',\n",
    "                                                              'intercept',\n",
    "                                                              'score',\n",
    "                                                              'error']].describe())"
   ]
  },
  {
   "cell_type": "code",
   "execution_count": null,
   "metadata": {},
   "outputs": [],
   "source": [
    "# REGRESSION FOR HOUSING INFLATION\n",
    "\n",
    "#Run lregress function on every row\n",
    "lr_data_housing = housing_adjusted_ZRI.apply(lregress,axis = 1)\n",
    "\n",
    "#Inputs results from lregress to the dataframe\n",
    "housing_adjusted_ZRI['slope'] = [x[0] for x in lr_data_housing]\n",
    "housing_adjusted_ZRI['intercept'] = [x[1] for x in lr_data_housing]\n",
    "housing_adjusted_ZRI['score'] = [x[2] for x in lr_data_housing]\n",
    "housing_adjusted_ZRI['error'] = [x[3] for x in lr_data_housing]\n",
    "\n",
    "#Print results of the lregress\n",
    "housing_inflation_scores = pd.DataFrame(housing_adjusted_ZRI[['slope',\n",
    "                                                              'intercept',\n",
    "                                                              'score',\n",
    "                                                              'error']].describe())"
   ]
  },
  {
   "cell_type": "code",
   "execution_count": null,
   "metadata": {},
   "outputs": [],
   "source": [
    "# Dataframe of difference between no inflation and all_items scores\n",
    "no_all_diff = no_inflation_scores - all_items_inflation_scores\n",
    "\n",
    "# Dataframe of difference between no inflation and shelter scores\n",
    "no_shelter_diff = no_inflation_scores - shelter_inflation_scores\n",
    "\n",
    "# Dataframe of difference between no inflation and housing scores\n",
    "no_housing_diff = no_inflation_scores - housing_inflation_scores"
   ]
  },
  {
   "cell_type": "code",
   "execution_count": null,
   "metadata": {},
   "outputs": [],
   "source": [
    "#Add prefix so we can distinguish between column names after dataframes are combined.\n",
    "\n",
    "no_inflation_scores = no_inflation_scores.add_suffix('_Orig')\n",
    "all_items_inflation_scores = all_items_inflation_scores.add_suffix('_All')\n",
    "housing_inflation_scores = housing_inflation_scores.add_suffix('_Hous')\n",
    "shelter_inflation_scores = shelter_inflation_scores.add_suffix('_Shel')\n",
    "\n",
    "# combined results for the 4 different regressions\n",
    "four_score_comparison = pd.concat([no_inflation_scores, \n",
    "                                   all_items_inflation_scores, \n",
    "                                   housing_inflation_scores, \n",
    "                                   shelter_inflation_scores], \n",
    "                                  axis = 1, sort = True).sort_index(axis = 1)\n",
    "\n",
    "# separate each error into it's own datafram\n",
    "errors = four_score_comparison.iloc[:,:4]\n",
    "intercepts = four_score_comparison.iloc[:,4:8]\n",
    "scores = four_score_comparison.iloc[:,8:12]\n",
    "slopes = four_score_comparison.iloc[:,12:]\n",
    "\n",
    "# rearrange so that the original (no inflation) values are listed first\n",
    "errors = errors[['error_Orig','error_All', 'error_Hous',  'error_Shel']]\n",
    "intercepts = intercepts[['intercept_Orig','intercept_All', 'intercept_Hous', 'intercept_Shel']]\n",
    "scores = scores[['score_Orig', 'score_All', 'score_Hous',  'score_Shel']]\n",
    "slopes = slopes[['slope_Orig', 'slope_All', 'slope_Hous', 'slope_Shel']]\n",
    "\n",
    "#Reordered, combinded data with no inflation data first for each measure\n",
    "four_score_comparison = pd.concat([errors, intercepts, scores, slopes], axis = 1)"
   ]
  }
 ],
 "metadata": {
  "kernelspec": {
   "display_name": "Python 3",
   "language": "python",
   "name": "python3"
  },
  "language_info": {
   "codemirror_mode": {
    "name": "ipython",
    "version": 3
   },
   "file_extension": ".py",
   "mimetype": "text/x-python",
   "name": "python",
   "nbconvert_exporter": "python",
   "pygments_lexer": "ipython3",
   "version": "3.7.4"
  }
 },
 "nbformat": 4,
 "nbformat_minor": 2
}
