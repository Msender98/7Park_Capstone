{
 "cells": [
  {
   "cell_type": "markdown",
   "metadata": {},
   "source": [
    "# INFLATION\n",
    "## There are 29 different types of inflation measured by the Bureau of Labor Statistics (BLS)\n",
    "### ***NOTE***:  The December 1999 score of 100.0 is *Baseline*, or starting level, for each inflation score type.\n",
    "#### The monthly data for years 2010-2019 for each inflation type is separated into different dataframes below, using the inflation type as the dataframe name (*i.e. All_items, Housing, Shelter*)."
   ]
  },
  {
   "cell_type": "code",
   "execution_count": null,
   "metadata": {},
   "outputs": [],
   "source": [
    "import os\n",
    "import pandas as pd\n",
    "import numpy as np\n",
    "import matplotlib.pyplot as plt\n",
    "import config\n",
    "\n",
    "pd.set_option('display.max_columns', 100, 'display.max_rows', 10)\n",
    "\n",
    "#Load google.cloud.bigquery\n",
    "%load_ext google.cloud.bigquery\n",
    "\n",
    "#Select path to credentials\n",
    "os.environ[\"GOOGLE_APPLICATION_CREDENTIALS\"]=config.GOOGLE_APPLICATION_CREDENTIALS"
   ]
  },
  {
   "cell_type": "code",
   "execution_count": null,
   "metadata": {},
   "outputs": [],
   "source": [
    "%%bigquery --use_rest_api inflation\n",
    "SELECT *\n",
    "FROM `bigquery-public-data.bls.c_cpi_u`"
   ]
  },
  {
   "cell_type": "code",
   "execution_count": null,
   "metadata": {},
   "outputs": [],
   "source": [
    "#make copy of inflation to preserve original before changing it\n",
    "all_inflation2010_2019 = inflation.copy()\n",
    "\n",
    "#filtering for only months from 2010-2019\n",
    "all_inflation2010_2019 = all_inflation2010_2019.loc[(all_inflation2010_2019['year'] < 2020)\n",
    "                                                    & (all_inflation2010_2019['year'] > 2009)]\n",
    "\n",
    "#replacing ' ' with '_' for the item_name column (type of inflation)\n",
    "all_inflation2010_2019.loc[:,'item_name'] = all_inflation2010_2019['item_name'].str.replace(' ', '_') \n",
    "\n",
    "#create list of all the different types of inflation\n",
    "item_names = list(all_inflation2010_2019['item_name'].unique())\n",
    "\n",
    "#Create dataframe for one of the groupby inflation types\n",
    "all_inflation2010_2019.groupby('item_name').get_group('All_items')\n",
    "\n",
    "# This assigns a variable name (the inflation type) to each dataframe\n",
    "All_items, Energy, All_items_less_food_and_energy,Apparel, Commodities, Durables, \\\n",
    "Education_and_communication, Education,Communication,Food_and_beverages ,Food,\\\n",
    "Food_at_home ,Alcoholic_beverages ,Other_goods_and_services ,Housing ,Shelter, \\\n",
    "Fuels_and_utilities ,Household_furnishings_and_operations ,Medical_care , \\\n",
    "Medical_care_commodities ,Medical_care_services ,Nondurables ,Recreation,Services, \\\n",
    "Transportation ,Private_transportation ,Food_away_from_home ,New_vehicles, \\\n",
    "Public_transportation = [all_inflation2010_2019.groupby('item_name').get_group(item_name)\n",
    " for item_name in item_names]"
   ]
  },
  {
   "cell_type": "code",
   "execution_count": null,
   "metadata": {},
   "outputs": [],
   "source": [
    "# Inflation dataframe for all items\n",
    "All_items"
   ]
  },
  {
   "cell_type": "code",
   "execution_count": null,
   "metadata": {},
   "outputs": [],
   "source": [
    "#Inflation dataframe for housing\n",
    "Housing"
   ]
  },
  {
   "cell_type": "code",
   "execution_count": null,
   "metadata": {},
   "outputs": [],
   "source": [
    "#Inflation dataframe for shelter\n",
    "Shelter"
   ]
  }
 ],
 "metadata": {
  "kernelspec": {
   "display_name": "Python 3",
   "language": "python",
   "name": "python3"
  },
  "language_info": {
   "codemirror_mode": {
    "name": "ipython",
    "version": 3
   },
   "file_extension": ".py",
   "mimetype": "text/x-python",
   "name": "python",
   "nbconvert_exporter": "python",
   "pygments_lexer": "ipython3",
   "version": "3.7.4"
  }
 },
 "nbformat": 4,
 "nbformat_minor": 2
}
