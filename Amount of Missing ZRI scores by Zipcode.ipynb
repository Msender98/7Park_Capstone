{
 "cells": [
  {
   "cell_type": "code",
   "execution_count": null,
   "metadata": {},
   "outputs": [],
   "source": [
    "import os\n",
    "import pandas as pd\n",
    "pd.set_option('display.max_columns', 100, 'display.max_rows', 150)\n",
    "import numpy as np\n",
    "import matplotlib.pyplot as plt\n",
    "import config\n",
    "\n",
    "#Load google.cloud.bigquery\n",
    "%load_ext google.cloud.bigquery\n",
    "\n",
    "#Select path to credentials\n",
    "os.environ[\"GOOGLE_APPLICATION_CREDENTIALS\"]=config.GOOGLE_APPLICATION_CREDENTIALS"
   ]
  },
  {
   "cell_type": "code",
   "execution_count": null,
   "metadata": {},
   "outputs": [],
   "source": [
    "%%bigquery --use_rest_api ZRI_MF\n",
    "SELECT *\n",
    "FROM `high-empire-220313.ZRI.Multi_Family`"
   ]
  },
  {
   "cell_type": "code",
   "execution_count": null,
   "metadata": {},
   "outputs": [],
   "source": [
    "ZRI_MF = ZRI_MF.set_index('RegionID', drop = False)\n",
    "\n",
    "# keep only ZRI Month/Year Columns\n",
    "months_only = ZRI_MF.iloc[:,7:-4]"
   ]
  },
  {
   "cell_type": "code",
   "execution_count": null,
   "metadata": {},
   "outputs": [],
   "source": [
    "# missing values by month\n",
    "## generally speaking, early months (closer to 2010) have more missing values\n",
    "missing_per_month = pd.DataFrame(months_only.isnull().sum()).sort_values(0)\n",
    "\n",
    "#percent missing by month\n",
    "percent_missing_month = missing_per_month / len(months_only)\n",
    "\n",
    "#Change index to datetime\n",
    "percent_missing_month.index = pd.to_datetime(percent_missing_month.index, format = \"_%Y_%m\")\n",
    "\n",
    "#sort_index (earliest first)\n",
    "percent_missing_month = percent_missing_month.sort_index()\n",
    "\n",
    "# Create Plot - Percent of ZRI Scores Missing per Month\n",
    "plt.plot(percent_missing_month)\n",
    "plt.title('Percent of ZRI Scores Missing per Month')\n",
    "plt.xlabel('Month/Year')\n",
    "plt.ylabel('Percent of ZRI Scores Missing')"
   ]
  },
  {
   "cell_type": "code",
   "execution_count": null,
   "metadata": {},
   "outputs": [],
   "source": [
    "#GOAL: FIND ALL ROWS WITH ANY MISSING ZRI VALUES\n",
    "\n",
    "#convert entire dataframe into Boolean values\n",
    "is_NaN = months_only.isnull()\n",
    "\n",
    "#Create Boolean for rows with missing values\n",
    "row_has_NaN = is_NaN.any(axis=1)\n",
    "\n",
    "#retrun dataframe with rows that are missing at least one ZRI score\n",
    "rows_with_NaN = months_only[row_has_NaN]\n",
    "\n",
    "# 1632 out of 1861 rows have at least one missing value (87.69%)\n",
    "rows_with_NaN"
   ]
  },
  {
   "cell_type": "code",
   "execution_count": null,
   "metadata": {},
   "outputs": [],
   "source": [
    "# Number of recorded ZRI's for each zipcode\n",
    "ZRI_num = months_only.count(axis = 1)\n",
    "#convert to Dataframe\n",
    "pd_num_missing_ZRI=pd.DataFrame(ZRI_num)\n",
    "\n",
    "# change column name from 0 to ZRIs\n",
    "pd_num_missing_ZRI['ZRIs'] = pd_num_missing_ZRI[0]\n",
    "pd_num_missing_ZRI = pd_num_missing_ZRI.drop(columns = 0)\n",
    "\n",
    "#create dataframe with number of zipcodes having 0 - 109 ZRI scores\n",
    "count_missing_num = pd.DataFrame(pd_num_missing_ZRI.groupby('ZRIs')['ZRIs'].count())\n",
    "\n",
    "# Create 'Number of zipcodes having 0 - 109 ZRI scores' plot\n",
    "plt.plot(count_missing_num)\n",
    "plt.title('Number of zipcodes having 0 - 109 ZRI scores')\n",
    "plt.xlabel('Number of ZRI scores')\n",
    "plt.ylabel('Number of Zipcodes')\n",
    "#Note: Having 67 and 68 scores breaks from the pattern"
   ]
  },
  {
   "cell_type": "code",
   "execution_count": null,
   "metadata": {},
   "outputs": [],
   "source": [
    "# zipcodes that have exacly 67 ZRI scores\n",
    "zri_67 = pd_num_missing_ZRI[pd_num_missing_ZRI ==67].dropna()\n",
    "\n",
    "# zipcodes that have exacly 68 ZRI scores\n",
    "zri_68 = pd_num_missing_ZRI[pd_num_missing_ZRI ==68].dropna()\n",
    "\n",
    "# combine the 67 and 68 dataframes\n",
    "zri_67_68= pd.concat([zri_67,zri_68])\n",
    "\n",
    "#separately merge zri_67, zri_68, and zri_67_68 with original ZRI_MF dataframe\n",
    "df_zri_67 = pd.merge(zri_67, ZRI_MF, left_index=True, right_index=True)\n",
    "df_zri_68 = pd.merge(zri_68, ZRI_MF, left_index=True, right_index=True)\n",
    "df_zri_67_68 = pd.merge(zri_67_68, ZRI_MF, left_index=True, right_index=True)"
   ]
  }
 ],
 "metadata": {
  "kernelspec": {
   "display_name": "Python 3",
   "language": "python",
   "name": "python3"
  },
  "language_info": {
   "codemirror_mode": {
    "name": "ipython",
    "version": 3
   },
   "file_extension": ".py",
   "mimetype": "text/x-python",
   "name": "python",
   "nbconvert_exporter": "python",
   "pygments_lexer": "ipython3",
   "version": "3.7.4"
  }
 },
 "nbformat": 4,
 "nbformat_minor": 2
}
